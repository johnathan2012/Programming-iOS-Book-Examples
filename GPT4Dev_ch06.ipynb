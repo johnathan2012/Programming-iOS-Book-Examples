{
  "cells": [
    {
      "cell_type": "markdown",
      "metadata": {
        "id": "view-in-github",
        "colab_type": "text"
      },
      "source": [
        "<a href=\"https://colab.research.google.com/github/johnathan2012/Programming-iOS-Book-Examples/blob/master/GPT4Dev_ch06.ipynb\" target=\"_parent\"><img src=\"https://colab.research.google.com/assets/colab-badge.svg\" alt=\"Open In Colab\"/></a>"
      ]
    },
    {
      "cell_type": "markdown",
      "metadata": {
        "id": "eNYngg3YPEp5"
      },
      "source": [
        "# 6 讓 AI 幫 AI－自動串接流程"
      ]
    },
    {
      "cell_type": "markdown",
      "metadata": {
        "id": "aQoeKOv30XwE"
      },
      "source": [
        "## 6-1 從 ChatGPT 外掛得到的啟示"
      ]
    },
    {
      "cell_type": "markdown",
      "metadata": {
        "id": "ccVUpuXM9dRz"
      },
      "source": [
        "### 準備工作\n",
        "\n",
        "安裝必要的套件與匯入相關模組後建立用戶端物件"
      ]
    },
    {
      "cell_type": "code",
      "execution_count": null,
      "metadata": {
        "id": "R1CAsaxl9_v4"
      },
      "outputs": [],
      "source": [
        "!pip install openai\n",
        "!pip install rich\n",
        "!pip install googlesearch-python\n",
        "import openai\n",
        "from googlesearch import search\n",
        "from google.colab import userdata\n",
        "from rich import print as pprint\n",
        "client = openai.OpenAI(api_key=userdata.get('OPENAI_API_KEY'))"
      ]
    },
    {
      "cell_type": "markdown",
      "metadata": {
        "id": "u7x3do07bs6c"
      },
      "source": [
        "### 搭配串流/非串流模式的工具函式"
      ]
    },
    {
      "cell_type": "code",
      "execution_count": null,
      "metadata": {
        "id": "bpHqQNiMfemv"
      },
      "outputs": [],
      "source": [
        "def get_reply_g(messages, stream=False, json_format=False):\n",
        "    try:\n",
        "        json_msg = [{\n",
        "            'role': 'system', 'content': '請用 JSON 回覆'\n",
        "        }] if json_format else []\n",
        "        response = client.chat.completions.create(\n",
        "            model = \"gpt-4-1106-preview\",\n",
        "            messages = messages + json_msg,\n",
        "            stream = stream,\n",
        "            response_format = {\n",
        "                'type': \"json_object\" if json_format else 'text'\n",
        "            }\n",
        "        )\n",
        "        if stream: # 串留模式下交給輔助函式取得完整文字\n",
        "            for res in response:\n",
        "                yield res.choices[0].delta.content or ''\n",
        "        else:      # 非串流模式下可直接取得完整回覆文字\n",
        "            yield response.choices[0].message.content\n",
        "    except openai.APIError as err:\n",
        "        reply = f\"發生錯誤\\n{err.message}\"\n",
        "        print(reply)\n",
        "        yield reply"
      ]
    },
    {
      "cell_type": "code",
      "execution_count": null,
      "metadata": {
        "id": "Iugjm69PSbfF"
      },
      "outputs": [],
      "source": [
        "# 測試非串流模式的情況\n",
        "for reply in get_reply_g([{'role':'user', 'content':'你好'}]):\n",
        "    print(reply)"
      ]
    },
    {
      "cell_type": "code",
      "execution_count": null,
      "metadata": {
        "id": "Ec1Nb2keZlg_"
      },
      "outputs": [],
      "source": [
        "# 測試串流模式的情況\n",
        "for msg in get_reply_g([{'role':'user', 'content':'你好'}], True):\n",
        "    print(msg, end='')"
      ]
    },
    {
      "cell_type": "code",
      "execution_count": null,
      "metadata": {
        "id": "L1srs4bpRDwy"
      },
      "outputs": [],
      "source": [
        "# 測試 JSON 格式輸出\n",
        "for reply in get_reply_g(\n",
        "    [{'role':'user', 'content':'你好'}],\n",
        "    json_format=True\n",
        "):\n",
        "    print(reply)"
      ]
    },
    {
      "cell_type": "markdown",
      "metadata": {
        "id": "6ontn4Qp0nDb"
      },
      "source": [
        "## 6-2 由 AI 自動判斷要額外進行的工作"
      ]
    },
    {
      "cell_type": "markdown",
      "metadata": {
        "id": "Z4__qmyBb1sd"
      },
      "source": [
        "### 撰寫判斷是否需要搜尋的工具函式"
      ]
    },
    {
      "cell_type": "code",
      "execution_count": null,
      "metadata": {
        "id": "-utgajNExsEE"
      },
      "outputs": [],
      "source": [
        "# 用來詢問是否需要搜尋才能回覆問題的樣板\n",
        "# 要求 AI 以 JSON 格式回覆 Y/N 以及建議的搜尋關鍵字\n",
        "template_google = '''\n",
        "如果我想知道以下這件事, 請確認是否需要網路搜尋才做得到？\n",
        "\n",
        "```\n",
        "{}\n",
        "```\n",
        "\n",
        "如果需要, 請以下列 JSON 格式回答我, 除了 JSON 格式資料外,\n",
        "不要加上額外資訊, 就算你知道答案, 也不要回覆：\n",
        "\n",
        "```\n",
        "{{\n",
        "    \"search\":\"Y\",\n",
        "    \"keyword\":\"你建議的搜尋關鍵字\"\n",
        "}}\n",
        "```\n",
        "如果不需要, 請以下列 JSON 格式回答我：\n",
        "\n",
        "```\n",
        "{{\n",
        "    \"search\":\"N\",\n",
        "    \"keyword\":\"\"\n",
        "}}\n",
        "'''"
      ]
    },
    {
      "cell_type": "code",
      "execution_count": null,
      "metadata": {
        "id": "_wBoRh5aMaUR"
      },
      "outputs": [],
      "source": [
        "# 利用目前歷史紀錄以及樣板內容詢問是否需要搜尋才能回覆問題\n",
        "# 如果需要回覆, 也同時取得 AI 推薦的搜尋關鍵字\n",
        "def check_google(hist, msg, verbose=False):\n",
        "    reply = get_reply_g(\n",
        "        hist + [{  # 加入歷史紀錄 AI 才能推薦正確的關鍵字\n",
        "            \"role\": \"user\",\n",
        "            \"content\": template_google.format(msg)\n",
        "        }], json_format=True)\n",
        "    for ans in reply:pass\n",
        "    if verbose: print(ans)\n",
        "    return ans"
      ]
    },
    {
      "cell_type": "code",
      "execution_count": null,
      "metadata": {
        "id": "x0HzE8hQM5sT"
      },
      "outputs": [],
      "source": [
        "# 測試需要搜尋的狀況\n",
        "ans = check_google(\n",
        "    [], '2023 金馬影后是誰？', True\n",
        ")\n",
        "# 測試可能不需要搜尋的狀況\n",
        "ans = check_google(\n",
        "    [], '新冠疫情是哪一年開始的？', True\n",
        ")\n",
        "# 測試沒有前文脈絡的狀況\n",
        "ans = check_google(\n",
        "    [], '那台灣呢？', True\n",
        ")\n",
        "# 測試包含前文脈絡的狀況\n",
        "ans = check_google(\n",
        "    [{'role':'assistant', 'content': '印度空污好嚴重'}],\n",
        "    '那台灣呢？', True\n",
        ")"
      ]
    },
    {
      "cell_type": "code",
      "execution_count": null,
      "metadata": {
        "id": "u3ng7lsCbH6D"
      },
      "outputs": [],
      "source": [
        "def google_res(user_msg, num_results=5, verbose=False):\n",
        "    content = \"以下為已發生的事實：\\n\"                # 強調資料可信度\n",
        "    for res in search(user_msg, advanced=True,    # 一一串接搜尋結果\n",
        "                      num_results=num_results,\n",
        "                      lang='zh-TW'):\n",
        "        content += f\"標題：{res.title}\\n\" \\\n",
        "                    f\"摘要：{res.description}\\n\\n\"\n",
        "    content += \"請依照上述事實回答以下問題：\\n\"        # 下達明確指令\n",
        "    if verbose:\n",
        "        print('------------')\n",
        "        print(content)\n",
        "        print('------------')\n",
        "    return content"
      ]
    },
    {
      "cell_type": "code",
      "execution_count": null,
      "metadata": {
        "id": "_RtZC9BLuJpv"
      },
      "outputs": [],
      "source": [
        "res = google_res('2023 金馬獎影后是誰？', 2, verbose=True)"
      ]
    },
    {
      "cell_type": "markdown",
      "metadata": {
        "id": "UilIxFrRSxYK"
      },
      "source": [
        "### 可自行判斷是否進行網路搜尋的聊天程式"
      ]
    },
    {
      "cell_type": "code",
      "execution_count": null,
      "metadata": {
        "id": "1UIcjOjqgffE"
      },
      "outputs": [],
      "source": [
        "import json\n",
        "hist = []       # 歷史對話紀錄\n",
        "backtrace = 2   # 記錄幾組對話\n",
        "\n",
        "def chat_g(sys_msg, user_msg, stream=False, verbose=False):\n",
        "    global hist\n",
        "    messages = [{'role':'user', 'content':user_msg}]\n",
        "    ans = json.loads(check_google(hist, user_msg,\n",
        "                                  verbose=verbose))\n",
        "    if ans['search'] == 'Y':\n",
        "        print(f'嘗試透過網路搜尋：{ans[\"keyword\"]}....')\n",
        "        res = google_res(ans['keyword'], verbose=verbose)\n",
        "        messages = [{'role':'user', 'content': res + user_msg}]\n",
        "\n",
        "    replies = get_reply_g(            # 使用搜尋版的函式\n",
        "        hist        # 先提供歷史紀錄\n",
        "        + messages  # 再提供搜尋結果及目前訊息\n",
        "        + [{\"role\": \"system\", \"content\": sys_msg}],\n",
        "        stream)\n",
        "    reply_full = ''\n",
        "    for reply in replies:\n",
        "        reply_full += reply\n",
        "        yield reply\n",
        "\n",
        "    hist.append({\"role\":\"user\", \"content\":user_msg})\n",
        "    hist.append({\"role\":\"assistant\", \"content\":reply_full})\n",
        "    hist = hist[-2 * backtrace:] # 保留最新對話"
      ]
    },
    {
      "cell_type": "code",
      "execution_count": null,
      "metadata": {
        "id": "21fxgL_qg7r-"
      },
      "outputs": [],
      "source": [
        "sys_msg = input(\"你希望ㄟ唉扮演：\")\n",
        "if not sys_msg.strip(): sys_msg = '使用繁體中文的小助理'\n",
        "print()\n",
        "\n",
        "while True:\n",
        "    msg = input(\"你說：\")\n",
        "    if not msg.strip(): break\n",
        "    print(f\"{sys_msg}：\", end = \"\")\n",
        "    # 不論是字串或是生成器, 都可以適用 for...in 迴圈\n",
        "    for reply in chat_g(sys_msg, msg, stream=False):\n",
        "        print(reply, end = \"\")\n",
        "    print('\\n')\n",
        "hist = []"
      ]
    },
    {
      "cell_type": "markdown",
      "metadata": {
        "id": "iR66bWoL1MEG"
      },
      "source": [
        "## 6-3 可建構外掛系統的 Function Calling 機制"
      ]
    },
    {
      "cell_type": "markdown",
      "metadata": {
        "id": "byrjSV6Wv5i2"
      },
      "source": [
        "**Function calling 機制**\n",
        "\n",
        "Function calling 機制可以讓我們提供可用函式的規格, 由 AI 幫我們判斷是否需要叫用其中的函式。"
      ]
    },
    {
      "cell_type": "markdown",
      "metadata": {
        "id": "33kQwvMXqnPO"
      },
      "source": [
        "### 告知語言模型可用的外部工具函式"
      ]
    },
    {
      "cell_type": "code",
      "execution_count": null,
      "metadata": {
        "id": "MV2VyR2GoPpe"
      },
      "outputs": [],
      "source": [
        "response = client.chat.completions.create(\n",
        "    model = \"gpt-4-1106-preview\",\n",
        "    messages = [{\"role\":\"user\", \"content\":\"2023 金馬獎影后是誰？\"}],\n",
        "    tools = [{ # 可用的函式清單\n",
        "        \"type\":\"function\",\n",
        "        \"function\": {\n",
        "            \"name\": \"google_res\",                     # 函式名稱\n",
        "            \"description\": \"取得 Google 搜尋結果\",      # 函式說明\n",
        "            \"parameters\": {\n",
        "                \"type\": \"object\",\n",
        "                \"properties\": {\n",
        "                    \"user_msg\": {                     # 參數名稱\n",
        "                        \"type\": \"string\",             # 資料型別\n",
        "                        \"description\": \"要搜尋的關鍵字\", # 參數說明\n",
        "                    }\n",
        "                },\n",
        "                \"required\": [\"user_msg\"],             # 必要參數\n",
        "            },\n",
        "        }\n",
        "    }],\n",
        "    tool_choice = \"auto\")       # 請 AI 判斷是否需要叫用函式"
      ]
    },
    {
      "cell_type": "markdown",
      "metadata": {
        "id": "DNOcLUYwq0Vu"
      },
      "source": [
        "若 API 判斷需要叫用你描述的函式, 會在回覆中以 function_call 項目描述要叫用的函式名稱與參數值。"
      ]
    },
    {
      "cell_type": "markdown",
      "metadata": {
        "id": "Cf9b8aoETuof"
      },
      "source": [
        "### 取得語言模型的建議"
      ]
    },
    {
      "cell_type": "code",
      "execution_count": null,
      "metadata": {
        "id": "2qmxJli_qTxl"
      },
      "outputs": [],
      "source": [
        "pprint(response)"
      ]
    },
    {
      "cell_type": "code",
      "execution_count": null,
      "metadata": {
        "id": "LUSrFvHE0IM4"
      },
      "outputs": [],
      "source": [
        "tool_call = response.choices[0].message.tool_calls[0]\n",
        "func_name = tool_call.function.name\n",
        "import json\n",
        "args = json.loads(tool_call.function.arguments)\n",
        "arg_val = args.popitem()[1]\n",
        "print(f'{func_name}(\"{arg_val}\")')"
      ]
    },
    {
      "cell_type": "markdown",
      "metadata": {
        "id": "gwnrQzio3wQK"
      },
      "source": [
        "### 執行函式並傳回結果\n",
        "\n",
        "你必須自行叫用函式, 並且將執行結果透過 function 角色的訊息傳回"
      ]
    },
    {
      "cell_type": "code",
      "execution_count": null,
      "metadata": {
        "id": "IaSwYSFETbHl"
      },
      "outputs": [],
      "source": [
        "# 用來過濾掉訊息中 function_call 欄位的函式\n",
        "# 由於 function_call 在請求中和 tool_choice 是同樣的功能\n",
        "# 如果一併傳回會造成錯誤, 所以我們這裡特別濾掉\n",
        "# def make_tool_back_msg(tool_msg):\n",
        "#     msg_json = tool_msg.model_dump()\n",
        "#     tool_back_msg = {\n",
        "#         'content': msg_json['content'],\n",
        "#         'role': msg_json['role'],\n",
        "#         'tool_calls': msg_json['tool_calls']\n",
        "#     }\n",
        "#     return tool_back_msg"
      ]
    },
    {
      "cell_type": "code",
      "source": [
        "# 用來過濾掉訊息中 function_call 欄位的函式\n",
        "# 由於 function_call 在請求中和 tool_choice 是同樣的功能\n",
        "# 如果一併傳回會造成錯誤, 所以我們這裡特別濾掉\n",
        "def make_tool_back_msg(tool_msg):\n",
        "    msg_json = tool_msg.model_dump()\n",
        "    del msg_json['function_call']\n",
        "    return msg_json"
      ],
      "metadata": {
        "id": "55I2kUUcR8e4"
      },
      "execution_count": null,
      "outputs": []
    },
    {
      "cell_type": "code",
      "execution_count": null,
      "metadata": {
        "id": "nybm9QfezrdT"
      },
      "outputs": [],
      "source": [
        "response = client.chat.completions.create(\n",
        "    model='gpt-4-1106-preview',\n",
        "    messages=[\n",
        "        {\"role\":\"user\", \"content\":\"2023 金馬獎影后是誰？\"},\n",
        "        # 傳回 AI 傳給我們的 function calling 結果\n",
        "        make_tool_back_msg(response.choices[0].message),\n",
        "        {   # 以 function 角色加上 name 屬性指定函式名稱傳回執行結果\n",
        "            \"tool_call_id\": tool_call.id, # 叫用函式的識別碼\n",
        "            \"role\": \"tool\", # 以工具角色送出回覆\n",
        "            \"name\": func_name, # 叫用的函式名稱\n",
        "            \"content\": eval(f'{func_name}(\"{arg_val}\")') # 函式傳回值\n",
        "        }\n",
        "    ]\n",
        ")"
      ]
    },
    {
      "cell_type": "code",
      "execution_count": null,
      "metadata": {
        "id": "gNzBfp03052c"
      },
      "outputs": [],
      "source": [
        "print(response.choices[0].message.content)"
      ]
    },
    {
      "cell_type": "markdown",
      "metadata": {
        "id": "zF9ACHjdVbCV"
      },
      "source": [
        "### 同時叫用多個函式 (parallel function calling)\n",
        "\n",
        "2023/11/06 之後的模型支援單次對話可以要求執行多個函式呼叫："
      ]
    },
    {
      "cell_type": "code",
      "execution_count": null,
      "metadata": {
        "id": "tJnRX6H_Um1J"
      },
      "outputs": [],
      "source": [
        "response = client.chat.completions.create(\n",
        "    model = \"gpt-4-1106-preview\",\n",
        "    messages = [{\n",
        "        \"role\":\"user\",\n",
        "        \"content\":\"2023 金曲獎歌后和金馬獎影后各是誰？\"}],\n",
        "    tools = [{ # 可用的函式清單\n",
        "        \"type\":\"function\",\n",
        "        \"function\": {\n",
        "            \"name\": \"google_res\",                     # 函式名稱\n",
        "            \"description\": \"取得 Google 搜尋結果\",      # 函式說明\n",
        "            \"parameters\": {\n",
        "                \"type\": \"object\",\n",
        "                \"properties\": {\n",
        "                    \"user_msg\": {                     # 參數名稱\n",
        "                        \"type\": \"string\",             # 資料類型\n",
        "                        \"description\": \"要搜尋的關鍵字\", # 參數說明\n",
        "                    }\n",
        "                },\n",
        "                \"required\": [\"user_msg\"],             # 必要參數\n",
        "            },\n",
        "        }\n",
        "    }],\n",
        "    tool_choice = \"auto\")       # 請 AI 判斷是否需要叫用函式"
      ]
    },
    {
      "cell_type": "code",
      "execution_count": null,
      "metadata": {
        "id": "VhSZ_0UNWE_n"
      },
      "outputs": [],
      "source": [
        "pprint(response)"
      ]
    },
    {
      "cell_type": "code",
      "execution_count": null,
      "metadata": {
        "id": "Efx1DRycWM0g"
      },
      "outputs": [],
      "source": [
        "def make_func_messages(tool_calls):\n",
        "    messages = []\n",
        "    for tool_call in tool_calls:\n",
        "        func = tool_call.function\n",
        "        args_val = json.loads(func.arguments).popitem()[1]\n",
        "        print(f'{func.name}(\"{args_val}\")')\n",
        "        messages.append({\n",
        "            \"tool_call_id\": tool_call.id, # 叫用函式的識別碼\n",
        "            \"role\": \"tool\", # 以工具角色送出回覆\n",
        "            \"name\": func.name, # 叫用的函式名稱\n",
        "            \"content\": eval(f'{func.name}(\"{args_val}\")') # 傳回值\n",
        "        })\n",
        "    return messages"
      ]
    },
    {
      "cell_type": "code",
      "source": [
        "msges = make_func_messages(response.choices[0].message.tool_calls)\n",
        "pprint(msges)"
      ],
      "metadata": {
        "id": "he4MVmnr3Ya2"
      },
      "execution_count": null,
      "outputs": []
    },
    {
      "cell_type": "code",
      "execution_count": null,
      "metadata": {
        "id": "2rjyVICeWXxH"
      },
      "outputs": [],
      "source": [
        "response = client.chat.completions.create(\n",
        "    model='gpt-4-1106-preview',\n",
        "    messages=[{\n",
        "        \"role\":\"user\",\n",
        "        \"content\":\"2023 金曲獎歌后和金馬獎影后各是誰？\"},\n",
        "        # 傳回 AI 傳給我們的 function calling 結果\n",
        "        make_tool_back_msg(response.choices[0].message),\n",
        "    ] + msges\n",
        ")"
      ]
    },
    {
      "cell_type": "code",
      "execution_count": null,
      "metadata": {
        "id": "uvFRBoo9Wkul"
      },
      "outputs": [],
      "source": [
        "print(response.choices[0].message.content)"
      ]
    },
    {
      "cell_type": "markdown",
      "metadata": {
        "id": "M527Isb35K_m"
      },
      "source": [
        "### 以串流方式使用 function calling"
      ]
    },
    {
      "cell_type": "code",
      "execution_count": null,
      "metadata": {
        "id": "q8zKX0Nf3Es9"
      },
      "outputs": [],
      "source": [
        "response = client.chat.completions.create(\n",
        "    model = \"gpt-4-1106-preview\",\n",
        "    messages = [{\"role\":\"user\",\n",
        "                 \"content\":\"2023 金馬獎影后和金曲獎歌后各是誰？\"}],\n",
        "    tools = [{\n",
        "        \"type\": \"function\",                           # 工具類型\n",
        "        \"function\": {\n",
        "            \"name\": \"google_res\",                     # 函式名稱\n",
        "            \"description\": \"取得 Google 搜尋結果\",      # 函式說明\n",
        "            \"parameters\": {\n",
        "                \"type\": \"object\",\n",
        "                \"properties\": {\n",
        "                    \"user_msg\": {                     # 參數名稱\n",
        "                        \"type\": \"string\",\n",
        "                        \"description\": \"要搜尋的關鍵字\", # 參數說明\n",
        "                    }\n",
        "                },\n",
        "                \"required\": [\"user_msg\"],\n",
        "            },\n",
        "        }\n",
        "    }],\n",
        "    tool_choice = \"auto\", # 請 AI 判斷是否需要使用工具\n",
        "    stream=True\n",
        ")"
      ]
    },
    {
      "cell_type": "markdown",
      "metadata": {
        "id": "5G8g3ln85lgI"
      },
      "source": [
        "傳回結果一樣是生成器"
      ]
    },
    {
      "cell_type": "code",
      "execution_count": null,
      "metadata": {
        "id": "43D-blzoW9Rx"
      },
      "outputs": [],
      "source": [
        "for chunk in response:\n",
        "    pprint(chunk)"
      ]
    },
    {
      "cell_type": "markdown",
      "metadata": {
        "id": "BLEYI9KL1amp"
      },
      "source": [
        "## 6-4 建立 API 外掛系統"
      ]
    },
    {
      "cell_type": "markdown",
      "metadata": {
        "id": "5RRoqgB-UKOF"
      },
      "source": [
        "### 建立外部工具函式參考表"
      ]
    },
    {
      "cell_type": "markdown",
      "metadata": {
        "id": "50TGN5_lr226"
      },
      "source": [
        "建立以 function calling 為基礎的外掛機制。<br>\n",
        "建立結構化的函式表格。"
      ]
    },
    {
      "cell_type": "code",
      "execution_count": null,
      "metadata": {
        "id": "WJtnKbIN6XYP"
      },
      "outputs": [],
      "source": [
        "tools_table = [             # 可用工具表\n",
        "    {                       # 每個元素代表一個工具\n",
        "        \"chain\": True,      # 工具執行結果是否要再傳回給 API\n",
        "        \"func\": google_res, # 工具對應的函式\n",
        "        \"spec\": {           # function calling 需要的工具規格\n",
        "            \"type\": \"function\",\n",
        "            \"function\": {\n",
        "                \"name\": \"google_res\",\n",
        "                \"description\": \"取得 Google 搜尋結果\",\n",
        "                \"parameters\": {\n",
        "                    \"type\": \"object\",\n",
        "                    \"properties\": {\n",
        "                        \"user_msg\": {\n",
        "                            \"type\": \"string\",\n",
        "                            \"description\": \"要搜尋的關鍵字\",\n",
        "                        }\n",
        "                    },\n",
        "                    \"required\": [\"user_msg\"],\n",
        "                },\n",
        "            }\n",
        "        }\n",
        "    }\n",
        "]"
      ]
    },
    {
      "cell_type": "markdown",
      "metadata": {
        "id": "J0GQMNX7sKCI"
      },
      "source": [
        "### 建立協助 function calling 的工具函式\n",
        "依據回應內容自動叫用對應函式："
      ]
    },
    {
      "cell_type": "code",
      "execution_count": null,
      "metadata": {
        "id": "nSaSvwtMWovK"
      },
      "outputs": [],
      "source": [
        "def call_tools(tool_calls, tools_table):\n",
        "    res = ''\n",
        "    msg = []\n",
        "    for tool_call in tool_calls:\n",
        "        func = tool_call.function\n",
        "        func_name = func.name\n",
        "        args = json.loads(func.arguments)\n",
        "        for f in tools_table:  # 找出包含此函式的項目\n",
        "            if func_name == f['spec']['function']['name']:\n",
        "                print(f\"嘗試叫用：{func_name}(**{args})\")\n",
        "                val = f['func'](**args)\n",
        "                if f['chain']: # 要將結果送回模型\n",
        "                    msg.append({\n",
        "                        'tool_call_id': tool_call.id,\n",
        "                        'role': 'tool',\n",
        "                        'name': 'func_name',\n",
        "                        'content': val\n",
        "                    })\n",
        "                else:\n",
        "                    res += str(val)\n",
        "                break\n",
        "    return msg, res"
      ]
    },
    {
      "cell_type": "code",
      "source": [
        "def get_tool_calls(messages, stream=False, tools_table=None,\n",
        "                  **kwargs):\n",
        "    model = 'gpt-4-1106-preview' # 設定模型\n",
        "    if 'model' in kwargs: model = kwargs['model']\n",
        "\n",
        "    tools = {}\n",
        "    if tools_table: # 加入工具表\n",
        "        tools = {'tools':[tool['spec'] for tool in tools_table]}\n",
        "\n",
        "    response = client.chat.completions.create(\n",
        "        model = model,\n",
        "        messages = messages,\n",
        "        stream = stream,\n",
        "        **tools\n",
        "    )\n",
        "\n",
        "    if not stream: # 非串流模式\n",
        "        msg = response.choices[0].message\n",
        "        if msg.content == None: # function calling 的回覆\n",
        "            return msg.tool_calls, None # 取出叫用資訊\n",
        "        return None, response # 一般回覆\n",
        "\n",
        "    tool_calls = [] # 要呼叫的函式清單\n",
        "    prev = None\n",
        "    for chunk in response:\n",
        "        delta = chunk.choices[0].delta\n",
        "        if delta.content != None: # 一般回覆 (非 function calling)\n",
        "            return None, response # 直接返回結果\n",
        "        if delta.tool_calls:      # 不是頭/尾的 chunk\n",
        "            curr = delta.tool_calls[0]\n",
        "            if curr.function.name:       # 單一 call 開始\n",
        "                prev = curr              # 取得工具名稱\n",
        "                tool_calls.append(curr)  # 加入串列\n",
        "            else: # 串接引數內容\n",
        "                prev.function.arguments += curr.function.arguments\n",
        "    return tool_calls, None"
      ],
      "metadata": {
        "id": "QlHZ56XkNTL4"
      },
      "execution_count": null,
      "outputs": []
    },
    {
      "cell_type": "code",
      "execution_count": null,
      "metadata": {
        "id": "5ySOFG6OeH0_"
      },
      "outputs": [],
      "source": [
        "tool_calls, reply = get_tool_calls(\n",
        "    messages = [{'role':'user', 'content':'2023 金曲歌王是哪位？'}]\n",
        ")\n",
        "\n",
        "print(tool_calls)\n",
        "print(reply and reply.choices[0].message.content)"
      ]
    },
    {
      "cell_type": "markdown",
      "metadata": {
        "id": "PqLCfWNPUvi_"
      },
      "source": [
        "### 建立 function_calling 版的 get_reply_f() 函式"
      ]
    },
    {
      "cell_type": "code",
      "execution_count": null,
      "metadata": {
        "id": "6_HyReryakU5"
      },
      "outputs": [],
      "source": [
        "def get_reply_f(messages, stream=False, tools_table=None, **kwargs):\n",
        "    try:\n",
        "        tool_calls, response = get_tool_calls(\n",
        "            messages, stream, tools_table, **kwargs)\n",
        "        if tool_calls:\n",
        "            tool_messages, res = call_tools(tool_calls, tools_table)\n",
        "            tool_calls_messeges = []\n",
        "            for tool_call in tool_calls:\n",
        "                tool_calls_messeges.append(tool_call.model_dump())\n",
        "            if tool_messages:  # 如果需要將函式執行結果送回給 AI 再回覆\n",
        "                messages += [ # 必須傳回原本 function_calling 的內容\n",
        "                    {\n",
        "                        \"role\": \"assistant\", \"content\": None,\n",
        "                        \"tool_calls\": tool_calls_messeges\n",
        "                    }]\n",
        "                messages += tool_messages\n",
        "                # pprint(messages)\n",
        "                yield from get_reply_f(messages, stream,\n",
        "                                       tools_table, **kwargs)\n",
        "            else:      # chain 為 False, 以函式叫用結果當成模型生成內容\n",
        "                yield res\n",
        "        elif stream:   # 不需叫用函式但使用串流模式\n",
        "            for chunk in response:\n",
        "                yield chunk.choices[0].delta.content or ''\n",
        "        else:          # 不需叫用函式也沒有使用串流模式\n",
        "            yield response.choices[0].message.content\n",
        "    except openai.APIError as err:\n",
        "        reply = f\"發生錯誤\\n{err.message}\"\n",
        "        print(reply)\n",
        "        yield reply"
      ]
    },
    {
      "cell_type": "code",
      "execution_count": null,
      "metadata": {
        "id": "fLO76nV4Ealo"
      },
      "outputs": [],
      "source": [
        "# 測試非串流方式 function_calling 功能\n",
        "for chunk in get_reply_f(\n",
        "    [{\"role\":\"user\", \"content\":\"2023 金馬講影后是誰？\"}],\n",
        "    tools_table=tools_table):\n",
        "    print(chunk)"
      ]
    },
    {
      "cell_type": "code",
      "execution_count": null,
      "metadata": {
        "id": "tNioKT6Vodaf"
      },
      "outputs": [],
      "source": [
        "# 測試串流方式 function_calling 功能\n",
        "for chunk in get_reply_f(\n",
        "    [{\"role\":\"user\", \"content\":\"2023 金馬講影后是誰？\"}],\n",
        "    stream=True,\n",
        "    tools_table=tools_table):\n",
        "    print(chunk, end='')"
      ]
    },
    {
      "cell_type": "code",
      "execution_count": null,
      "metadata": {
        "id": "m23Ds5BOtVnS"
      },
      "outputs": [],
      "source": [
        "# 測試非串流、無 function calling 功能\n",
        "for chunk in get_reply_f(\n",
        "    [{\"role\":\"user\", \"content\":\"2023 金馬講影后是誰？\"}]):\n",
        "    print(chunk)"
      ]
    },
    {
      "cell_type": "code",
      "execution_count": null,
      "metadata": {
        "id": "Ay2vtRj3td6q"
      },
      "outputs": [],
      "source": [
        "# 測試串流、無 function calling 功能\n",
        "for chunk in get_reply_f(\n",
        "    [{\"role\":\"user\", \"content\":\"2023 金馬講影后是誰？\"}],\n",
        "    stream=True):\n",
        "    print(chunk, end='')"
      ]
    },
    {
      "cell_type": "code",
      "source": [
        "# 測試串流方式 function_calling 功能\n",
        "for chunk in get_reply_f(\n",
        "    [{\"role\":\"user\", \"content\":\"2023 金曲獎歌后和金馬獎影后各是誰？\"}],\n",
        "    stream=True,\n",
        "    tools_table=tools_table):\n",
        "    print(chunk, end='')"
      ],
      "metadata": {
        "id": "n-sRcTFbirzw"
      },
      "execution_count": null,
      "outputs": []
    },
    {
      "cell_type": "markdown",
      "metadata": {
        "id": "ajlSC5PPVBnq"
      },
      "source": [
        "### 建立 function calling 版本的 chat_f() 函式"
      ]
    },
    {
      "cell_type": "code",
      "execution_count": null,
      "metadata": {
        "id": "sSpzuVo7yo-M"
      },
      "outputs": [],
      "source": [
        "hist = []       # 歷史對話紀錄\n",
        "backtrace = 2   # 記錄幾組對話\n",
        "\n",
        "def chat_f(sys_msg, user_msg, stream=False, **kwargs):\n",
        "    global hist\n",
        "\n",
        "    replies = get_reply_f(    # 使用函式功能版的函式\n",
        "        hist                  # 先提供歷史紀錄\n",
        "        + [{\"role\": \"user\", \"content\": user_msg}]\n",
        "        + [{\"role\": \"system\", \"content\": sys_msg}],\n",
        "        stream, tools_table, **kwargs)\n",
        "    reply_full = ''\n",
        "    for reply in replies:\n",
        "        reply_full += reply\n",
        "        yield reply\n",
        "\n",
        "    hist += [{\"role\":\"user\", \"content\":user_msg},\n",
        "             {\"role\":\"assistant\", \"content\":reply_full}]\n",
        "    hist = hist[-2 * backtrace:] # 留下最新的對話"
      ]
    },
    {
      "cell_type": "code",
      "execution_count": null,
      "metadata": {
        "id": "1rR4R1uOuLhx"
      },
      "outputs": [],
      "source": [
        "sys_msg = input(\"你希望ㄟ唉扮演：\")\n",
        "if not sys_msg.strip(): sys_msg = '使用繁體中文的小助理'\n",
        "print()\n",
        "while True:\n",
        "    msg = input(\"你說：\")\n",
        "    if not msg.strip(): break\n",
        "    print(f\"{sys_msg}：\", end = \"\")\n",
        "    for reply in chat_f(sys_msg, msg, stream=True):\n",
        "        print(reply, end = \"\")\n",
        "    print('\\n')\n",
        "hist = []"
      ]
    },
    {
      "cell_type": "code",
      "source": [],
      "metadata": {
        "id": "JPmHKc5t-YCC"
      },
      "execution_count": null,
      "outputs": []
    }
  ],
  "metadata": {
    "colab": {
      "provenance": [],
      "include_colab_link": true
    },
    "kernelspec": {
      "display_name": "Python 3",
      "name": "python3"
    },
    "language_info": {
      "name": "python"
    }
  },
  "nbformat": 4,
  "nbformat_minor": 0
}