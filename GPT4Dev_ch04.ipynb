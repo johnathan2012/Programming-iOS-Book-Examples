{
  "nbformat": 4,
  "nbformat_minor": 0,
  "metadata": {
    "colab": {
      "provenance": [],
      "include_colab_link": true
    },
    "kernelspec": {
      "name": "python3",
      "display_name": "Python 3"
    },
    "language_info": {
      "name": "python"
    }
  },
  "cells": [
    {
      "cell_type": "markdown",
      "metadata": {
        "id": "view-in-github",
        "colab_type": "text"
      },
      "source": [
        "<a href=\"https://colab.research.google.com/github/johnathan2012/Programming-iOS-Book-Examples/blob/master/GPT4Dev_ch04.ipynb\" target=\"_parent\"><img src=\"https://colab.research.google.com/assets/colab-badge.svg\" alt=\"Open In Colab\"/></a>"
      ]
    },
    {
      "cell_type": "markdown",
      "source": [
        "# 4 打造自己的 ChatGPT\n",
        "\n",
        "學會使用 API 後, 下一步就是設計自己的 ChatGPT, 首先從簡單的文字模式開始。"
      ],
      "metadata": {
        "id": "eNYngg3YPEp5"
      }
    },
    {
      "cell_type": "markdown",
      "source": [
        "**準備工作**"
      ],
      "metadata": {
        "id": "ccVUpuXM9dRz"
      }
    },
    {
      "cell_type": "code",
      "source": [
        "!pip install openai\n",
        "!pip install rich\n",
        "import openai\n",
        "from google.colab import userdata\n",
        "from rich import print as pprint\n",
        "client = openai.OpenAI(api_key=userdata.get('OPENAI_API_KEY'))"
      ],
      "metadata": {
        "id": "R1CAsaxl9_v4"
      },
      "execution_count": null,
      "outputs": []
    },
    {
      "cell_type": "markdown",
      "source": [
        "## 4-1 文字模式簡易聊天程式"
      ],
      "metadata": {
        "id": "kR8G5znxxuht"
      }
    },
    {
      "cell_type": "markdown",
      "source": [
        "設計簡易對談程式"
      ],
      "metadata": {
        "id": "X021wDnuPYlx"
      }
    },
    {
      "cell_type": "code",
      "source": [
        "def get_reply(messages):\n",
        "    try:\n",
        "        response = client.chat.completions.create(\n",
        "            model = \"gpt-3.5-turbo-1106\",\n",
        "            messages = messages\n",
        "        )\n",
        "        reply = response.choices[0].message.content\n",
        "    except openai.APIError as err:\n",
        "        reply = f\"發生錯誤\\n{err.error.message}\"\n",
        "    return reply"
      ],
      "metadata": {
        "id": "LRBgH2SzEjLr"
      },
      "execution_count": null,
      "outputs": []
    },
    {
      "cell_type": "code",
      "source": [
        "while True:\n",
        "    msg = input(\"你說：\")\n",
        "    if not msg.strip(): break\n",
        "    messages = [{\"role\":\"user\", \"content\":msg}]\n",
        "    reply = get_reply(messages)\n",
        "    print(f\"ㄟ唉：{reply}\\n\")"
      ],
      "metadata": {
        "id": "ptsDFS0mFZ_b"
      },
      "execution_count": null,
      "outputs": []
    },
    {
      "cell_type": "markdown",
      "source": [
        "## 4-2 加入聊天記錄維持聊天脈絡"
      ],
      "metadata": {
        "id": "VyO0gDj7yD5M"
      }
    },
    {
      "cell_type": "markdown",
      "source": [
        "把歷史紀錄加入 prompt"
      ],
      "metadata": {
        "id": "iIsWBAoaPj1z"
      }
    },
    {
      "cell_type": "code",
      "source": [
        "hist = []       # 歷史對話紀錄\n",
        "backtrace = 2   # 記錄幾組對話\n",
        "\n",
        "def chat(sys_msg, user_msg):\n",
        "    global hist\n",
        "    hist.append({\"role\":\"user\", \"content\":user_msg})\n",
        "    reply = get_reply(hist\n",
        "                      + [{\"role\":\"system\", \"content\":sys_msg}])\n",
        "    hist.append({\"role\":\"assistant\", \"content\":reply})\n",
        "    hist = hist[-2 * backtrace:] # 保留新的對話\n",
        "    return reply"
      ],
      "metadata": {
        "id": "V--0U28tI17U"
      },
      "execution_count": null,
      "outputs": []
    },
    {
      "cell_type": "code",
      "source": [
        "sys_msg = input(\"你希望ㄟ唉扮演：\")\n",
        "if not sys_msg.strip(): sys_msg = '小助理'\n",
        "print()\n",
        "while True:\n",
        "    msg = input(\"你說：\")\n",
        "    if not msg.strip(): break\n",
        "    reply = chat(sys_msg, msg)\n",
        "    print(f\"{sys_msg}:{reply}\\n\")\n",
        "hist = []"
      ],
      "metadata": {
        "id": "uwhnfM-6JAvA"
      },
      "execution_count": null,
      "outputs": []
    },
    {
      "cell_type": "markdown",
      "source": [
        "## 4-3 串流版本的聊天程式"
      ],
      "metadata": {
        "id": "Qqa3sGEDyMp1"
      }
    },
    {
      "cell_type": "markdown",
      "source": [
        "串流版本的聊天程式"
      ],
      "metadata": {
        "id": "G2Ge034UfYDd"
      }
    },
    {
      "cell_type": "code",
      "source": [
        "def get_reply_s(messages):\n",
        "    try:\n",
        "        response = client.chat.completions.create(\n",
        "            model = \"gpt-3.5-turbo-1106\",\n",
        "            messages = messages,\n",
        "            stream = True\n",
        "        )\n",
        "        for chunk in response:\n",
        "            yield chunk.choices[0].delta.content or ''\n",
        "    except openai.APIError as err:\n",
        "        reply = f\"發生錯誤\\n{err.error.message}\""
      ],
      "metadata": {
        "id": "bpHqQNiMfemv"
      },
      "execution_count": null,
      "outputs": []
    },
    {
      "cell_type": "code",
      "source": [
        "for reply in get_reply_s([{\n",
        "    \"role\":\"user\",\n",
        "    \"content\":\"請介紹台北市\"\n",
        "}]):\n",
        "    print(reply, end='')\n",
        "print('')"
      ],
      "metadata": {
        "id": "KZciBFLufywW"
      },
      "execution_count": null,
      "outputs": []
    },
    {
      "cell_type": "code",
      "source": [
        "hist = []       # 歷史對話紀錄\n",
        "backtrace = 2   # 記錄幾組對話\n",
        "\n",
        "def chat_s(sys_msg, user_msg):\n",
        "    global hist\n",
        "    hist.append({\"role\":\"user\", \"content\":user_msg})\n",
        "    reply_full = \"\"\n",
        "    for reply in get_reply_s(         # 使用串流版的函式\n",
        "        hist + [{\"role\":\"system\", \"content\":sys_msg}]):\n",
        "        reply_full += reply           # 記錄到目前為止收到的訊息\n",
        "        yield reply                   # 傳回本次收到的片段訊息\n",
        "    hist.append({\"role\":\"assistant\", \"content\":reply_full})\n",
        "    hist = hist[-2 * backtrace:]       # 保留最新紀錄\n"
      ],
      "metadata": {
        "id": "1UIcjOjqgffE"
      },
      "execution_count": null,
      "outputs": []
    },
    {
      "cell_type": "code",
      "source": [
        "sys_msg = input(\"你希望ㄟ唉扮演：\")\n",
        "if not sys_msg.strip(): sys_msg = '小助理'\n",
        "print()\n",
        "while True:\n",
        "    msg = input(\"你說：\")\n",
        "    if not msg.strip(): break\n",
        "    print(f\"{sys_msg}：\", end = \"\")\n",
        "    for reply in chat_s(sys_msg, msg):\n",
        "        print(reply, end = \"\")\n",
        "    print('\\n')\n",
        "hist = []"
      ],
      "metadata": {
        "id": "21fxgL_qg7r-"
      },
      "execution_count": null,
      "outputs": []
    },
    {
      "cell_type": "markdown",
      "source": [
        "## 4-4 儲存歷史紀錄下次繼續聊"
      ],
      "metadata": {
        "id": "BBJ3bg-Yybrj"
      }
    },
    {
      "cell_type": "markdown",
      "source": [
        "### 掛接 Google 雲端硬碟"
      ],
      "metadata": {
        "id": "elmbokywh8nJ"
      }
    },
    {
      "cell_type": "code",
      "source": [
        "from google.colab import drive\n",
        "drive.mount('/content/drive')"
      ],
      "metadata": {
        "id": "l2TpFXgARStK"
      },
      "execution_count": null,
      "outputs": []
    },
    {
      "cell_type": "markdown",
      "source": [
        "### 製作復原/儲存歷史紀錄的函式"
      ],
      "metadata": {
        "id": "f0tvFK6lQ1xh"
      }
    },
    {
      "cell_type": "code",
      "source": [
        "import pickle"
      ],
      "metadata": {
        "id": "-BmlbZgdiu4l"
      },
      "execution_count": null,
      "outputs": []
    },
    {
      "cell_type": "code",
      "source": [
        "def save_hist(hist, sys_msg):\n",
        "    try:\n",
        "        with open('/content/drive/MyDrive/hist.dat', 'wb') as f:\n",
        "            db = {\n",
        "                'hist': hist,\n",
        "                'sys_msg': sys_msg\n",
        "            }\n",
        "            pickle.dump(db, f)\n",
        "    except:\n",
        "        # 歷史檔開啟錯誤\n",
        "        print('無法寫入歷史檔')"
      ],
      "metadata": {
        "id": "WuC11lpIjwD6"
      },
      "execution_count": null,
      "outputs": []
    },
    {
      "cell_type": "code",
      "source": [
        "def load_hist():\n",
        "    try:\n",
        "        with open('/content/drive/MyDrive/hist.dat', 'rb') as f:\n",
        "            db = pickle.load(f)\n",
        "            return db['hist'], db['sys_msg']\n",
        "    except:\n",
        "        # 歷史檔不存在\n",
        "        print('無法開啟歷史檔')\n",
        "        return [], ''"
      ],
      "metadata": {
        "id": "qp2tZiczidHG"
      },
      "execution_count": null,
      "outputs": []
    },
    {
      "cell_type": "code",
      "source": [
        "hist, sys_msg = load_hist()\n",
        "sys_msg_new = input(f\"你希望ㄟ唉扮演[{sys_msg}]：\")\n",
        "if sys_msg_new: sys_msg = sys_msg_new\n",
        "print()\n",
        "while True:\n",
        "    msg = input(\"你說：\")\n",
        "    if not msg.strip(): break\n",
        "    print(f\"{sys_msg}：\", end = \"\")\n",
        "    for reply in chat_s(sys_msg, msg):\n",
        "        print(reply, end = \"\")\n",
        "    print('\\n')\n",
        "save_hist(hist, sys_msg)"
      ],
      "metadata": {
        "id": "s-Jjg7So0GU2"
      },
      "execution_count": null,
      "outputs": []
    }
  ]
}