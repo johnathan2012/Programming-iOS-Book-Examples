{
  "nbformat": 4,
  "nbformat_minor": 0,
  "metadata": {
    "colab": {
      "provenance": [],
      "include_colab_link": true
    },
    "kernelspec": {
      "name": "python3",
      "display_name": "Python 3"
    },
    "language_info": {
      "name": "python"
    }
  },
  "cells": [
    {
      "cell_type": "markdown",
      "metadata": {
        "id": "view-in-github",
        "colab_type": "text"
      },
      "source": [
        "<a href=\"https://colab.research.google.com/github/johnathan2012/Programming-iOS-Book-Examples/blob/master/GPT4Dev_ch08.ipynb\" target=\"_parent\"><img src=\"https://colab.research.google.com/assets/colab-badge.svg\" alt=\"Open In Colab\"/></a>"
      ]
    },
    {
      "cell_type": "markdown",
      "source": [
        "# 8 Assistants API —快速開發助理應用程式"
      ],
      "metadata": {
        "id": "bA7Hn1IiauRO"
      }
    },
    {
      "cell_type": "markdown",
      "source": [
        "## 8-1 什麼是 Assistants-API"
      ],
      "metadata": {
        "id": "Qm26sxiLQkV_"
      }
    },
    {
      "cell_type": "markdown",
      "source": [
        "### Assistants API 的基本元件"
      ],
      "metadata": {
        "id": "tgAM93YpapMO"
      }
    },
    {
      "cell_type": "code",
      "execution_count": null,
      "metadata": {
        "id": "nMaGbwytUvwn",
        "colab": {
          "base_uri": "https://localhost:8080/"
        },
        "outputId": "2e664774-c2ae-4fb0-c325-a6ffcf197bdd"
      },
      "outputs": [
        {
          "output_type": "stream",
          "name": "stdout",
          "text": [
            "Collecting openai\n",
            "  Downloading openai-1.6.1-py3-none-any.whl (225 kB)\n",
            "\u001b[2K     \u001b[90m━━━━━━━━━━━━━━━━━━━━━━━━━━━━━━━━━━━━━━━━\u001b[0m \u001b[32m225.4/225.4 kB\u001b[0m \u001b[31m2.9 MB/s\u001b[0m eta \u001b[36m0:00:00\u001b[0m\n",
            "\u001b[?25hRequirement already satisfied: rich in /usr/local/lib/python3.10/dist-packages (13.7.0)\n",
            "Collecting googlesearch-python\n",
            "  Downloading googlesearch-python-1.2.3.tar.gz (3.9 kB)\n",
            "  Preparing metadata (setup.py) ... \u001b[?25l\u001b[?25hdone\n",
            "Requirement already satisfied: anyio<5,>=3.5.0 in /usr/local/lib/python3.10/dist-packages (from openai) (3.7.1)\n",
            "Requirement already satisfied: distro<2,>=1.7.0 in /usr/lib/python3/dist-packages (from openai) (1.7.0)\n",
            "Collecting httpx<1,>=0.23.0 (from openai)\n",
            "  Downloading httpx-0.26.0-py3-none-any.whl (75 kB)\n",
            "\u001b[2K     \u001b[90m━━━━━━━━━━━━━━━━━━━━━━━━━━━━━━━━━━━━━━━━\u001b[0m \u001b[32m75.9/75.9 kB\u001b[0m \u001b[31m6.5 MB/s\u001b[0m eta \u001b[36m0:00:00\u001b[0m\n",
            "\u001b[?25hRequirement already satisfied: pydantic<3,>=1.9.0 in /usr/local/lib/python3.10/dist-packages (from openai) (1.10.13)\n",
            "Requirement already satisfied: sniffio in /usr/local/lib/python3.10/dist-packages (from openai) (1.3.0)\n",
            "Requirement already satisfied: tqdm>4 in /usr/local/lib/python3.10/dist-packages (from openai) (4.66.1)\n",
            "Collecting typing-extensions<5,>=4.7 (from openai)\n",
            "  Downloading typing_extensions-4.9.0-py3-none-any.whl (32 kB)\n",
            "Requirement already satisfied: markdown-it-py>=2.2.0 in /usr/local/lib/python3.10/dist-packages (from rich) (3.0.0)\n",
            "Requirement already satisfied: pygments<3.0.0,>=2.13.0 in /usr/local/lib/python3.10/dist-packages (from rich) (2.16.1)\n",
            "Requirement already satisfied: beautifulsoup4>=4.9 in /usr/local/lib/python3.10/dist-packages (from googlesearch-python) (4.11.2)\n",
            "Requirement already satisfied: requests>=2.20 in /usr/local/lib/python3.10/dist-packages (from googlesearch-python) (2.31.0)\n",
            "Requirement already satisfied: idna>=2.8 in /usr/local/lib/python3.10/dist-packages (from anyio<5,>=3.5.0->openai) (3.6)\n",
            "Requirement already satisfied: exceptiongroup in /usr/local/lib/python3.10/dist-packages (from anyio<5,>=3.5.0->openai) (1.2.0)\n",
            "Requirement already satisfied: soupsieve>1.2 in /usr/local/lib/python3.10/dist-packages (from beautifulsoup4>=4.9->googlesearch-python) (2.5)\n",
            "Requirement already satisfied: certifi in /usr/local/lib/python3.10/dist-packages (from httpx<1,>=0.23.0->openai) (2023.11.17)\n",
            "Collecting httpcore==1.* (from httpx<1,>=0.23.0->openai)\n",
            "  Downloading httpcore-1.0.2-py3-none-any.whl (76 kB)\n",
            "\u001b[2K     \u001b[90m━━━━━━━━━━━━━━━━━━━━━━━━━━━━━━━━━━━━━━━━\u001b[0m \u001b[32m76.9/76.9 kB\u001b[0m \u001b[31m5.0 MB/s\u001b[0m eta \u001b[36m0:00:00\u001b[0m\n",
            "\u001b[?25hCollecting h11<0.15,>=0.13 (from httpcore==1.*->httpx<1,>=0.23.0->openai)\n",
            "  Downloading h11-0.14.0-py3-none-any.whl (58 kB)\n",
            "\u001b[2K     \u001b[90m━━━━━━━━━━━━━━━━━━━━━━━━━━━━━━━━━━━━━━━━\u001b[0m \u001b[32m58.3/58.3 kB\u001b[0m \u001b[31m5.3 MB/s\u001b[0m eta \u001b[36m0:00:00\u001b[0m\n",
            "\u001b[?25hRequirement already satisfied: mdurl~=0.1 in /usr/local/lib/python3.10/dist-packages (from markdown-it-py>=2.2.0->rich) (0.1.2)\n",
            "Requirement already satisfied: charset-normalizer<4,>=2 in /usr/local/lib/python3.10/dist-packages (from requests>=2.20->googlesearch-python) (3.3.2)\n",
            "Requirement already satisfied: urllib3<3,>=1.21.1 in /usr/local/lib/python3.10/dist-packages (from requests>=2.20->googlesearch-python) (2.0.7)\n",
            "Building wheels for collected packages: googlesearch-python\n",
            "  Building wheel for googlesearch-python (setup.py) ... \u001b[?25l\u001b[?25hdone\n",
            "  Created wheel for googlesearch-python: filename=googlesearch_python-1.2.3-py3-none-any.whl size=4209 sha256=83af38f683c0eec6630116409c9ec62b72f5d608060664a7a518067069bdc308\n",
            "  Stored in directory: /root/.cache/pip/wheels/98/24/e9/6c225502948c629b01cc895f86406819281ef0da385f3eb669\n",
            "Successfully built googlesearch-python\n",
            "Installing collected packages: typing-extensions, h11, httpcore, googlesearch-python, httpx, openai\n",
            "  Attempting uninstall: typing-extensions\n",
            "    Found existing installation: typing_extensions 4.5.0\n",
            "    Uninstalling typing_extensions-4.5.0:\n",
            "      Successfully uninstalled typing_extensions-4.5.0\n",
            "\u001b[31mERROR: pip's dependency resolver does not currently take into account all the packages that are installed. This behaviour is the source of the following dependency conflicts.\n",
            "llmx 0.0.15a0 requires cohere, which is not installed.\n",
            "llmx 0.0.15a0 requires tiktoken, which is not installed.\n",
            "tensorflow-probability 0.22.0 requires typing-extensions<4.6.0, but you have typing-extensions 4.9.0 which is incompatible.\u001b[0m\u001b[31m\n",
            "\u001b[0mSuccessfully installed googlesearch-python-1.2.3 h11-0.14.0 httpcore-1.0.2 httpx-0.26.0 openai-1.6.1 typing-extensions-4.9.0\n"
          ]
        }
      ],
      "source": [
        "!pip install openai rich googlesearch-python"
      ]
    },
    {
      "cell_type": "code",
      "source": [
        "from google.colab import userdata\n",
        "from rich import print as pprint\n",
        "from openai import OpenAI\n",
        "client = OpenAI(api_key=userdata.get('OPENAI_API_KEY'))"
      ],
      "metadata": {
        "id": "3CIUUtb9U6dS"
      },
      "execution_count": null,
      "outputs": []
    },
    {
      "cell_type": "markdown",
      "source": [
        "### 建立 Assistant"
      ],
      "metadata": {
        "id": "rU3eBNKOcen-"
      }
    },
    {
      "cell_type": "code",
      "source": [
        "assistant = client.beta.assistants.create(\n",
        "    name=\"運動達人\",\n",
        "    instructions=\"你是一位熱愛運動的達人, 具有各種與運動相關的知識\",\n",
        "    model=\"gpt-3.5-turbo-1106\"\n",
        ")\n",
        "pprint(assistant)"
      ],
      "metadata": {
        "colab": {
          "base_uri": "https://localhost:8080/",
          "height": 213
        },
        "id": "Czw4_IeDdo4w",
        "outputId": "1d687cc0-3bf2-4323-f69f-853925e951f8"
      },
      "execution_count": null,
      "outputs": [
        {
          "output_type": "display_data",
          "data": {
            "text/plain": [
              "\u001b[1;35mAssistant\u001b[0m\u001b[1m(\u001b[0m\n",
              "    \u001b[33mid\u001b[0m=\u001b[32m'asst_EHR4omyzzojIfQ8spmohkvaB'\u001b[0m,\n",
              "    \u001b[33mcreated_at\u001b[0m=\u001b[1;36m1703569838\u001b[0m,\n",
              "    \u001b[33mdescription\u001b[0m=\u001b[3;35mNone\u001b[0m,\n",
              "    \u001b[33mfile_ids\u001b[0m=\u001b[1m[\u001b[0m\u001b[1m]\u001b[0m,\n",
              "    \u001b[33minstructions\u001b[0m=\u001b[32m'你是一位熱愛運動的達人, 具有各種與運動相關的知識'\u001b[0m,\n",
              "    \u001b[33mmetadata\u001b[0m=\u001b[1m{\u001b[0m\u001b[1m}\u001b[0m,\n",
              "    \u001b[33mmodel\u001b[0m=\u001b[32m'gpt-3.5-turbo-1106'\u001b[0m,\n",
              "    \u001b[33mname\u001b[0m=\u001b[32m'運動達人'\u001b[0m,\n",
              "    \u001b[33mobject\u001b[0m=\u001b[32m'assistant'\u001b[0m,\n",
              "    \u001b[33mtools\u001b[0m=\u001b[1m[\u001b[0m\u001b[1m]\u001b[0m\n",
              "\u001b[1m)\u001b[0m\n"
            ],
            "text/html": [
              "<pre style=\"white-space:pre;overflow-x:auto;line-height:normal;font-family:Menlo,'DejaVu Sans Mono',consolas,'Courier New',monospace\"><span style=\"color: #800080; text-decoration-color: #800080; font-weight: bold\">Assistant</span><span style=\"font-weight: bold\">(</span>\n",
              "    <span style=\"color: #808000; text-decoration-color: #808000\">id</span>=<span style=\"color: #008000; text-decoration-color: #008000\">'asst_EHR4omyzzojIfQ8spmohkvaB'</span>,\n",
              "    <span style=\"color: #808000; text-decoration-color: #808000\">created_at</span>=<span style=\"color: #008080; text-decoration-color: #008080; font-weight: bold\">1703569838</span>,\n",
              "    <span style=\"color: #808000; text-decoration-color: #808000\">description</span>=<span style=\"color: #800080; text-decoration-color: #800080; font-style: italic\">None</span>,\n",
              "    <span style=\"color: #808000; text-decoration-color: #808000\">file_ids</span>=<span style=\"font-weight: bold\">[]</span>,\n",
              "    <span style=\"color: #808000; text-decoration-color: #808000\">instructions</span>=<span style=\"color: #008000; text-decoration-color: #008000\">'你是一位熱愛運動的達人, 具有各種與運動相關的知識'</span>,\n",
              "    <span style=\"color: #808000; text-decoration-color: #808000\">metadata</span>=<span style=\"font-weight: bold\">{}</span>,\n",
              "    <span style=\"color: #808000; text-decoration-color: #808000\">model</span>=<span style=\"color: #008000; text-decoration-color: #008000\">'gpt-3.5-turbo-1106'</span>,\n",
              "    <span style=\"color: #808000; text-decoration-color: #808000\">name</span>=<span style=\"color: #008000; text-decoration-color: #008000\">'運動達人'</span>,\n",
              "    <span style=\"color: #808000; text-decoration-color: #808000\">object</span>=<span style=\"color: #008000; text-decoration-color: #008000\">'assistant'</span>,\n",
              "    <span style=\"color: #808000; text-decoration-color: #808000\">tools</span>=<span style=\"font-weight: bold\">[]</span>\n",
              "<span style=\"font-weight: bold\">)</span>\n",
              "</pre>\n"
            ]
          },
          "metadata": {}
        }
      ]
    },
    {
      "cell_type": "markdown",
      "source": [
        "### 建立 Thread 與 Message"
      ],
      "metadata": {
        "id": "3xhS_834e1MS"
      }
    },
    {
      "cell_type": "code",
      "source": [
        "thread = client.beta.threads.create()\n",
        "pprint(thread)"
      ],
      "metadata": {
        "colab": {
          "base_uri": "https://localhost:8080/",
          "height": 33
        },
        "id": "7ZoEIS8we4-a",
        "outputId": "827cd99c-0bd7-468f-88b7-5194fed2a147"
      },
      "execution_count": null,
      "outputs": [
        {
          "output_type": "display_data",
          "data": {
            "text/plain": [
              "\u001b[1;35mThread\u001b[0m\u001b[1m(\u001b[0m\u001b[33mid\u001b[0m=\u001b[32m'thread_1r6m1Agm9WkjWk9Eif5o3NOK'\u001b[0m, \u001b[33mcreated_at\u001b[0m=\u001b[1;36m1703569840\u001b[0m, \u001b[33mmetadata\u001b[0m=\u001b[1m{\u001b[0m\u001b[1m}\u001b[0m, \u001b[33mobject\u001b[0m=\u001b[32m'thread'\u001b[0m\u001b[1m)\u001b[0m\n"
            ],
            "text/html": [
              "<pre style=\"white-space:pre;overflow-x:auto;line-height:normal;font-family:Menlo,'DejaVu Sans Mono',consolas,'Courier New',monospace\"><span style=\"color: #800080; text-decoration-color: #800080; font-weight: bold\">Thread</span><span style=\"font-weight: bold\">(</span><span style=\"color: #808000; text-decoration-color: #808000\">id</span>=<span style=\"color: #008000; text-decoration-color: #008000\">'thread_1r6m1Agm9WkjWk9Eif5o3NOK'</span>, <span style=\"color: #808000; text-decoration-color: #808000\">created_at</span>=<span style=\"color: #008080; text-decoration-color: #008080; font-weight: bold\">1703569840</span>, <span style=\"color: #808000; text-decoration-color: #808000\">metadata</span>=<span style=\"font-weight: bold\">{}</span>, <span style=\"color: #808000; text-decoration-color: #808000\">object</span>=<span style=\"color: #008000; text-decoration-color: #008000\">'thread'</span><span style=\"font-weight: bold\">)</span>\n",
              "</pre>\n"
            ]
          },
          "metadata": {}
        }
      ]
    },
    {
      "cell_type": "code",
      "source": [
        "message = client.beta.threads.messages.create(\n",
        "    thread_id=thread.id,\n",
        "    role=\"user\",\n",
        "    content=\"走路一小時相當於消耗多少熱量？\"\n",
        ")\n",
        "pprint(message)"
      ],
      "metadata": {
        "id": "z6icPCPpfMZS",
        "colab": {
          "base_uri": "https://localhost:8080/",
          "height": 211
        },
        "outputId": "965000de-6377-4d82-bacb-e73edd39f75d"
      },
      "execution_count": null,
      "outputs": [
        {
          "output_type": "display_data",
          "data": {
            "text/plain": [
              "\u001b[1;35mThreadMessage\u001b[0m\u001b[1m(\u001b[0m\n",
              "    \u001b[33mid\u001b[0m=\u001b[32m'msg_aJVCCSuuU3ZutHzJkSx80BxQ'\u001b[0m,\n",
              "    \u001b[33massistant_id\u001b[0m=\u001b[3;35mNone\u001b[0m,\n",
              "    \u001b[33mcontent\u001b[0m=\u001b[1m[\u001b[0m\u001b[1;35mMessageContentText\u001b[0m\u001b[1m(\u001b[0m\u001b[33mtext\u001b[0m=\u001b[1;35mText\u001b[0m\u001b[1m(\u001b[0m\u001b[33mannotations\u001b[0m=\u001b[1m[\u001b[0m\u001b[1m]\u001b[0m, \u001b[33mvalue\u001b[0m=\u001b[32m'走路一小時相當於消耗多少熱量？'\u001b[0m\u001b[1m)\u001b[0m, \u001b[33mtype\u001b[0m=\u001b[32m'text'\u001b[0m\u001b[1m)\u001b[0m\u001b[1m]\u001b[0m,\n",
              "    \u001b[33mcreated_at\u001b[0m=\u001b[1;36m1703569842\u001b[0m,\n",
              "    \u001b[33mfile_ids\u001b[0m=\u001b[1m[\u001b[0m\u001b[1m]\u001b[0m,\n",
              "    \u001b[33mmetadata\u001b[0m=\u001b[1m{\u001b[0m\u001b[1m}\u001b[0m,\n",
              "    \u001b[33mobject\u001b[0m=\u001b[32m'thread.message'\u001b[0m,\n",
              "    \u001b[33mrole\u001b[0m=\u001b[32m'user'\u001b[0m,\n",
              "    \u001b[33mrun_id\u001b[0m=\u001b[3;35mNone\u001b[0m,\n",
              "    \u001b[33mthread_id\u001b[0m=\u001b[32m'thread_1r6m1Agm9WkjWk9Eif5o3NOK'\u001b[0m\n",
              "\u001b[1m)\u001b[0m\n"
            ],
            "text/html": [
              "<pre style=\"white-space:pre;overflow-x:auto;line-height:normal;font-family:Menlo,'DejaVu Sans Mono',consolas,'Courier New',monospace\"><span style=\"color: #800080; text-decoration-color: #800080; font-weight: bold\">ThreadMessage</span><span style=\"font-weight: bold\">(</span>\n",
              "    <span style=\"color: #808000; text-decoration-color: #808000\">id</span>=<span style=\"color: #008000; text-decoration-color: #008000\">'msg_aJVCCSuuU3ZutHzJkSx80BxQ'</span>,\n",
              "    <span style=\"color: #808000; text-decoration-color: #808000\">assistant_id</span>=<span style=\"color: #800080; text-decoration-color: #800080; font-style: italic\">None</span>,\n",
              "    <span style=\"color: #808000; text-decoration-color: #808000\">content</span>=<span style=\"font-weight: bold\">[</span><span style=\"color: #800080; text-decoration-color: #800080; font-weight: bold\">MessageContentText</span><span style=\"font-weight: bold\">(</span><span style=\"color: #808000; text-decoration-color: #808000\">text</span>=<span style=\"color: #800080; text-decoration-color: #800080; font-weight: bold\">Text</span><span style=\"font-weight: bold\">(</span><span style=\"color: #808000; text-decoration-color: #808000\">annotations</span>=<span style=\"font-weight: bold\">[]</span>, <span style=\"color: #808000; text-decoration-color: #808000\">value</span>=<span style=\"color: #008000; text-decoration-color: #008000\">'走路一小時相當於消耗多少熱量？'</span><span style=\"font-weight: bold\">)</span>, <span style=\"color: #808000; text-decoration-color: #808000\">type</span>=<span style=\"color: #008000; text-decoration-color: #008000\">'text'</span><span style=\"font-weight: bold\">)]</span>,\n",
              "    <span style=\"color: #808000; text-decoration-color: #808000\">created_at</span>=<span style=\"color: #008080; text-decoration-color: #008080; font-weight: bold\">1703569842</span>,\n",
              "    <span style=\"color: #808000; text-decoration-color: #808000\">file_ids</span>=<span style=\"font-weight: bold\">[]</span>,\n",
              "    <span style=\"color: #808000; text-decoration-color: #808000\">metadata</span>=<span style=\"font-weight: bold\">{}</span>,\n",
              "    <span style=\"color: #808000; text-decoration-color: #808000\">object</span>=<span style=\"color: #008000; text-decoration-color: #008000\">'thread.message'</span>,\n",
              "    <span style=\"color: #808000; text-decoration-color: #808000\">role</span>=<span style=\"color: #008000; text-decoration-color: #008000\">'user'</span>,\n",
              "    <span style=\"color: #808000; text-decoration-color: #808000\">run_id</span>=<span style=\"color: #800080; text-decoration-color: #800080; font-style: italic\">None</span>,\n",
              "    <span style=\"color: #808000; text-decoration-color: #808000\">thread_id</span>=<span style=\"color: #008000; text-decoration-color: #008000\">'thread_1r6m1Agm9WkjWk9Eif5o3NOK'</span>\n",
              "<span style=\"font-weight: bold\">)</span>\n",
              "</pre>\n"
            ]
          },
          "metadata": {}
        }
      ]
    },
    {
      "cell_type": "markdown",
      "source": [
        "### 建立 Run 執行任務"
      ],
      "metadata": {
        "id": "OdzsHiQnfpbB"
      }
    },
    {
      "cell_type": "code",
      "source": [
        "run = client.beta.threads.runs.create(\n",
        "  thread_id=thread.id,\n",
        "  assistant_id=assistant.id\n",
        ")\n",
        "pprint(run)"
      ],
      "metadata": {
        "id": "ALfwvucTfo6J",
        "colab": {
          "base_uri": "https://localhost:8080/",
          "height": 339
        },
        "outputId": "b4a47b0b-69a7-4f26-d15a-6ea5b2204265"
      },
      "execution_count": null,
      "outputs": [
        {
          "output_type": "display_data",
          "data": {
            "text/plain": [
              "\u001b[1;35mRun\u001b[0m\u001b[1m(\u001b[0m\n",
              "    \u001b[33mid\u001b[0m=\u001b[32m'run_lHXzcCHn8NSObn8ZtOudM6AA'\u001b[0m,\n",
              "    \u001b[33massistant_id\u001b[0m=\u001b[32m'asst_EHR4omyzzojIfQ8spmohkvaB'\u001b[0m,\n",
              "    \u001b[33mcancelled_at\u001b[0m=\u001b[3;35mNone\u001b[0m,\n",
              "    \u001b[33mcompleted_at\u001b[0m=\u001b[3;35mNone\u001b[0m,\n",
              "    \u001b[33mcreated_at\u001b[0m=\u001b[1;36m1703569843\u001b[0m,\n",
              "    \u001b[33mexpires_at\u001b[0m=\u001b[1;36m1703570443\u001b[0m,\n",
              "    \u001b[33mfailed_at\u001b[0m=\u001b[3;35mNone\u001b[0m,\n",
              "    \u001b[33mfile_ids\u001b[0m=\u001b[1m[\u001b[0m\u001b[1m]\u001b[0m,\n",
              "    \u001b[33minstructions\u001b[0m=\u001b[32m'你是一位熱愛運動的達人, 具有各種與運動相關的知識'\u001b[0m,\n",
              "    \u001b[33mlast_error\u001b[0m=\u001b[3;35mNone\u001b[0m,\n",
              "    \u001b[33mmetadata\u001b[0m=\u001b[1m{\u001b[0m\u001b[1m}\u001b[0m,\n",
              "    \u001b[33mmodel\u001b[0m=\u001b[32m'gpt-3.5-turbo-1106'\u001b[0m,\n",
              "    \u001b[33mobject\u001b[0m=\u001b[32m'thread.run'\u001b[0m,\n",
              "    \u001b[33mrequired_action\u001b[0m=\u001b[3;35mNone\u001b[0m,\n",
              "    \u001b[33mstarted_at\u001b[0m=\u001b[3;35mNone\u001b[0m,\n",
              "    \u001b[33mstatus\u001b[0m=\u001b[32m'queued'\u001b[0m,\n",
              "    \u001b[33mthread_id\u001b[0m=\u001b[32m'thread_1r6m1Agm9WkjWk9Eif5o3NOK'\u001b[0m,\n",
              "    \u001b[33mtools\u001b[0m=\u001b[1m[\u001b[0m\u001b[1m]\u001b[0m\n",
              "\u001b[1m)\u001b[0m\n"
            ],
            "text/html": [
              "<pre style=\"white-space:pre;overflow-x:auto;line-height:normal;font-family:Menlo,'DejaVu Sans Mono',consolas,'Courier New',monospace\"><span style=\"color: #800080; text-decoration-color: #800080; font-weight: bold\">Run</span><span style=\"font-weight: bold\">(</span>\n",
              "    <span style=\"color: #808000; text-decoration-color: #808000\">id</span>=<span style=\"color: #008000; text-decoration-color: #008000\">'run_lHXzcCHn8NSObn8ZtOudM6AA'</span>,\n",
              "    <span style=\"color: #808000; text-decoration-color: #808000\">assistant_id</span>=<span style=\"color: #008000; text-decoration-color: #008000\">'asst_EHR4omyzzojIfQ8spmohkvaB'</span>,\n",
              "    <span style=\"color: #808000; text-decoration-color: #808000\">cancelled_at</span>=<span style=\"color: #800080; text-decoration-color: #800080; font-style: italic\">None</span>,\n",
              "    <span style=\"color: #808000; text-decoration-color: #808000\">completed_at</span>=<span style=\"color: #800080; text-decoration-color: #800080; font-style: italic\">None</span>,\n",
              "    <span style=\"color: #808000; text-decoration-color: #808000\">created_at</span>=<span style=\"color: #008080; text-decoration-color: #008080; font-weight: bold\">1703569843</span>,\n",
              "    <span style=\"color: #808000; text-decoration-color: #808000\">expires_at</span>=<span style=\"color: #008080; text-decoration-color: #008080; font-weight: bold\">1703570443</span>,\n",
              "    <span style=\"color: #808000; text-decoration-color: #808000\">failed_at</span>=<span style=\"color: #800080; text-decoration-color: #800080; font-style: italic\">None</span>,\n",
              "    <span style=\"color: #808000; text-decoration-color: #808000\">file_ids</span>=<span style=\"font-weight: bold\">[]</span>,\n",
              "    <span style=\"color: #808000; text-decoration-color: #808000\">instructions</span>=<span style=\"color: #008000; text-decoration-color: #008000\">'你是一位熱愛運動的達人, 具有各種與運動相關的知識'</span>,\n",
              "    <span style=\"color: #808000; text-decoration-color: #808000\">last_error</span>=<span style=\"color: #800080; text-decoration-color: #800080; font-style: italic\">None</span>,\n",
              "    <span style=\"color: #808000; text-decoration-color: #808000\">metadata</span>=<span style=\"font-weight: bold\">{}</span>,\n",
              "    <span style=\"color: #808000; text-decoration-color: #808000\">model</span>=<span style=\"color: #008000; text-decoration-color: #008000\">'gpt-3.5-turbo-1106'</span>,\n",
              "    <span style=\"color: #808000; text-decoration-color: #808000\">object</span>=<span style=\"color: #008000; text-decoration-color: #008000\">'thread.run'</span>,\n",
              "    <span style=\"color: #808000; text-decoration-color: #808000\">required_action</span>=<span style=\"color: #800080; text-decoration-color: #800080; font-style: italic\">None</span>,\n",
              "    <span style=\"color: #808000; text-decoration-color: #808000\">started_at</span>=<span style=\"color: #800080; text-decoration-color: #800080; font-style: italic\">None</span>,\n",
              "    <span style=\"color: #808000; text-decoration-color: #808000\">status</span>=<span style=\"color: #008000; text-decoration-color: #008000\">'queued'</span>,\n",
              "    <span style=\"color: #808000; text-decoration-color: #808000\">thread_id</span>=<span style=\"color: #008000; text-decoration-color: #008000\">'thread_1r6m1Agm9WkjWk9Eif5o3NOK'</span>,\n",
              "    <span style=\"color: #808000; text-decoration-color: #808000\">tools</span>=<span style=\"font-weight: bold\">[]</span>\n",
              "<span style=\"font-weight: bold\">)</span>\n",
              "</pre>\n"
            ]
          },
          "metadata": {}
        }
      ]
    },
    {
      "cell_type": "code",
      "source": [
        "import time\n",
        "\n",
        "def wait_on_run(run):\n",
        "    while run.status == \"queued\" or run.status == \"in_progress\":\n",
        "        run = client.beta.threads.runs.retrieve(\n",
        "            thread_id=run.thread_id,\n",
        "            run_id=run.id,\n",
        "        )\n",
        "        time.sleep(0.5)\n",
        "    return run\n",
        "run = wait_on_run(run)\n",
        "pprint(run)"
      ],
      "metadata": {
        "id": "6wmi0qLSf4xa"
      },
      "execution_count": null,
      "outputs": []
    },
    {
      "cell_type": "markdown",
      "source": [
        "### 顯示討論串內的所有訊息"
      ],
      "metadata": {
        "id": "o0aUTDgQhwri"
      }
    },
    {
      "cell_type": "code",
      "source": [
        "messages = client.beta.threads.messages.list(thread_id=thread.id)\n",
        "pprint(messages)"
      ],
      "metadata": {
        "colab": {
          "base_uri": "https://localhost:8080/",
          "height": 776
        },
        "id": "qwfHpR2Hh128",
        "outputId": "a3d34380-a8fb-499a-8967-f4884523694b"
      },
      "execution_count": null,
      "outputs": [
        {
          "output_type": "display_data",
          "data": {
            "text/plain": [
              "SyncCursorPage\u001b[1m[\u001b[0mThreadMessage\u001b[1m]\u001b[0m\u001b[1m(\u001b[0m\n",
              "    \u001b[33mdata\u001b[0m=\u001b[1m[\u001b[0m\n",
              "        \u001b[1;35mThreadMessage\u001b[0m\u001b[1m(\u001b[0m\n",
              "            \u001b[33mid\u001b[0m=\u001b[32m'msg_LAJdOG3zD2dcPp8jwRw7hZci'\u001b[0m,\n",
              "            \u001b[33massistant_id\u001b[0m=\u001b[32m'asst_EHR4omyzzojIfQ8spmohkvaB'\u001b[0m,\n",
              "            \u001b[33mcontent\u001b[0m=\u001b[1m[\u001b[0m\n",
              "                \u001b[1;35mMessageContentText\u001b[0m\u001b[1m(\u001b[0m\n",
              "                    \u001b[33mtext\u001b[0m=\u001b[1;35mText\u001b[0m\u001b[1m(\u001b[0m\n",
              "                        \u001b[33mannotations\u001b[0m=\u001b[1m[\u001b[0m\u001b[1m]\u001b[0m,\n",
              "                        \u001b[33mvalue\u001b[0m=\u001b[32m'消耗的熱量取決於走路的速度以及個人的體重和身體情況。一般而言，以5公里/小時的速度行走\u001b[0m\n",
              "\u001b[32m一小時，一個65公斤的人大約會消耗250-300卡路里的熱量。然而，這些數字僅供參考，實際的消耗量還會受到其他因素的影響，例\u001b[0m\n",
              "\u001b[32m如地形、風向、走路時是否攜帶負重等。'\u001b[0m\n",
              "                    \u001b[1m)\u001b[0m,\n",
              "                    \u001b[33mtype\u001b[0m=\u001b[32m'text'\u001b[0m\n",
              "                \u001b[1m)\u001b[0m\n",
              "            \u001b[1m]\u001b[0m,\n",
              "            \u001b[33mcreated_at\u001b[0m=\u001b[1;36m1703569844\u001b[0m,\n",
              "            \u001b[33mfile_ids\u001b[0m=\u001b[1m[\u001b[0m\u001b[1m]\u001b[0m,\n",
              "            \u001b[33mmetadata\u001b[0m=\u001b[1m{\u001b[0m\u001b[1m}\u001b[0m,\n",
              "            \u001b[33mobject\u001b[0m=\u001b[32m'thread.message'\u001b[0m,\n",
              "            \u001b[33mrole\u001b[0m=\u001b[32m'assistant'\u001b[0m,\n",
              "            \u001b[33mrun_id\u001b[0m=\u001b[32m'run_lHXzcCHn8NSObn8ZtOudM6AA'\u001b[0m,\n",
              "            \u001b[33mthread_id\u001b[0m=\u001b[32m'thread_1r6m1Agm9WkjWk9Eif5o3NOK'\u001b[0m\n",
              "        \u001b[1m)\u001b[0m,\n",
              "        \u001b[1;35mThreadMessage\u001b[0m\u001b[1m(\u001b[0m\n",
              "            \u001b[33mid\u001b[0m=\u001b[32m'msg_aJVCCSuuU3ZutHzJkSx80BxQ'\u001b[0m,\n",
              "            \u001b[33massistant_id\u001b[0m=\u001b[3;35mNone\u001b[0m,\n",
              "            \u001b[33mcontent\u001b[0m=\u001b[1m[\u001b[0m\n",
              "                \u001b[1;35mMessageContentText\u001b[0m\u001b[1m(\u001b[0m\n",
              "                    \u001b[33mtext\u001b[0m=\u001b[1;35mText\u001b[0m\u001b[1m(\u001b[0m\u001b[33mannotations\u001b[0m=\u001b[1m[\u001b[0m\u001b[1m]\u001b[0m, \u001b[33mvalue\u001b[0m=\u001b[32m'走路一小時相當於消耗多少熱量？'\u001b[0m\u001b[1m)\u001b[0m,\n",
              "                    \u001b[33mtype\u001b[0m=\u001b[32m'text'\u001b[0m\n",
              "                \u001b[1m)\u001b[0m\n",
              "            \u001b[1m]\u001b[0m,\n",
              "            \u001b[33mcreated_at\u001b[0m=\u001b[1;36m1703569842\u001b[0m,\n",
              "            \u001b[33mfile_ids\u001b[0m=\u001b[1m[\u001b[0m\u001b[1m]\u001b[0m,\n",
              "            \u001b[33mmetadata\u001b[0m=\u001b[1m{\u001b[0m\u001b[1m}\u001b[0m,\n",
              "            \u001b[33mobject\u001b[0m=\u001b[32m'thread.message'\u001b[0m,\n",
              "            \u001b[33mrole\u001b[0m=\u001b[32m'user'\u001b[0m,\n",
              "            \u001b[33mrun_id\u001b[0m=\u001b[3;35mNone\u001b[0m,\n",
              "            \u001b[33mthread_id\u001b[0m=\u001b[32m'thread_1r6m1Agm9WkjWk9Eif5o3NOK'\u001b[0m\n",
              "        \u001b[1m)\u001b[0m\n",
              "    \u001b[1m]\u001b[0m,\n",
              "    \u001b[33mobject\u001b[0m=\u001b[32m'list'\u001b[0m,\n",
              "    \u001b[33mfirst_id\u001b[0m=\u001b[32m'msg_LAJdOG3zD2dcPp8jwRw7hZci'\u001b[0m,\n",
              "    \u001b[33mlast_id\u001b[0m=\u001b[32m'msg_aJVCCSuuU3ZutHzJkSx80BxQ'\u001b[0m,\n",
              "    \u001b[33mhas_more\u001b[0m=\u001b[3;91mFalse\u001b[0m\n",
              "\u001b[1m)\u001b[0m\n"
            ],
            "text/html": [
              "<pre style=\"white-space:pre;overflow-x:auto;line-height:normal;font-family:Menlo,'DejaVu Sans Mono',consolas,'Courier New',monospace\">SyncCursorPage<span style=\"font-weight: bold\">[</span>ThreadMessage<span style=\"font-weight: bold\">](</span>\n",
              "    <span style=\"color: #808000; text-decoration-color: #808000\">data</span>=<span style=\"font-weight: bold\">[</span>\n",
              "        <span style=\"color: #800080; text-decoration-color: #800080; font-weight: bold\">ThreadMessage</span><span style=\"font-weight: bold\">(</span>\n",
              "            <span style=\"color: #808000; text-decoration-color: #808000\">id</span>=<span style=\"color: #008000; text-decoration-color: #008000\">'msg_LAJdOG3zD2dcPp8jwRw7hZci'</span>,\n",
              "            <span style=\"color: #808000; text-decoration-color: #808000\">assistant_id</span>=<span style=\"color: #008000; text-decoration-color: #008000\">'asst_EHR4omyzzojIfQ8spmohkvaB'</span>,\n",
              "            <span style=\"color: #808000; text-decoration-color: #808000\">content</span>=<span style=\"font-weight: bold\">[</span>\n",
              "                <span style=\"color: #800080; text-decoration-color: #800080; font-weight: bold\">MessageContentText</span><span style=\"font-weight: bold\">(</span>\n",
              "                    <span style=\"color: #808000; text-decoration-color: #808000\">text</span>=<span style=\"color: #800080; text-decoration-color: #800080; font-weight: bold\">Text</span><span style=\"font-weight: bold\">(</span>\n",
              "                        <span style=\"color: #808000; text-decoration-color: #808000\">annotations</span>=<span style=\"font-weight: bold\">[]</span>,\n",
              "                        <span style=\"color: #808000; text-decoration-color: #808000\">value</span>=<span style=\"color: #008000; text-decoration-color: #008000\">'消耗的熱量取決於走路的速度以及個人的體重和身體情況。一般而言，以5公里/小時的速度行走</span>\n",
              "<span style=\"color: #008000; text-decoration-color: #008000\">一小時，一個65公斤的人大約會消耗250-300卡路里的熱量。然而，這些數字僅供參考，實際的消耗量還會受到其他因素的影響，例</span>\n",
              "<span style=\"color: #008000; text-decoration-color: #008000\">如地形、風向、走路時是否攜帶負重等。'</span>\n",
              "                    <span style=\"font-weight: bold\">)</span>,\n",
              "                    <span style=\"color: #808000; text-decoration-color: #808000\">type</span>=<span style=\"color: #008000; text-decoration-color: #008000\">'text'</span>\n",
              "                <span style=\"font-weight: bold\">)</span>\n",
              "            <span style=\"font-weight: bold\">]</span>,\n",
              "            <span style=\"color: #808000; text-decoration-color: #808000\">created_at</span>=<span style=\"color: #008080; text-decoration-color: #008080; font-weight: bold\">1703569844</span>,\n",
              "            <span style=\"color: #808000; text-decoration-color: #808000\">file_ids</span>=<span style=\"font-weight: bold\">[]</span>,\n",
              "            <span style=\"color: #808000; text-decoration-color: #808000\">metadata</span>=<span style=\"font-weight: bold\">{}</span>,\n",
              "            <span style=\"color: #808000; text-decoration-color: #808000\">object</span>=<span style=\"color: #008000; text-decoration-color: #008000\">'thread.message'</span>,\n",
              "            <span style=\"color: #808000; text-decoration-color: #808000\">role</span>=<span style=\"color: #008000; text-decoration-color: #008000\">'assistant'</span>,\n",
              "            <span style=\"color: #808000; text-decoration-color: #808000\">run_id</span>=<span style=\"color: #008000; text-decoration-color: #008000\">'run_lHXzcCHn8NSObn8ZtOudM6AA'</span>,\n",
              "            <span style=\"color: #808000; text-decoration-color: #808000\">thread_id</span>=<span style=\"color: #008000; text-decoration-color: #008000\">'thread_1r6m1Agm9WkjWk9Eif5o3NOK'</span>\n",
              "        <span style=\"font-weight: bold\">)</span>,\n",
              "        <span style=\"color: #800080; text-decoration-color: #800080; font-weight: bold\">ThreadMessage</span><span style=\"font-weight: bold\">(</span>\n",
              "            <span style=\"color: #808000; text-decoration-color: #808000\">id</span>=<span style=\"color: #008000; text-decoration-color: #008000\">'msg_aJVCCSuuU3ZutHzJkSx80BxQ'</span>,\n",
              "            <span style=\"color: #808000; text-decoration-color: #808000\">assistant_id</span>=<span style=\"color: #800080; text-decoration-color: #800080; font-style: italic\">None</span>,\n",
              "            <span style=\"color: #808000; text-decoration-color: #808000\">content</span>=<span style=\"font-weight: bold\">[</span>\n",
              "                <span style=\"color: #800080; text-decoration-color: #800080; font-weight: bold\">MessageContentText</span><span style=\"font-weight: bold\">(</span>\n",
              "                    <span style=\"color: #808000; text-decoration-color: #808000\">text</span>=<span style=\"color: #800080; text-decoration-color: #800080; font-weight: bold\">Text</span><span style=\"font-weight: bold\">(</span><span style=\"color: #808000; text-decoration-color: #808000\">annotations</span>=<span style=\"font-weight: bold\">[]</span>, <span style=\"color: #808000; text-decoration-color: #808000\">value</span>=<span style=\"color: #008000; text-decoration-color: #008000\">'走路一小時相當於消耗多少熱量？'</span><span style=\"font-weight: bold\">)</span>,\n",
              "                    <span style=\"color: #808000; text-decoration-color: #808000\">type</span>=<span style=\"color: #008000; text-decoration-color: #008000\">'text'</span>\n",
              "                <span style=\"font-weight: bold\">)</span>\n",
              "            <span style=\"font-weight: bold\">]</span>,\n",
              "            <span style=\"color: #808000; text-decoration-color: #808000\">created_at</span>=<span style=\"color: #008080; text-decoration-color: #008080; font-weight: bold\">1703569842</span>,\n",
              "            <span style=\"color: #808000; text-decoration-color: #808000\">file_ids</span>=<span style=\"font-weight: bold\">[]</span>,\n",
              "            <span style=\"color: #808000; text-decoration-color: #808000\">metadata</span>=<span style=\"font-weight: bold\">{}</span>,\n",
              "            <span style=\"color: #808000; text-decoration-color: #808000\">object</span>=<span style=\"color: #008000; text-decoration-color: #008000\">'thread.message'</span>,\n",
              "            <span style=\"color: #808000; text-decoration-color: #808000\">role</span>=<span style=\"color: #008000; text-decoration-color: #008000\">'user'</span>,\n",
              "            <span style=\"color: #808000; text-decoration-color: #808000\">run_id</span>=<span style=\"color: #800080; text-decoration-color: #800080; font-style: italic\">None</span>,\n",
              "            <span style=\"color: #808000; text-decoration-color: #808000\">thread_id</span>=<span style=\"color: #008000; text-decoration-color: #008000\">'thread_1r6m1Agm9WkjWk9Eif5o3NOK'</span>\n",
              "        <span style=\"font-weight: bold\">)</span>\n",
              "    <span style=\"font-weight: bold\">]</span>,\n",
              "    <span style=\"color: #808000; text-decoration-color: #808000\">object</span>=<span style=\"color: #008000; text-decoration-color: #008000\">'list'</span>,\n",
              "    <span style=\"color: #808000; text-decoration-color: #808000\">first_id</span>=<span style=\"color: #008000; text-decoration-color: #008000\">'msg_LAJdOG3zD2dcPp8jwRw7hZci'</span>,\n",
              "    <span style=\"color: #808000; text-decoration-color: #808000\">last_id</span>=<span style=\"color: #008000; text-decoration-color: #008000\">'msg_aJVCCSuuU3ZutHzJkSx80BxQ'</span>,\n",
              "    <span style=\"color: #808000; text-decoration-color: #808000\">has_more</span>=<span style=\"color: #ff0000; text-decoration-color: #ff0000; font-style: italic\">False</span>\n",
              "<span style=\"font-weight: bold\">)</span>\n",
              "</pre>\n"
            ]
          },
          "metadata": {}
        }
      ]
    },
    {
      "cell_type": "code",
      "source": [
        "for part in messages:\n",
        "    print(f'{part.role}：{part.content[0].text.value}')"
      ],
      "metadata": {
        "colab": {
          "base_uri": "https://localhost:8080/"
        },
        "id": "fWaoPSRCmy4R",
        "outputId": "18f92ef1-643f-4887-e7dd-6deb6a1af71f"
      },
      "execution_count": null,
      "outputs": [
        {
          "output_type": "stream",
          "name": "stdout",
          "text": [
            "assistant：消耗的熱量取決於走路的速度以及個人的體重和身體情況。一般而言，以5公里/小時的速度行走一小時，一個65公斤的人大約會消耗250-300卡路里的熱量。然而，這些數字僅供參考，實際的消耗量還會受到其他因素的影響，例如地形、風向、走路時是否攜帶負重等。\n",
            "user：走路一小時相當於消耗多少熱量？\n"
          ]
        }
      ]
    },
    {
      "cell_type": "markdown",
      "source": [
        "## 8-2 Assistants API 物件用法"
      ],
      "metadata": {
        "id": "x10yUhc0gufd"
      }
    },
    {
      "cell_type": "markdown",
      "source": [
        "### 建立新討論串直接執行"
      ],
      "metadata": {
        "id": "T6CUd6kAr3Q9"
      }
    },
    {
      "cell_type": "code",
      "source": [
        "run = client.beta.threads.create_and_run(\n",
        "  assistant_id=assistant.id,\n",
        "  thread={\n",
        "    \"messages\": [\n",
        "      {\"role\": \"user\",\n",
        "       \"content\": \"當小腿抽筋時最適當的處理是?, 用繁體中文回答\"}\n",
        "    ],\n",
        "  }\n",
        ")\n",
        "pprint(run)\n",
        "run = wait_on_run(run)\n",
        "messages = client.beta.threads.messages.list(thread_id=run.thread_id)\n",
        "for part in messages:\n",
        "    print(f'{part.role}：{part.content[0].text.value}')"
      ],
      "metadata": {
        "id": "M_z77Hhlrzc5",
        "colab": {
          "base_uri": "https://localhost:8080/",
          "height": 395
        },
        "outputId": "4e3ce010-beaf-47b0-b462-fbb9ab2f4adb"
      },
      "execution_count": null,
      "outputs": [
        {
          "output_type": "display_data",
          "data": {
            "text/plain": [
              "\u001b[1;35mRun\u001b[0m\u001b[1m(\u001b[0m\n",
              "    \u001b[33mid\u001b[0m=\u001b[32m'run_zxEUhKJrJNJMQk10w9xx2MmV'\u001b[0m,\n",
              "    \u001b[33massistant_id\u001b[0m=\u001b[32m'asst_EHR4omyzzojIfQ8spmohkvaB'\u001b[0m,\n",
              "    \u001b[33mcancelled_at\u001b[0m=\u001b[3;35mNone\u001b[0m,\n",
              "    \u001b[33mcompleted_at\u001b[0m=\u001b[3;35mNone\u001b[0m,\n",
              "    \u001b[33mcreated_at\u001b[0m=\u001b[1;36m1703570052\u001b[0m,\n",
              "    \u001b[33mexpires_at\u001b[0m=\u001b[1;36m1703570652\u001b[0m,\n",
              "    \u001b[33mfailed_at\u001b[0m=\u001b[3;35mNone\u001b[0m,\n",
              "    \u001b[33mfile_ids\u001b[0m=\u001b[1m[\u001b[0m\u001b[1m]\u001b[0m,\n",
              "    \u001b[33minstructions\u001b[0m=\u001b[32m'你是一位熱愛運動的達人, 具有各種與運動相關的知識'\u001b[0m,\n",
              "    \u001b[33mlast_error\u001b[0m=\u001b[3;35mNone\u001b[0m,\n",
              "    \u001b[33mmetadata\u001b[0m=\u001b[1m{\u001b[0m\u001b[1m}\u001b[0m,\n",
              "    \u001b[33mmodel\u001b[0m=\u001b[32m'gpt-3.5-turbo-1106'\u001b[0m,\n",
              "    \u001b[33mobject\u001b[0m=\u001b[32m'thread.run'\u001b[0m,\n",
              "    \u001b[33mrequired_action\u001b[0m=\u001b[3;35mNone\u001b[0m,\n",
              "    \u001b[33mstarted_at\u001b[0m=\u001b[3;35mNone\u001b[0m,\n",
              "    \u001b[33mstatus\u001b[0m=\u001b[32m'queued'\u001b[0m,\n",
              "    \u001b[33mthread_id\u001b[0m=\u001b[32m'thread_KtqImOv443wCrhGngaLblots'\u001b[0m,\n",
              "    \u001b[33mtools\u001b[0m=\u001b[1m[\u001b[0m\u001b[1m]\u001b[0m\n",
              "\u001b[1m)\u001b[0m\n"
            ],
            "text/html": [
              "<pre style=\"white-space:pre;overflow-x:auto;line-height:normal;font-family:Menlo,'DejaVu Sans Mono',consolas,'Courier New',monospace\"><span style=\"color: #800080; text-decoration-color: #800080; font-weight: bold\">Run</span><span style=\"font-weight: bold\">(</span>\n",
              "    <span style=\"color: #808000; text-decoration-color: #808000\">id</span>=<span style=\"color: #008000; text-decoration-color: #008000\">'run_zxEUhKJrJNJMQk10w9xx2MmV'</span>,\n",
              "    <span style=\"color: #808000; text-decoration-color: #808000\">assistant_id</span>=<span style=\"color: #008000; text-decoration-color: #008000\">'asst_EHR4omyzzojIfQ8spmohkvaB'</span>,\n",
              "    <span style=\"color: #808000; text-decoration-color: #808000\">cancelled_at</span>=<span style=\"color: #800080; text-decoration-color: #800080; font-style: italic\">None</span>,\n",
              "    <span style=\"color: #808000; text-decoration-color: #808000\">completed_at</span>=<span style=\"color: #800080; text-decoration-color: #800080; font-style: italic\">None</span>,\n",
              "    <span style=\"color: #808000; text-decoration-color: #808000\">created_at</span>=<span style=\"color: #008080; text-decoration-color: #008080; font-weight: bold\">1703570052</span>,\n",
              "    <span style=\"color: #808000; text-decoration-color: #808000\">expires_at</span>=<span style=\"color: #008080; text-decoration-color: #008080; font-weight: bold\">1703570652</span>,\n",
              "    <span style=\"color: #808000; text-decoration-color: #808000\">failed_at</span>=<span style=\"color: #800080; text-decoration-color: #800080; font-style: italic\">None</span>,\n",
              "    <span style=\"color: #808000; text-decoration-color: #808000\">file_ids</span>=<span style=\"font-weight: bold\">[]</span>,\n",
              "    <span style=\"color: #808000; text-decoration-color: #808000\">instructions</span>=<span style=\"color: #008000; text-decoration-color: #008000\">'你是一位熱愛運動的達人, 具有各種與運動相關的知識'</span>,\n",
              "    <span style=\"color: #808000; text-decoration-color: #808000\">last_error</span>=<span style=\"color: #800080; text-decoration-color: #800080; font-style: italic\">None</span>,\n",
              "    <span style=\"color: #808000; text-decoration-color: #808000\">metadata</span>=<span style=\"font-weight: bold\">{}</span>,\n",
              "    <span style=\"color: #808000; text-decoration-color: #808000\">model</span>=<span style=\"color: #008000; text-decoration-color: #008000\">'gpt-3.5-turbo-1106'</span>,\n",
              "    <span style=\"color: #808000; text-decoration-color: #808000\">object</span>=<span style=\"color: #008000; text-decoration-color: #008000\">'thread.run'</span>,\n",
              "    <span style=\"color: #808000; text-decoration-color: #808000\">required_action</span>=<span style=\"color: #800080; text-decoration-color: #800080; font-style: italic\">None</span>,\n",
              "    <span style=\"color: #808000; text-decoration-color: #808000\">started_at</span>=<span style=\"color: #800080; text-decoration-color: #800080; font-style: italic\">None</span>,\n",
              "    <span style=\"color: #808000; text-decoration-color: #808000\">status</span>=<span style=\"color: #008000; text-decoration-color: #008000\">'queued'</span>,\n",
              "    <span style=\"color: #808000; text-decoration-color: #808000\">thread_id</span>=<span style=\"color: #008000; text-decoration-color: #008000\">'thread_KtqImOv443wCrhGngaLblots'</span>,\n",
              "    <span style=\"color: #808000; text-decoration-color: #808000\">tools</span>=<span style=\"font-weight: bold\">[]</span>\n",
              "<span style=\"font-weight: bold\">)</span>\n",
              "</pre>\n"
            ]
          },
          "metadata": {}
        },
        {
          "output_type": "stream",
          "name": "stdout",
          "text": [
            "assistant：當小腿抽筋時，最好的處理方法是停止運動，放鬆緊繃的肌肉，輕輕按摩或拉伸受影響的區域，同時進行深呼吸放鬆身體。另外，可透過按摩或應用熱敷來緩解疼痛感。若疼痛持續或頻繁發生，建議尋求專業醫療建議。\n",
            "user：當小腿抽筋時最適當的處理是?, 用繁體中文回答\n"
          ]
        }
      ]
    },
    {
      "cell_type": "code",
      "source": [
        "new_thread = client.beta.threads.retrieve(run.thread_id)\n",
        "pprint(new_thread)"
      ],
      "metadata": {
        "colab": {
          "base_uri": "https://localhost:8080/",
          "height": 33
        },
        "id": "MdirW4Jmotwg",
        "outputId": "40e12dea-5439-42cd-af1a-c8b5a8465c79"
      },
      "execution_count": null,
      "outputs": [
        {
          "output_type": "display_data",
          "data": {
            "text/plain": [
              "\u001b[1;35mThread\u001b[0m\u001b[1m(\u001b[0m\u001b[33mid\u001b[0m=\u001b[32m'thread_KtqImOv443wCrhGngaLblots'\u001b[0m, \u001b[33mcreated_at\u001b[0m=\u001b[1;36m1703570052\u001b[0m, \u001b[33mmetadata\u001b[0m=\u001b[1m{\u001b[0m\u001b[1m}\u001b[0m, \u001b[33mobject\u001b[0m=\u001b[32m'thread'\u001b[0m\u001b[1m)\u001b[0m\n"
            ],
            "text/html": [
              "<pre style=\"white-space:pre;overflow-x:auto;line-height:normal;font-family:Menlo,'DejaVu Sans Mono',consolas,'Courier New',monospace\"><span style=\"color: #800080; text-decoration-color: #800080; font-weight: bold\">Thread</span><span style=\"font-weight: bold\">(</span><span style=\"color: #808000; text-decoration-color: #808000\">id</span>=<span style=\"color: #008000; text-decoration-color: #008000\">'thread_KtqImOv443wCrhGngaLblots'</span>, <span style=\"color: #808000; text-decoration-color: #808000\">created_at</span>=<span style=\"color: #008080; text-decoration-color: #008080; font-weight: bold\">1703570052</span>, <span style=\"color: #808000; text-decoration-color: #808000\">metadata</span>=<span style=\"font-weight: bold\">{}</span>, <span style=\"color: #808000; text-decoration-color: #808000\">object</span>=<span style=\"color: #008000; text-decoration-color: #008000\">'thread'</span><span style=\"font-weight: bold\">)</span>\n",
              "</pre>\n"
            ]
          },
          "metadata": {}
        }
      ]
    },
    {
      "cell_type": "markdown",
      "source": [
        "### 建立對話函式"
      ],
      "metadata": {
        "id": "YAEvRJuY0CYc"
      }
    },
    {
      "cell_type": "code",
      "source": [
        "def input_and_run(input, thread_id, assistant_id):\n",
        "    message = client.beta.threads.messages.create(\n",
        "        thread_id=thread_id,\n",
        "        role=\"user\",\n",
        "        content=input\n",
        "    )\n",
        "    run = client.beta.threads.runs.create(\n",
        "        thread_id=thread_id,\n",
        "        assistant_id=assistant_id,\n",
        "    )\n",
        "\n",
        "    return message, run"
      ],
      "metadata": {
        "id": "cIeeftdpxLko"
      },
      "execution_count": null,
      "outputs": []
    },
    {
      "cell_type": "code",
      "source": [
        "message, run = input_and_run(\"燙傷時第一步該怎麼做？\",\n",
        "                             new_thread.id, assistant.id)\n",
        "wait_on_run(run)\n",
        "messages = client.beta.threads.messages.list(thread_id=run.thread_id)\n",
        "for part in messages:\n",
        "    print(f'{part.role}：{part.content[0].text.value}')"
      ],
      "metadata": {
        "colab": {
          "base_uri": "https://localhost:8080/"
        },
        "id": "ZWgfhkTavgvh",
        "outputId": "84bb3737-97f6-4b77-8f3e-2f5d672a3027"
      },
      "execution_count": null,
      "outputs": [
        {
          "output_type": "stream",
          "name": "stdout",
          "text": [
            "assistant：燙傷時，第一步是立即將受傷部位放置在冷水下沖洗，持續約 10 至 15 分鐘，以降低受傷部位的溫度。切記不要使用冰塊直接觸碰受傷部位，以免造成更多傷害。冷水可以有效減輕疼痛、減少紅腫和防止燙傷加重。如果是擦傷燙傷的情況，可以輕輕擦拭傷口後再進行冷水沖洗。如果傷口擦傷面積較大或有疑慮，建議儘快就醫處理。\n",
            "user：燙傷時第一步該怎麼做？\n",
            "assistant：當小腿抽筋時，最好的處理方法是停止運動，放鬆緊繃的肌肉，輕輕按摩或拉伸受影響的區域，同時進行深呼吸放鬆身體。另外，可透過按摩或應用熱敷來緩解疼痛感。若疼痛持續或頻繁發生，建議尋求專業醫療建議。\n",
            "user：當小腿抽筋時最適當的處理是?, 用繁體中文回答\n"
          ]
        }
      ]
    },
    {
      "cell_type": "markdown",
      "source": [
        "### 取消執行"
      ],
      "metadata": {
        "id": "b_1nXQoNroqp"
      }
    },
    {
      "cell_type": "code",
      "source": [
        "message, run = input_and_run('蒙娜麗莎是誰的作品？',\n",
        "                             new_thread.id, assistant.id)\n",
        "\n",
        "run = client.beta.threads.runs.cancel(\n",
        "  thread_id=new_thread.id,\n",
        "  run_id=run.id\n",
        ")\n",
        "print(f\"取消中：{run.status}\")\n",
        "while run.status == \"cancelling\":\n",
        "    run = client.beta.threads.runs.retrieve(\n",
        "            thread_id=new_thread.id,\n",
        "            run_id=run.id,\n",
        "        )\n",
        "    if run.status != \"cancelling\":\n",
        "        print(f\"已取消：{run.status}\")\n",
        "        break"
      ],
      "metadata": {
        "colab": {
          "base_uri": "https://localhost:8080/"
        },
        "id": "H2P26pBsroFA",
        "outputId": "be5d8bd2-58e9-45c5-c310-e009ff2ffa2d"
      },
      "execution_count": null,
      "outputs": [
        {
          "output_type": "stream",
          "name": "stdout",
          "text": [
            "取消中：cancelling\n",
            "已取消：cancelled\n"
          ]
        }
      ]
    },
    {
      "cell_type": "markdown",
      "source": [
        "### 檢視執行記錄"
      ],
      "metadata": {
        "id": "joBddAAEPRa3"
      }
    },
    {
      "cell_type": "code",
      "source": [
        "runs = client.beta.threads.runs.list(\n",
        "  new_thread.id\n",
        ")\n",
        "pprint(runs)"
      ],
      "metadata": {
        "colab": {
          "base_uri": "https://localhost:8080/",
          "height": 1000
        },
        "id": "C2Iv5ALXrbNg",
        "outputId": "b1cf63a7-5fec-4702-9ba1-151e6a9a4b80"
      },
      "execution_count": null,
      "outputs": [
        {
          "output_type": "display_data",
          "data": {
            "text/plain": [
              "SyncCursorPage\u001b[1m[\u001b[0mRun\u001b[1m]\u001b[0m\u001b[1m(\u001b[0m\n",
              "    \u001b[33mdata\u001b[0m=\u001b[1m[\u001b[0m\n",
              "        \u001b[1;35mRun\u001b[0m\u001b[1m(\u001b[0m\n",
              "            \u001b[33mid\u001b[0m=\u001b[32m'run_oNEohwsNB800aPqcX0XmzrV0'\u001b[0m,\n",
              "            \u001b[33massistant_id\u001b[0m=\u001b[32m'asst_EHR4omyzzojIfQ8spmohkvaB'\u001b[0m,\n",
              "            \u001b[33mcancelled_at\u001b[0m=\u001b[1;36m1703570065\u001b[0m,\n",
              "            \u001b[33mcompleted_at\u001b[0m=\u001b[3;35mNone\u001b[0m,\n",
              "            \u001b[33mcreated_at\u001b[0m=\u001b[1;36m1703570063\u001b[0m,\n",
              "            \u001b[33mexpires_at\u001b[0m=\u001b[3;35mNone\u001b[0m,\n",
              "            \u001b[33mfailed_at\u001b[0m=\u001b[3;35mNone\u001b[0m,\n",
              "            \u001b[33mfile_ids\u001b[0m=\u001b[1m[\u001b[0m\u001b[1m]\u001b[0m,\n",
              "            \u001b[33minstructions\u001b[0m=\u001b[32m'你是一位熱愛運動的達人, 具有各種與運動相關的知識'\u001b[0m,\n",
              "            \u001b[33mlast_error\u001b[0m=\u001b[3;35mNone\u001b[0m,\n",
              "            \u001b[33mmetadata\u001b[0m=\u001b[1m{\u001b[0m\u001b[1m}\u001b[0m,\n",
              "            \u001b[33mmodel\u001b[0m=\u001b[32m'gpt-3.5-turbo-1106'\u001b[0m,\n",
              "            \u001b[33mobject\u001b[0m=\u001b[32m'thread.run'\u001b[0m,\n",
              "            \u001b[33mrequired_action\u001b[0m=\u001b[3;35mNone\u001b[0m,\n",
              "            \u001b[33mstarted_at\u001b[0m=\u001b[1;36m1703570064\u001b[0m,\n",
              "            \u001b[33mstatus\u001b[0m=\u001b[32m'cancelled'\u001b[0m,\n",
              "            \u001b[33mthread_id\u001b[0m=\u001b[32m'thread_KtqImOv443wCrhGngaLblots'\u001b[0m,\n",
              "            \u001b[33mtools\u001b[0m=\u001b[1m[\u001b[0m\u001b[1m]\u001b[0m\n",
              "        \u001b[1m)\u001b[0m,\n",
              "        \u001b[1;35mRun\u001b[0m\u001b[1m(\u001b[0m\n",
              "            \u001b[33mid\u001b[0m=\u001b[32m'run_p8szAQiAIcm3yd3zvXnpo2Bl'\u001b[0m,\n",
              "            \u001b[33massistant_id\u001b[0m=\u001b[32m'asst_EHR4omyzzojIfQ8spmohkvaB'\u001b[0m,\n",
              "            \u001b[33mcancelled_at\u001b[0m=\u001b[3;35mNone\u001b[0m,\n",
              "            \u001b[33mcompleted_at\u001b[0m=\u001b[1;36m1703570062\u001b[0m,\n",
              "            \u001b[33mcreated_at\u001b[0m=\u001b[1;36m1703570057\u001b[0m,\n",
              "            \u001b[33mexpires_at\u001b[0m=\u001b[3;35mNone\u001b[0m,\n",
              "            \u001b[33mfailed_at\u001b[0m=\u001b[3;35mNone\u001b[0m,\n",
              "            \u001b[33mfile_ids\u001b[0m=\u001b[1m[\u001b[0m\u001b[1m]\u001b[0m,\n",
              "            \u001b[33minstructions\u001b[0m=\u001b[32m'你是一位熱愛運動的達人, 具有各種與運動相關的知識'\u001b[0m,\n",
              "            \u001b[33mlast_error\u001b[0m=\u001b[3;35mNone\u001b[0m,\n",
              "            \u001b[33mmetadata\u001b[0m=\u001b[1m{\u001b[0m\u001b[1m}\u001b[0m,\n",
              "            \u001b[33mmodel\u001b[0m=\u001b[32m'gpt-3.5-turbo-1106'\u001b[0m,\n",
              "            \u001b[33mobject\u001b[0m=\u001b[32m'thread.run'\u001b[0m,\n",
              "            \u001b[33mrequired_action\u001b[0m=\u001b[3;35mNone\u001b[0m,\n",
              "            \u001b[33mstarted_at\u001b[0m=\u001b[1;36m1703570058\u001b[0m,\n",
              "            \u001b[33mstatus\u001b[0m=\u001b[32m'completed'\u001b[0m,\n",
              "            \u001b[33mthread_id\u001b[0m=\u001b[32m'thread_KtqImOv443wCrhGngaLblots'\u001b[0m,\n",
              "            \u001b[33mtools\u001b[0m=\u001b[1m[\u001b[0m\u001b[1m]\u001b[0m\n",
              "        \u001b[1m)\u001b[0m,\n",
              "        \u001b[1;35mRun\u001b[0m\u001b[1m(\u001b[0m\n",
              "            \u001b[33mid\u001b[0m=\u001b[32m'run_zxEUhKJrJNJMQk10w9xx2MmV'\u001b[0m,\n",
              "            \u001b[33massistant_id\u001b[0m=\u001b[32m'asst_EHR4omyzzojIfQ8spmohkvaB'\u001b[0m,\n",
              "            \u001b[33mcancelled_at\u001b[0m=\u001b[3;35mNone\u001b[0m,\n",
              "            \u001b[33mcompleted_at\u001b[0m=\u001b[1;36m1703570056\u001b[0m,\n",
              "            \u001b[33mcreated_at\u001b[0m=\u001b[1;36m1703570052\u001b[0m,\n",
              "            \u001b[33mexpires_at\u001b[0m=\u001b[3;35mNone\u001b[0m,\n",
              "            \u001b[33mfailed_at\u001b[0m=\u001b[3;35mNone\u001b[0m,\n",
              "            \u001b[33mfile_ids\u001b[0m=\u001b[1m[\u001b[0m\u001b[1m]\u001b[0m,\n",
              "            \u001b[33minstructions\u001b[0m=\u001b[32m'你是一位熱愛運動的達人, 具有各種與運動相關的知識'\u001b[0m,\n",
              "            \u001b[33mlast_error\u001b[0m=\u001b[3;35mNone\u001b[0m,\n",
              "            \u001b[33mmetadata\u001b[0m=\u001b[1m{\u001b[0m\u001b[1m}\u001b[0m,\n",
              "            \u001b[33mmodel\u001b[0m=\u001b[32m'gpt-3.5-turbo-1106'\u001b[0m,\n",
              "            \u001b[33mobject\u001b[0m=\u001b[32m'thread.run'\u001b[0m,\n",
              "            \u001b[33mrequired_action\u001b[0m=\u001b[3;35mNone\u001b[0m,\n",
              "            \u001b[33mstarted_at\u001b[0m=\u001b[1;36m1703570053\u001b[0m,\n",
              "            \u001b[33mstatus\u001b[0m=\u001b[32m'completed'\u001b[0m,\n",
              "            \u001b[33mthread_id\u001b[0m=\u001b[32m'thread_KtqImOv443wCrhGngaLblots'\u001b[0m,\n",
              "            \u001b[33mtools\u001b[0m=\u001b[1m[\u001b[0m\u001b[1m]\u001b[0m\n",
              "        \u001b[1m)\u001b[0m\n",
              "    \u001b[1m]\u001b[0m,\n",
              "    \u001b[33mobject\u001b[0m=\u001b[32m'list'\u001b[0m,\n",
              "    \u001b[33mfirst_id\u001b[0m=\u001b[32m'run_oNEohwsNB800aPqcX0XmzrV0'\u001b[0m,\n",
              "    \u001b[33mlast_id\u001b[0m=\u001b[32m'run_zxEUhKJrJNJMQk10w9xx2MmV'\u001b[0m,\n",
              "    \u001b[33mhas_more\u001b[0m=\u001b[3;91mFalse\u001b[0m\n",
              "\u001b[1m)\u001b[0m\n"
            ],
            "text/html": [
              "<pre style=\"white-space:pre;overflow-x:auto;line-height:normal;font-family:Menlo,'DejaVu Sans Mono',consolas,'Courier New',monospace\">SyncCursorPage<span style=\"font-weight: bold\">[</span>Run<span style=\"font-weight: bold\">](</span>\n",
              "    <span style=\"color: #808000; text-decoration-color: #808000\">data</span>=<span style=\"font-weight: bold\">[</span>\n",
              "        <span style=\"color: #800080; text-decoration-color: #800080; font-weight: bold\">Run</span><span style=\"font-weight: bold\">(</span>\n",
              "            <span style=\"color: #808000; text-decoration-color: #808000\">id</span>=<span style=\"color: #008000; text-decoration-color: #008000\">'run_oNEohwsNB800aPqcX0XmzrV0'</span>,\n",
              "            <span style=\"color: #808000; text-decoration-color: #808000\">assistant_id</span>=<span style=\"color: #008000; text-decoration-color: #008000\">'asst_EHR4omyzzojIfQ8spmohkvaB'</span>,\n",
              "            <span style=\"color: #808000; text-decoration-color: #808000\">cancelled_at</span>=<span style=\"color: #008080; text-decoration-color: #008080; font-weight: bold\">1703570065</span>,\n",
              "            <span style=\"color: #808000; text-decoration-color: #808000\">completed_at</span>=<span style=\"color: #800080; text-decoration-color: #800080; font-style: italic\">None</span>,\n",
              "            <span style=\"color: #808000; text-decoration-color: #808000\">created_at</span>=<span style=\"color: #008080; text-decoration-color: #008080; font-weight: bold\">1703570063</span>,\n",
              "            <span style=\"color: #808000; text-decoration-color: #808000\">expires_at</span>=<span style=\"color: #800080; text-decoration-color: #800080; font-style: italic\">None</span>,\n",
              "            <span style=\"color: #808000; text-decoration-color: #808000\">failed_at</span>=<span style=\"color: #800080; text-decoration-color: #800080; font-style: italic\">None</span>,\n",
              "            <span style=\"color: #808000; text-decoration-color: #808000\">file_ids</span>=<span style=\"font-weight: bold\">[]</span>,\n",
              "            <span style=\"color: #808000; text-decoration-color: #808000\">instructions</span>=<span style=\"color: #008000; text-decoration-color: #008000\">'你是一位熱愛運動的達人, 具有各種與運動相關的知識'</span>,\n",
              "            <span style=\"color: #808000; text-decoration-color: #808000\">last_error</span>=<span style=\"color: #800080; text-decoration-color: #800080; font-style: italic\">None</span>,\n",
              "            <span style=\"color: #808000; text-decoration-color: #808000\">metadata</span>=<span style=\"font-weight: bold\">{}</span>,\n",
              "            <span style=\"color: #808000; text-decoration-color: #808000\">model</span>=<span style=\"color: #008000; text-decoration-color: #008000\">'gpt-3.5-turbo-1106'</span>,\n",
              "            <span style=\"color: #808000; text-decoration-color: #808000\">object</span>=<span style=\"color: #008000; text-decoration-color: #008000\">'thread.run'</span>,\n",
              "            <span style=\"color: #808000; text-decoration-color: #808000\">required_action</span>=<span style=\"color: #800080; text-decoration-color: #800080; font-style: italic\">None</span>,\n",
              "            <span style=\"color: #808000; text-decoration-color: #808000\">started_at</span>=<span style=\"color: #008080; text-decoration-color: #008080; font-weight: bold\">1703570064</span>,\n",
              "            <span style=\"color: #808000; text-decoration-color: #808000\">status</span>=<span style=\"color: #008000; text-decoration-color: #008000\">'cancelled'</span>,\n",
              "            <span style=\"color: #808000; text-decoration-color: #808000\">thread_id</span>=<span style=\"color: #008000; text-decoration-color: #008000\">'thread_KtqImOv443wCrhGngaLblots'</span>,\n",
              "            <span style=\"color: #808000; text-decoration-color: #808000\">tools</span>=<span style=\"font-weight: bold\">[]</span>\n",
              "        <span style=\"font-weight: bold\">)</span>,\n",
              "        <span style=\"color: #800080; text-decoration-color: #800080; font-weight: bold\">Run</span><span style=\"font-weight: bold\">(</span>\n",
              "            <span style=\"color: #808000; text-decoration-color: #808000\">id</span>=<span style=\"color: #008000; text-decoration-color: #008000\">'run_p8szAQiAIcm3yd3zvXnpo2Bl'</span>,\n",
              "            <span style=\"color: #808000; text-decoration-color: #808000\">assistant_id</span>=<span style=\"color: #008000; text-decoration-color: #008000\">'asst_EHR4omyzzojIfQ8spmohkvaB'</span>,\n",
              "            <span style=\"color: #808000; text-decoration-color: #808000\">cancelled_at</span>=<span style=\"color: #800080; text-decoration-color: #800080; font-style: italic\">None</span>,\n",
              "            <span style=\"color: #808000; text-decoration-color: #808000\">completed_at</span>=<span style=\"color: #008080; text-decoration-color: #008080; font-weight: bold\">1703570062</span>,\n",
              "            <span style=\"color: #808000; text-decoration-color: #808000\">created_at</span>=<span style=\"color: #008080; text-decoration-color: #008080; font-weight: bold\">1703570057</span>,\n",
              "            <span style=\"color: #808000; text-decoration-color: #808000\">expires_at</span>=<span style=\"color: #800080; text-decoration-color: #800080; font-style: italic\">None</span>,\n",
              "            <span style=\"color: #808000; text-decoration-color: #808000\">failed_at</span>=<span style=\"color: #800080; text-decoration-color: #800080; font-style: italic\">None</span>,\n",
              "            <span style=\"color: #808000; text-decoration-color: #808000\">file_ids</span>=<span style=\"font-weight: bold\">[]</span>,\n",
              "            <span style=\"color: #808000; text-decoration-color: #808000\">instructions</span>=<span style=\"color: #008000; text-decoration-color: #008000\">'你是一位熱愛運動的達人, 具有各種與運動相關的知識'</span>,\n",
              "            <span style=\"color: #808000; text-decoration-color: #808000\">last_error</span>=<span style=\"color: #800080; text-decoration-color: #800080; font-style: italic\">None</span>,\n",
              "            <span style=\"color: #808000; text-decoration-color: #808000\">metadata</span>=<span style=\"font-weight: bold\">{}</span>,\n",
              "            <span style=\"color: #808000; text-decoration-color: #808000\">model</span>=<span style=\"color: #008000; text-decoration-color: #008000\">'gpt-3.5-turbo-1106'</span>,\n",
              "            <span style=\"color: #808000; text-decoration-color: #808000\">object</span>=<span style=\"color: #008000; text-decoration-color: #008000\">'thread.run'</span>,\n",
              "            <span style=\"color: #808000; text-decoration-color: #808000\">required_action</span>=<span style=\"color: #800080; text-decoration-color: #800080; font-style: italic\">None</span>,\n",
              "            <span style=\"color: #808000; text-decoration-color: #808000\">started_at</span>=<span style=\"color: #008080; text-decoration-color: #008080; font-weight: bold\">1703570058</span>,\n",
              "            <span style=\"color: #808000; text-decoration-color: #808000\">status</span>=<span style=\"color: #008000; text-decoration-color: #008000\">'completed'</span>,\n",
              "            <span style=\"color: #808000; text-decoration-color: #808000\">thread_id</span>=<span style=\"color: #008000; text-decoration-color: #008000\">'thread_KtqImOv443wCrhGngaLblots'</span>,\n",
              "            <span style=\"color: #808000; text-decoration-color: #808000\">tools</span>=<span style=\"font-weight: bold\">[]</span>\n",
              "        <span style=\"font-weight: bold\">)</span>,\n",
              "        <span style=\"color: #800080; text-decoration-color: #800080; font-weight: bold\">Run</span><span style=\"font-weight: bold\">(</span>\n",
              "            <span style=\"color: #808000; text-decoration-color: #808000\">id</span>=<span style=\"color: #008000; text-decoration-color: #008000\">'run_zxEUhKJrJNJMQk10w9xx2MmV'</span>,\n",
              "            <span style=\"color: #808000; text-decoration-color: #808000\">assistant_id</span>=<span style=\"color: #008000; text-decoration-color: #008000\">'asst_EHR4omyzzojIfQ8spmohkvaB'</span>,\n",
              "            <span style=\"color: #808000; text-decoration-color: #808000\">cancelled_at</span>=<span style=\"color: #800080; text-decoration-color: #800080; font-style: italic\">None</span>,\n",
              "            <span style=\"color: #808000; text-decoration-color: #808000\">completed_at</span>=<span style=\"color: #008080; text-decoration-color: #008080; font-weight: bold\">1703570056</span>,\n",
              "            <span style=\"color: #808000; text-decoration-color: #808000\">created_at</span>=<span style=\"color: #008080; text-decoration-color: #008080; font-weight: bold\">1703570052</span>,\n",
              "            <span style=\"color: #808000; text-decoration-color: #808000\">expires_at</span>=<span style=\"color: #800080; text-decoration-color: #800080; font-style: italic\">None</span>,\n",
              "            <span style=\"color: #808000; text-decoration-color: #808000\">failed_at</span>=<span style=\"color: #800080; text-decoration-color: #800080; font-style: italic\">None</span>,\n",
              "            <span style=\"color: #808000; text-decoration-color: #808000\">file_ids</span>=<span style=\"font-weight: bold\">[]</span>,\n",
              "            <span style=\"color: #808000; text-decoration-color: #808000\">instructions</span>=<span style=\"color: #008000; text-decoration-color: #008000\">'你是一位熱愛運動的達人, 具有各種與運動相關的知識'</span>,\n",
              "            <span style=\"color: #808000; text-decoration-color: #808000\">last_error</span>=<span style=\"color: #800080; text-decoration-color: #800080; font-style: italic\">None</span>,\n",
              "            <span style=\"color: #808000; text-decoration-color: #808000\">metadata</span>=<span style=\"font-weight: bold\">{}</span>,\n",
              "            <span style=\"color: #808000; text-decoration-color: #808000\">model</span>=<span style=\"color: #008000; text-decoration-color: #008000\">'gpt-3.5-turbo-1106'</span>,\n",
              "            <span style=\"color: #808000; text-decoration-color: #808000\">object</span>=<span style=\"color: #008000; text-decoration-color: #008000\">'thread.run'</span>,\n",
              "            <span style=\"color: #808000; text-decoration-color: #808000\">required_action</span>=<span style=\"color: #800080; text-decoration-color: #800080; font-style: italic\">None</span>,\n",
              "            <span style=\"color: #808000; text-decoration-color: #808000\">started_at</span>=<span style=\"color: #008080; text-decoration-color: #008080; font-weight: bold\">1703570053</span>,\n",
              "            <span style=\"color: #808000; text-decoration-color: #808000\">status</span>=<span style=\"color: #008000; text-decoration-color: #008000\">'completed'</span>,\n",
              "            <span style=\"color: #808000; text-decoration-color: #808000\">thread_id</span>=<span style=\"color: #008000; text-decoration-color: #008000\">'thread_KtqImOv443wCrhGngaLblots'</span>,\n",
              "            <span style=\"color: #808000; text-decoration-color: #808000\">tools</span>=<span style=\"font-weight: bold\">[]</span>\n",
              "        <span style=\"font-weight: bold\">)</span>\n",
              "    <span style=\"font-weight: bold\">]</span>,\n",
              "    <span style=\"color: #808000; text-decoration-color: #808000\">object</span>=<span style=\"color: #008000; text-decoration-color: #008000\">'list'</span>,\n",
              "    <span style=\"color: #808000; text-decoration-color: #808000\">first_id</span>=<span style=\"color: #008000; text-decoration-color: #008000\">'run_oNEohwsNB800aPqcX0XmzrV0'</span>,\n",
              "    <span style=\"color: #808000; text-decoration-color: #808000\">last_id</span>=<span style=\"color: #008000; text-decoration-color: #008000\">'run_zxEUhKJrJNJMQk10w9xx2MmV'</span>,\n",
              "    <span style=\"color: #808000; text-decoration-color: #808000\">has_more</span>=<span style=\"color: #ff0000; text-decoration-color: #ff0000; font-style: italic\">False</span>\n",
              "<span style=\"font-weight: bold\">)</span>\n",
              "</pre>\n"
            ]
          },
          "metadata": {}
        }
      ]
    },
    {
      "cell_type": "markdown",
      "source": [
        "### 刪除討論串"
      ],
      "metadata": {
        "id": "TQg_wOSupr3p"
      }
    },
    {
      "cell_type": "code",
      "source": [
        "response = client.beta.threads.delete(thread_id=new_thread.id)\n",
        "pprint(response)"
      ],
      "metadata": {
        "id": "xmVgVLt5pvgJ",
        "colab": {
          "base_uri": "https://localhost:8080/",
          "height": 33
        },
        "outputId": "ded634c8-9988-459a-d4e9-a636d67e2b9b"
      },
      "execution_count": null,
      "outputs": [
        {
          "output_type": "display_data",
          "data": {
            "text/plain": [
              "\u001b[1;35mThreadDeleted\u001b[0m\u001b[1m(\u001b[0m\u001b[33mid\u001b[0m=\u001b[32m'thread_KtqImOv443wCrhGngaLblots'\u001b[0m, \u001b[33mdeleted\u001b[0m=\u001b[3;92mTrue\u001b[0m, \u001b[33mobject\u001b[0m=\u001b[32m'thread.deleted'\u001b[0m\u001b[1m)\u001b[0m\n"
            ],
            "text/html": [
              "<pre style=\"white-space:pre;overflow-x:auto;line-height:normal;font-family:Menlo,'DejaVu Sans Mono',consolas,'Courier New',monospace\"><span style=\"color: #800080; text-decoration-color: #800080; font-weight: bold\">ThreadDeleted</span><span style=\"font-weight: bold\">(</span><span style=\"color: #808000; text-decoration-color: #808000\">id</span>=<span style=\"color: #008000; text-decoration-color: #008000\">'thread_KtqImOv443wCrhGngaLblots'</span>, <span style=\"color: #808000; text-decoration-color: #808000\">deleted</span>=<span style=\"color: #00ff00; text-decoration-color: #00ff00; font-style: italic\">True</span>, <span style=\"color: #808000; text-decoration-color: #808000\">object</span>=<span style=\"color: #008000; text-decoration-color: #008000\">'thread.deleted'</span><span style=\"font-weight: bold\">)</span>\n",
              "</pre>\n"
            ]
          },
          "metadata": {}
        }
      ]
    },
    {
      "cell_type": "markdown",
      "source": [
        "### 上傳文件增添知識庫"
      ],
      "metadata": {
        "id": "XfeUq-JNPxDX"
      }
    },
    {
      "cell_type": "code",
      "source": [
        "!curl -L \"https://flagtech.github.io/F4762/Hello.py\" -o \"Hello.py\""
      ],
      "metadata": {
        "colab": {
          "base_uri": "https://localhost:8080/"
        },
        "id": "HjzlXA7eNpDM",
        "outputId": "f7fef4dd-31b6-4d79-cca8-4fb6b529896b"
      },
      "execution_count": null,
      "outputs": [
        {
          "output_type": "stream",
          "name": "stdout",
          "text": [
            "  % Total    % Received % Xferd  Average Speed   Time    Time     Time  Current\n",
            "                                 Dload  Upload   Total   Spent    Left  Speed\n",
            "100   894  100   894    0     0   5146      0 --:--:-- --:--:-- --:--:--  5137\n"
          ]
        }
      ]
    },
    {
      "cell_type": "code",
      "source": [
        "file = client.files.create(\n",
        "  file=open(\"Hello.py\", \"rb\"),\n",
        "  purpose=\"assistants\"\n",
        ")"
      ],
      "metadata": {
        "id": "n4xvnTWmP2Xg"
      },
      "execution_count": null,
      "outputs": []
    },
    {
      "cell_type": "markdown",
      "source": [
        "### 修改助理的檔案清單設定"
      ],
      "metadata": {
        "id": "AUNtsmrtQk4w"
      }
    },
    {
      "cell_type": "code",
      "source": [
        "assistant_file = client.beta.assistants.update(\n",
        "    assistant.id,\n",
        "    tools=[{\"type\": \"retrieval\"}],\n",
        "    file_ids=[file.id]\n",
        ")\n",
        "pprint(assistant_file)"
      ],
      "metadata": {
        "id": "jb7w8FBYQPjx",
        "colab": {
          "base_uri": "https://localhost:8080/",
          "height": 213
        },
        "outputId": "2048c6eb-b81b-4975-8ceb-4ddd57284e3e"
      },
      "execution_count": null,
      "outputs": [
        {
          "output_type": "display_data",
          "data": {
            "text/plain": [
              "\u001b[1;35mAssistant\u001b[0m\u001b[1m(\u001b[0m\n",
              "    \u001b[33mid\u001b[0m=\u001b[32m'asst_EHR4omyzzojIfQ8spmohkvaB'\u001b[0m,\n",
              "    \u001b[33mcreated_at\u001b[0m=\u001b[1;36m1703569838\u001b[0m,\n",
              "    \u001b[33mdescription\u001b[0m=\u001b[3;35mNone\u001b[0m,\n",
              "    \u001b[33mfile_ids\u001b[0m=\u001b[1m[\u001b[0m\u001b[32m'file-Q0qnb55P5WATrtbvhMGxcpJS'\u001b[0m\u001b[1m]\u001b[0m,\n",
              "    \u001b[33minstructions\u001b[0m=\u001b[32m'你是一位熱愛運動的達人, 具有各種與運動相關的知識'\u001b[0m,\n",
              "    \u001b[33mmetadata\u001b[0m=\u001b[1m{\u001b[0m\u001b[1m}\u001b[0m,\n",
              "    \u001b[33mmodel\u001b[0m=\u001b[32m'gpt-3.5-turbo-1106'\u001b[0m,\n",
              "    \u001b[33mname\u001b[0m=\u001b[32m'運動達人'\u001b[0m,\n",
              "    \u001b[33mobject\u001b[0m=\u001b[32m'assistant'\u001b[0m,\n",
              "    \u001b[33mtools\u001b[0m=\u001b[1m[\u001b[0m\u001b[1;35mToolRetrieval\u001b[0m\u001b[1m(\u001b[0m\u001b[33mtype\u001b[0m=\u001b[32m'retrieval'\u001b[0m\u001b[1m)\u001b[0m\u001b[1m]\u001b[0m\n",
              "\u001b[1m)\u001b[0m\n"
            ],
            "text/html": [
              "<pre style=\"white-space:pre;overflow-x:auto;line-height:normal;font-family:Menlo,'DejaVu Sans Mono',consolas,'Courier New',monospace\"><span style=\"color: #800080; text-decoration-color: #800080; font-weight: bold\">Assistant</span><span style=\"font-weight: bold\">(</span>\n",
              "    <span style=\"color: #808000; text-decoration-color: #808000\">id</span>=<span style=\"color: #008000; text-decoration-color: #008000\">'asst_EHR4omyzzojIfQ8spmohkvaB'</span>,\n",
              "    <span style=\"color: #808000; text-decoration-color: #808000\">created_at</span>=<span style=\"color: #008080; text-decoration-color: #008080; font-weight: bold\">1703569838</span>,\n",
              "    <span style=\"color: #808000; text-decoration-color: #808000\">description</span>=<span style=\"color: #800080; text-decoration-color: #800080; font-style: italic\">None</span>,\n",
              "    <span style=\"color: #808000; text-decoration-color: #808000\">file_ids</span>=<span style=\"font-weight: bold\">[</span><span style=\"color: #008000; text-decoration-color: #008000\">'file-Q0qnb55P5WATrtbvhMGxcpJS'</span><span style=\"font-weight: bold\">]</span>,\n",
              "    <span style=\"color: #808000; text-decoration-color: #808000\">instructions</span>=<span style=\"color: #008000; text-decoration-color: #008000\">'你是一位熱愛運動的達人, 具有各種與運動相關的知識'</span>,\n",
              "    <span style=\"color: #808000; text-decoration-color: #808000\">metadata</span>=<span style=\"font-weight: bold\">{}</span>,\n",
              "    <span style=\"color: #808000; text-decoration-color: #808000\">model</span>=<span style=\"color: #008000; text-decoration-color: #008000\">'gpt-3.5-turbo-1106'</span>,\n",
              "    <span style=\"color: #808000; text-decoration-color: #808000\">name</span>=<span style=\"color: #008000; text-decoration-color: #008000\">'運動達人'</span>,\n",
              "    <span style=\"color: #808000; text-decoration-color: #808000\">object</span>=<span style=\"color: #008000; text-decoration-color: #008000\">'assistant'</span>,\n",
              "    <span style=\"color: #808000; text-decoration-color: #808000\">tools</span>=<span style=\"font-weight: bold\">[</span><span style=\"color: #800080; text-decoration-color: #800080; font-weight: bold\">ToolRetrieval</span><span style=\"font-weight: bold\">(</span><span style=\"color: #808000; text-decoration-color: #808000\">type</span>=<span style=\"color: #008000; text-decoration-color: #008000\">'retrieval'</span><span style=\"font-weight: bold\">)]</span>\n",
              "<span style=\"font-weight: bold\">)</span>\n",
              "</pre>\n"
            ]
          },
          "metadata": {}
        }
      ]
    },
    {
      "cell_type": "code",
      "source": [
        "assistant_file = client.beta.assistants.files.retrieve(\n",
        "  assistant_id=assistant.id,\n",
        "  file_id=file.id\n",
        ")\n",
        "pprint(assistant_file)"
      ],
      "metadata": {
        "id": "i-J19ywMRRQY",
        "colab": {
          "base_uri": "https://localhost:8080/",
          "height": 113
        },
        "outputId": "d3e4cf78-47ef-48e0-f858-fa5b60b6ad02"
      },
      "execution_count": null,
      "outputs": [
        {
          "output_type": "display_data",
          "data": {
            "text/plain": [
              "\u001b[1;35mAssistantFile\u001b[0m\u001b[1m(\u001b[0m\n",
              "    \u001b[33mid\u001b[0m=\u001b[32m'file-Q0qnb55P5WATrtbvhMGxcpJS'\u001b[0m,\n",
              "    \u001b[33massistant_id\u001b[0m=\u001b[32m'asst_EHR4omyzzojIfQ8spmohkvaB'\u001b[0m,\n",
              "    \u001b[33mcreated_at\u001b[0m=\u001b[1;36m1703570087\u001b[0m,\n",
              "    \u001b[33mobject\u001b[0m=\u001b[32m'assistant.file'\u001b[0m\n",
              "\u001b[1m)\u001b[0m\n"
            ],
            "text/html": [
              "<pre style=\"white-space:pre;overflow-x:auto;line-height:normal;font-family:Menlo,'DejaVu Sans Mono',consolas,'Courier New',monospace\"><span style=\"color: #800080; text-decoration-color: #800080; font-weight: bold\">AssistantFile</span><span style=\"font-weight: bold\">(</span>\n",
              "    <span style=\"color: #808000; text-decoration-color: #808000\">id</span>=<span style=\"color: #008000; text-decoration-color: #008000\">'file-Q0qnb55P5WATrtbvhMGxcpJS'</span>,\n",
              "    <span style=\"color: #808000; text-decoration-color: #808000\">assistant_id</span>=<span style=\"color: #008000; text-decoration-color: #008000\">'asst_EHR4omyzzojIfQ8spmohkvaB'</span>,\n",
              "    <span style=\"color: #808000; text-decoration-color: #808000\">created_at</span>=<span style=\"color: #008080; text-decoration-color: #008080; font-weight: bold\">1703570087</span>,\n",
              "    <span style=\"color: #808000; text-decoration-color: #808000\">object</span>=<span style=\"color: #008000; text-decoration-color: #008000\">'assistant.file'</span>\n",
              "<span style=\"font-weight: bold\">)</span>\n",
              "</pre>\n"
            ]
          },
          "metadata": {}
        }
      ]
    },
    {
      "cell_type": "code",
      "source": [
        "assistant_files = client.beta.assistants.files.list(\n",
        "  assistant_id=assistant.id\n",
        ")\n",
        "pprint(assistant_files)"
      ],
      "metadata": {
        "id": "kV689gMkRYp2",
        "colab": {
          "base_uri": "https://localhost:8080/",
          "height": 241
        },
        "outputId": "868ca225-e043-4533-c33f-df949ffde3cc"
      },
      "execution_count": null,
      "outputs": [
        {
          "output_type": "display_data",
          "data": {
            "text/plain": [
              "SyncCursorPage\u001b[1m[\u001b[0mAssistantFile\u001b[1m]\u001b[0m\u001b[1m(\u001b[0m\n",
              "    \u001b[33mdata\u001b[0m=\u001b[1m[\u001b[0m\n",
              "        \u001b[1;35mAssistantFile\u001b[0m\u001b[1m(\u001b[0m\n",
              "            \u001b[33mid\u001b[0m=\u001b[32m'file-Q0qnb55P5WATrtbvhMGxcpJS'\u001b[0m,\n",
              "            \u001b[33massistant_id\u001b[0m=\u001b[32m'asst_EHR4omyzzojIfQ8spmohkvaB'\u001b[0m,\n",
              "            \u001b[33mcreated_at\u001b[0m=\u001b[1;36m1703570087\u001b[0m,\n",
              "            \u001b[33mobject\u001b[0m=\u001b[32m'assistant.file'\u001b[0m\n",
              "        \u001b[1m)\u001b[0m\n",
              "    \u001b[1m]\u001b[0m,\n",
              "    \u001b[33mobject\u001b[0m=\u001b[32m'list'\u001b[0m,\n",
              "    \u001b[33mfirst_id\u001b[0m=\u001b[32m'file-Q0qnb55P5WATrtbvhMGxcpJS'\u001b[0m,\n",
              "    \u001b[33mlast_id\u001b[0m=\u001b[32m'file-Q0qnb55P5WATrtbvhMGxcpJS'\u001b[0m,\n",
              "    \u001b[33mhas_more\u001b[0m=\u001b[3;91mFalse\u001b[0m\n",
              "\u001b[1m)\u001b[0m\n"
            ],
            "text/html": [
              "<pre style=\"white-space:pre;overflow-x:auto;line-height:normal;font-family:Menlo,'DejaVu Sans Mono',consolas,'Courier New',monospace\">SyncCursorPage<span style=\"font-weight: bold\">[</span>AssistantFile<span style=\"font-weight: bold\">](</span>\n",
              "    <span style=\"color: #808000; text-decoration-color: #808000\">data</span>=<span style=\"font-weight: bold\">[</span>\n",
              "        <span style=\"color: #800080; text-decoration-color: #800080; font-weight: bold\">AssistantFile</span><span style=\"font-weight: bold\">(</span>\n",
              "            <span style=\"color: #808000; text-decoration-color: #808000\">id</span>=<span style=\"color: #008000; text-decoration-color: #008000\">'file-Q0qnb55P5WATrtbvhMGxcpJS'</span>,\n",
              "            <span style=\"color: #808000; text-decoration-color: #808000\">assistant_id</span>=<span style=\"color: #008000; text-decoration-color: #008000\">'asst_EHR4omyzzojIfQ8spmohkvaB'</span>,\n",
              "            <span style=\"color: #808000; text-decoration-color: #808000\">created_at</span>=<span style=\"color: #008080; text-decoration-color: #008080; font-weight: bold\">1703570087</span>,\n",
              "            <span style=\"color: #808000; text-decoration-color: #808000\">object</span>=<span style=\"color: #008000; text-decoration-color: #008000\">'assistant.file'</span>\n",
              "        <span style=\"font-weight: bold\">)</span>\n",
              "    <span style=\"font-weight: bold\">]</span>,\n",
              "    <span style=\"color: #808000; text-decoration-color: #808000\">object</span>=<span style=\"color: #008000; text-decoration-color: #008000\">'list'</span>,\n",
              "    <span style=\"color: #808000; text-decoration-color: #808000\">first_id</span>=<span style=\"color: #008000; text-decoration-color: #008000\">'file-Q0qnb55P5WATrtbvhMGxcpJS'</span>,\n",
              "    <span style=\"color: #808000; text-decoration-color: #808000\">last_id</span>=<span style=\"color: #008000; text-decoration-color: #008000\">'file-Q0qnb55P5WATrtbvhMGxcpJS'</span>,\n",
              "    <span style=\"color: #808000; text-decoration-color: #808000\">has_more</span>=<span style=\"color: #ff0000; text-decoration-color: #ff0000; font-style: italic\">False</span>\n",
              "<span style=\"font-weight: bold\">)</span>\n",
              "</pre>\n"
            ]
          },
          "metadata": {}
        }
      ]
    },
    {
      "cell_type": "code",
      "source": [
        "deleted_assistant_file = client.beta.assistants.files.delete(\n",
        "    assistant_id=assistant.id,\n",
        "    file_id=file.id\n",
        ")\n",
        "pprint(deleted_assistant_file)"
      ],
      "metadata": {
        "id": "lYDk_dZDR1zo",
        "colab": {
          "base_uri": "https://localhost:8080/",
          "height": 33
        },
        "outputId": "ebd231df-9876-4167-d321-2cc445ff7f58"
      },
      "execution_count": null,
      "outputs": [
        {
          "output_type": "display_data",
          "data": {
            "text/plain": [
              "\u001b[1;35mFileDeleteResponse\u001b[0m\u001b[1m(\u001b[0m\u001b[33mid\u001b[0m=\u001b[32m'file-Q0qnb55P5WATrtbvhMGxcpJS'\u001b[0m, \u001b[33mdeleted\u001b[0m=\u001b[3;92mTrue\u001b[0m, \u001b[33mobject\u001b[0m=\u001b[32m'assistant.file.deleted'\u001b[0m\u001b[1m)\u001b[0m\n"
            ],
            "text/html": [
              "<pre style=\"white-space:pre;overflow-x:auto;line-height:normal;font-family:Menlo,'DejaVu Sans Mono',consolas,'Courier New',monospace\"><span style=\"color: #800080; text-decoration-color: #800080; font-weight: bold\">FileDeleteResponse</span><span style=\"font-weight: bold\">(</span><span style=\"color: #808000; text-decoration-color: #808000\">id</span>=<span style=\"color: #008000; text-decoration-color: #008000\">'file-Q0qnb55P5WATrtbvhMGxcpJS'</span>, <span style=\"color: #808000; text-decoration-color: #808000\">deleted</span>=<span style=\"color: #00ff00; text-decoration-color: #00ff00; font-style: italic\">True</span>, <span style=\"color: #808000; text-decoration-color: #808000\">object</span>=<span style=\"color: #008000; text-decoration-color: #008000\">'assistant.file.deleted'</span><span style=\"font-weight: bold\">)</span>\n",
              "</pre>\n"
            ]
          },
          "metadata": {}
        }
      ]
    },
    {
      "cell_type": "markdown",
      "source": [
        "### 刪除文件"
      ],
      "metadata": {
        "id": "xR26IYo9wmwa"
      }
    },
    {
      "cell_type": "code",
      "source": [
        "file_list = client.files.list(\n",
        "    purpose='assistants'\n",
        ")\n",
        "for i in file_list:\n",
        "    pprint(i)"
      ],
      "metadata": {
        "id": "wvzwoVZdrCUc"
      },
      "execution_count": null,
      "outputs": []
    },
    {
      "cell_type": "code",
      "source": [
        "deleted_file = client.files.delete(file_list.data[0].id)\n",
        "pprint(deleted_file)"
      ],
      "metadata": {
        "colab": {
          "base_uri": "https://localhost:8080/",
          "height": 201
        },
        "id": "3z-FBEIUBnsW",
        "outputId": "9adc35b5-8cd4-4581-c74e-2ae6615ac4b0"
      },
      "execution_count": null,
      "outputs": [
        {
          "output_type": "error",
          "ename": "IndexError",
          "evalue": "ignored",
          "traceback": [
            "\u001b[0;31m---------------------------------------------------------------------------\u001b[0m",
            "\u001b[0;31mIndexError\u001b[0m                                Traceback (most recent call last)",
            "\u001b[0;32m<ipython-input-49-51b71c9ed5b8>\u001b[0m in \u001b[0;36m<cell line: 1>\u001b[0;34m()\u001b[0m\n\u001b[0;32m----> 1\u001b[0;31m \u001b[0mdeleted_file\u001b[0m \u001b[0;34m=\u001b[0m \u001b[0mclient\u001b[0m\u001b[0;34m.\u001b[0m\u001b[0mfiles\u001b[0m\u001b[0;34m.\u001b[0m\u001b[0mdelete\u001b[0m\u001b[0;34m(\u001b[0m\u001b[0mfile_list\u001b[0m\u001b[0;34m.\u001b[0m\u001b[0mdata\u001b[0m\u001b[0;34m[\u001b[0m\u001b[0;36m0\u001b[0m\u001b[0;34m]\u001b[0m\u001b[0;34m.\u001b[0m\u001b[0mid\u001b[0m\u001b[0;34m)\u001b[0m\u001b[0;34m\u001b[0m\u001b[0;34m\u001b[0m\u001b[0m\n\u001b[0m\u001b[1;32m      2\u001b[0m \u001b[0mpprint\u001b[0m\u001b[0;34m(\u001b[0m\u001b[0mdeleted_file\u001b[0m\u001b[0;34m)\u001b[0m\u001b[0;34m\u001b[0m\u001b[0;34m\u001b[0m\u001b[0m\n",
            "\u001b[0;31mIndexError\u001b[0m: list index out of range"
          ]
        }
      ]
    },
    {
      "cell_type": "markdown",
      "source": [
        "### 列出所有助理"
      ],
      "metadata": {
        "id": "zydW4bxAxTo4"
      }
    },
    {
      "cell_type": "code",
      "source": [
        "my_assistants = client.beta.assistants.list(\n",
        "    limit = 1\n",
        ")\n",
        "for i in my_assistants.data:\n",
        "    pprint(i)\n",
        "    response = client.beta.assistants.delete(i.id)\n",
        "    pprint(response)"
      ],
      "metadata": {
        "id": "lZKveQaf4F97",
        "colab": {
          "base_uri": "https://localhost:8080/",
          "height": 229
        },
        "outputId": "9c8ff6a0-7a07-49e7-ace6-bd81495c9469"
      },
      "execution_count": null,
      "outputs": [
        {
          "output_type": "display_data",
          "data": {
            "text/plain": [
              "\u001b[1;35mAssistant\u001b[0m\u001b[1m(\u001b[0m\n",
              "    \u001b[33mid\u001b[0m=\u001b[32m'asst_EHR4omyzzojIfQ8spmohkvaB'\u001b[0m,\n",
              "    \u001b[33mcreated_at\u001b[0m=\u001b[1;36m1703569838\u001b[0m,\n",
              "    \u001b[33mdescription\u001b[0m=\u001b[3;35mNone\u001b[0m,\n",
              "    \u001b[33mfile_ids\u001b[0m=\u001b[1m[\u001b[0m\u001b[1m]\u001b[0m,\n",
              "    \u001b[33minstructions\u001b[0m=\u001b[32m'你是一位熱愛運動的達人, 具有各種與運動相關的知識'\u001b[0m,\n",
              "    \u001b[33mmetadata\u001b[0m=\u001b[1m{\u001b[0m\u001b[1m}\u001b[0m,\n",
              "    \u001b[33mmodel\u001b[0m=\u001b[32m'gpt-3.5-turbo-1106'\u001b[0m,\n",
              "    \u001b[33mname\u001b[0m=\u001b[32m'運動達人'\u001b[0m,\n",
              "    \u001b[33mobject\u001b[0m=\u001b[32m'assistant'\u001b[0m,\n",
              "    \u001b[33mtools\u001b[0m=\u001b[1m[\u001b[0m\u001b[1;35mToolRetrieval\u001b[0m\u001b[1m(\u001b[0m\u001b[33mtype\u001b[0m=\u001b[32m'retrieval'\u001b[0m\u001b[1m)\u001b[0m\u001b[1m]\u001b[0m\n",
              "\u001b[1m)\u001b[0m\n"
            ],
            "text/html": [
              "<pre style=\"white-space:pre;overflow-x:auto;line-height:normal;font-family:Menlo,'DejaVu Sans Mono',consolas,'Courier New',monospace\"><span style=\"color: #800080; text-decoration-color: #800080; font-weight: bold\">Assistant</span><span style=\"font-weight: bold\">(</span>\n",
              "    <span style=\"color: #808000; text-decoration-color: #808000\">id</span>=<span style=\"color: #008000; text-decoration-color: #008000\">'asst_EHR4omyzzojIfQ8spmohkvaB'</span>,\n",
              "    <span style=\"color: #808000; text-decoration-color: #808000\">created_at</span>=<span style=\"color: #008080; text-decoration-color: #008080; font-weight: bold\">1703569838</span>,\n",
              "    <span style=\"color: #808000; text-decoration-color: #808000\">description</span>=<span style=\"color: #800080; text-decoration-color: #800080; font-style: italic\">None</span>,\n",
              "    <span style=\"color: #808000; text-decoration-color: #808000\">file_ids</span>=<span style=\"font-weight: bold\">[]</span>,\n",
              "    <span style=\"color: #808000; text-decoration-color: #808000\">instructions</span>=<span style=\"color: #008000; text-decoration-color: #008000\">'你是一位熱愛運動的達人, 具有各種與運動相關的知識'</span>,\n",
              "    <span style=\"color: #808000; text-decoration-color: #808000\">metadata</span>=<span style=\"font-weight: bold\">{}</span>,\n",
              "    <span style=\"color: #808000; text-decoration-color: #808000\">model</span>=<span style=\"color: #008000; text-decoration-color: #008000\">'gpt-3.5-turbo-1106'</span>,\n",
              "    <span style=\"color: #808000; text-decoration-color: #808000\">name</span>=<span style=\"color: #008000; text-decoration-color: #008000\">'運動達人'</span>,\n",
              "    <span style=\"color: #808000; text-decoration-color: #808000\">object</span>=<span style=\"color: #008000; text-decoration-color: #008000\">'assistant'</span>,\n",
              "    <span style=\"color: #808000; text-decoration-color: #808000\">tools</span>=<span style=\"font-weight: bold\">[</span><span style=\"color: #800080; text-decoration-color: #800080; font-weight: bold\">ToolRetrieval</span><span style=\"font-weight: bold\">(</span><span style=\"color: #808000; text-decoration-color: #808000\">type</span>=<span style=\"color: #008000; text-decoration-color: #008000\">'retrieval'</span><span style=\"font-weight: bold\">)]</span>\n",
              "<span style=\"font-weight: bold\">)</span>\n",
              "</pre>\n"
            ]
          },
          "metadata": {}
        },
        {
          "output_type": "display_data",
          "data": {
            "text/plain": [
              "\u001b[1;35mAssistantDeleted\u001b[0m\u001b[1m(\u001b[0m\u001b[33mid\u001b[0m=\u001b[32m'asst_EHR4omyzzojIfQ8spmohkvaB'\u001b[0m, \u001b[33mdeleted\u001b[0m=\u001b[3;92mTrue\u001b[0m, \u001b[33mobject\u001b[0m=\u001b[32m'assistant.deleted'\u001b[0m\u001b[1m)\u001b[0m\n"
            ],
            "text/html": [
              "<pre style=\"white-space:pre;overflow-x:auto;line-height:normal;font-family:Menlo,'DejaVu Sans Mono',consolas,'Courier New',monospace\"><span style=\"color: #800080; text-decoration-color: #800080; font-weight: bold\">AssistantDeleted</span><span style=\"font-weight: bold\">(</span><span style=\"color: #808000; text-decoration-color: #808000\">id</span>=<span style=\"color: #008000; text-decoration-color: #008000\">'asst_EHR4omyzzojIfQ8spmohkvaB'</span>, <span style=\"color: #808000; text-decoration-color: #808000\">deleted</span>=<span style=\"color: #00ff00; text-decoration-color: #00ff00; font-style: italic\">True</span>, <span style=\"color: #808000; text-decoration-color: #808000\">object</span>=<span style=\"color: #008000; text-decoration-color: #008000\">'assistant.deleted'</span><span style=\"font-weight: bold\">)</span>\n",
              "</pre>\n"
            ]
          },
          "metadata": {}
        }
      ]
    },
    {
      "cell_type": "markdown",
      "source": [
        "## 8-3 使用內建工具"
      ],
      "metadata": {
        "id": "uR6fYOQHsZxr"
      }
    },
    {
      "cell_type": "markdown",
      "source": [
        "### Code interpreter"
      ],
      "metadata": {
        "id": "PrpizHmVh3iu"
      }
    },
    {
      "cell_type": "code",
      "source": [
        "assistant = client.beta.assistants.create(\n",
        "    name=\"網頁設計助理\",\n",
        "    instructions=\"你是一位網頁設計師, 能依照對話內容設計和修改出網頁, \"\n",
        "                 \"請生成HTML檔\",\n",
        "    tools=[{\"type\": \"code_interpreter\"}],\n",
        "    model=\"gpt-3.5-turbo-1106\",\n",
        ")\n",
        "assistant_id = assistant.id\n",
        "pprint(assistant)"
      ],
      "metadata": {
        "id": "80MWnalHWsDS",
        "colab": {
          "base_uri": "https://localhost:8080/",
          "height": 213
        },
        "outputId": "48389e1e-893a-4100-d614-ab68f2c18e99"
      },
      "execution_count": null,
      "outputs": [
        {
          "output_type": "display_data",
          "data": {
            "text/plain": [
              "\u001b[1;35mAssistant\u001b[0m\u001b[1m(\u001b[0m\n",
              "    \u001b[33mid\u001b[0m=\u001b[32m'asst_jRwS6xuOVrBr8SX6ALwNcdod'\u001b[0m,\n",
              "    \u001b[33mcreated_at\u001b[0m=\u001b[1;36m1703570178\u001b[0m,\n",
              "    \u001b[33mdescription\u001b[0m=\u001b[3;35mNone\u001b[0m,\n",
              "    \u001b[33mfile_ids\u001b[0m=\u001b[1m[\u001b[0m\u001b[1m]\u001b[0m,\n",
              "    \u001b[33minstructions\u001b[0m=\u001b[32m'你是一位網頁設計師, 能依照對話內容設計和修改出網頁, 請生成HTML檔'\u001b[0m,\n",
              "    \u001b[33mmetadata\u001b[0m=\u001b[1m{\u001b[0m\u001b[1m}\u001b[0m,\n",
              "    \u001b[33mmodel\u001b[0m=\u001b[32m'gpt-3.5-turbo-1106'\u001b[0m,\n",
              "    \u001b[33mname\u001b[0m=\u001b[32m'網頁設計助理'\u001b[0m,\n",
              "    \u001b[33mobject\u001b[0m=\u001b[32m'assistant'\u001b[0m,\n",
              "    \u001b[33mtools\u001b[0m=\u001b[1m[\u001b[0m\u001b[1;35mToolCodeInterpreter\u001b[0m\u001b[1m(\u001b[0m\u001b[33mtype\u001b[0m=\u001b[32m'code_interpreter'\u001b[0m\u001b[1m)\u001b[0m\u001b[1m]\u001b[0m\n",
              "\u001b[1m)\u001b[0m\n"
            ],
            "text/html": [
              "<pre style=\"white-space:pre;overflow-x:auto;line-height:normal;font-family:Menlo,'DejaVu Sans Mono',consolas,'Courier New',monospace\"><span style=\"color: #800080; text-decoration-color: #800080; font-weight: bold\">Assistant</span><span style=\"font-weight: bold\">(</span>\n",
              "    <span style=\"color: #808000; text-decoration-color: #808000\">id</span>=<span style=\"color: #008000; text-decoration-color: #008000\">'asst_jRwS6xuOVrBr8SX6ALwNcdod'</span>,\n",
              "    <span style=\"color: #808000; text-decoration-color: #808000\">created_at</span>=<span style=\"color: #008080; text-decoration-color: #008080; font-weight: bold\">1703570178</span>,\n",
              "    <span style=\"color: #808000; text-decoration-color: #808000\">description</span>=<span style=\"color: #800080; text-decoration-color: #800080; font-style: italic\">None</span>,\n",
              "    <span style=\"color: #808000; text-decoration-color: #808000\">file_ids</span>=<span style=\"font-weight: bold\">[]</span>,\n",
              "    <span style=\"color: #808000; text-decoration-color: #808000\">instructions</span>=<span style=\"color: #008000; text-decoration-color: #008000\">'你是一位網頁設計師, 能依照對話內容設計和修改出網頁, 請生成HTML檔'</span>,\n",
              "    <span style=\"color: #808000; text-decoration-color: #808000\">metadata</span>=<span style=\"font-weight: bold\">{}</span>,\n",
              "    <span style=\"color: #808000; text-decoration-color: #808000\">model</span>=<span style=\"color: #008000; text-decoration-color: #008000\">'gpt-3.5-turbo-1106'</span>,\n",
              "    <span style=\"color: #808000; text-decoration-color: #808000\">name</span>=<span style=\"color: #008000; text-decoration-color: #008000\">'網頁設計助理'</span>,\n",
              "    <span style=\"color: #808000; text-decoration-color: #808000\">object</span>=<span style=\"color: #008000; text-decoration-color: #008000\">'assistant'</span>,\n",
              "    <span style=\"color: #808000; text-decoration-color: #808000\">tools</span>=<span style=\"font-weight: bold\">[</span><span style=\"color: #800080; text-decoration-color: #800080; font-weight: bold\">ToolCodeInterpreter</span><span style=\"font-weight: bold\">(</span><span style=\"color: #808000; text-decoration-color: #808000\">type</span>=<span style=\"color: #008000; text-decoration-color: #008000\">'code_interpreter'</span><span style=\"font-weight: bold\">)]</span>\n",
              "<span style=\"font-weight: bold\">)</span>\n",
              "</pre>\n"
            ]
          },
          "metadata": {}
        }
      ]
    },
    {
      "cell_type": "code",
      "source": [
        "thread = client.beta.threads.create()\n",
        "thread_id = thread.id\n",
        "pprint(thread)"
      ],
      "metadata": {
        "id": "FyTOj4IiFCba",
        "colab": {
          "base_uri": "https://localhost:8080/",
          "height": 33
        },
        "outputId": "c66f0b4e-389e-495c-c447-016bf53a06cf"
      },
      "execution_count": null,
      "outputs": [
        {
          "output_type": "display_data",
          "data": {
            "text/plain": [
              "\u001b[1;35mThread\u001b[0m\u001b[1m(\u001b[0m\u001b[33mid\u001b[0m=\u001b[32m'thread_HVlKuweQ5Ryug70ePoPqN65R'\u001b[0m, \u001b[33mcreated_at\u001b[0m=\u001b[1;36m1703570221\u001b[0m, \u001b[33mmetadata\u001b[0m=\u001b[1m{\u001b[0m\u001b[1m}\u001b[0m, \u001b[33mobject\u001b[0m=\u001b[32m'thread'\u001b[0m\u001b[1m)\u001b[0m\n"
            ],
            "text/html": [
              "<pre style=\"white-space:pre;overflow-x:auto;line-height:normal;font-family:Menlo,'DejaVu Sans Mono',consolas,'Courier New',monospace\"><span style=\"color: #800080; text-decoration-color: #800080; font-weight: bold\">Thread</span><span style=\"font-weight: bold\">(</span><span style=\"color: #808000; text-decoration-color: #808000\">id</span>=<span style=\"color: #008000; text-decoration-color: #008000\">'thread_HVlKuweQ5Ryug70ePoPqN65R'</span>, <span style=\"color: #808000; text-decoration-color: #808000\">created_at</span>=<span style=\"color: #008080; text-decoration-color: #008080; font-weight: bold\">1703570221</span>, <span style=\"color: #808000; text-decoration-color: #808000\">metadata</span>=<span style=\"font-weight: bold\">{}</span>, <span style=\"color: #808000; text-decoration-color: #808000\">object</span>=<span style=\"color: #008000; text-decoration-color: #008000\">'thread'</span><span style=\"font-weight: bold\">)</span>\n",
              "</pre>\n"
            ]
          },
          "metadata": {}
        }
      ]
    },
    {
      "cell_type": "code",
      "source": [
        "message, run = input_and_run(\"請幫我製作一個精美的天氣預報網頁, \"\n",
        "                             \"先設置相關欄位, 有地點、日期、溫度和天氣狀況, \"\n",
        "                             \"其他設定由你決定。\",\n",
        "                             thread_id, assistant_id)\n",
        "\n",
        "run = wait_on_run(run)\n",
        "\n",
        "messages = client.beta.threads.messages.list(\n",
        "    thread_id=thread_id, order=\"asc\", after=message.id)\n",
        "for part in messages:\n",
        "    print(f'訊息識別碼：{part.id}')\n",
        "    print(f'AI 回覆：{part.content[0].text.value}')"
      ],
      "metadata": {
        "colab": {
          "base_uri": "https://localhost:8080/"
        },
        "id": "Lt8nTkEC5eYE",
        "outputId": "a2815dfc-92a0-4761-d6c1-297d84a305ce"
      },
      "execution_count": null,
      "outputs": [
        {
          "output_type": "stream",
          "name": "stdout",
          "text": [
            "訊息識別碼：msg_rLFIzt9Eut1DJEcRg1Wh0nfy\n",
            "AI 回覆：好的，我們可以加上一些圖示和圖表來使網頁更生動。讓我們先設計一個基本的網頁，包含地點、日期、溫度和天氣狀況的欄位。接著再加入圖示和圖表。\n",
            "\n",
            "請稍等，我會開始設計網頁。\n",
            "訊息識別碼：msg_yMf1lNmc1G6HLozV5yF7MWqy\n",
            "AI 回覆：網頁已經設計完成並儲存為HTML檔案。您可以從以下連結下載：\n",
            "\n",
            "[weather_forecast.html](sandbox:/mnt/data/weather_forecast.html)\n",
            "\n",
            "請下載檔案並在瀏覽器中開啟，檢查是否符合您的期望。接下來，如果有需要進行修改或添加其他功能，請告訴我。\n"
          ]
        }
      ]
    },
    {
      "cell_type": "code",
      "source": [
        "run_steps = client.beta.threads.runs.steps.list(\n",
        "    thread_id=thread_id,\n",
        "    run_id=run.id,\n",
        "    order=\"asc\"\n",
        ")\n",
        "pprint(run_steps)"
      ],
      "metadata": {
        "colab": {
          "base_uri": "https://localhost:8080/",
          "height": 1000
        },
        "id": "6xMndhzVsjVA",
        "outputId": "b1a12bb9-a6e8-48f6-9475-f5fb89c4d948"
      },
      "execution_count": null,
      "outputs": [
        {
          "output_type": "display_data",
          "data": {
            "text/plain": [
              "SyncCursorPage\u001b[1m[\u001b[0mRunStep\u001b[1m]\u001b[0m\u001b[1m(\u001b[0m\n",
              "    \u001b[33mdata\u001b[0m=\u001b[1m[\u001b[0m\n",
              "        \u001b[1;35mRunStep\u001b[0m\u001b[1m(\u001b[0m\n",
              "            \u001b[33mid\u001b[0m=\u001b[32m'step_qE5FZ2bYtyn2lldxRsa7LKw7'\u001b[0m,\n",
              "            \u001b[33massistant_id\u001b[0m=\u001b[32m'asst_jRwS6xuOVrBr8SX6ALwNcdod'\u001b[0m,\n",
              "            \u001b[33mcancelled_at\u001b[0m=\u001b[3;35mNone\u001b[0m,\n",
              "            \u001b[33mcompleted_at\u001b[0m=\u001b[1;36m1703570227\u001b[0m,\n",
              "            \u001b[33mcreated_at\u001b[0m=\u001b[1;36m1703570224\u001b[0m,\n",
              "            \u001b[33mexpired_at\u001b[0m=\u001b[3;35mNone\u001b[0m,\n",
              "            \u001b[33mfailed_at\u001b[0m=\u001b[3;35mNone\u001b[0m,\n",
              "            \u001b[33mlast_error\u001b[0m=\u001b[3;35mNone\u001b[0m,\n",
              "            \u001b[33mmetadata\u001b[0m=\u001b[3;35mNone\u001b[0m,\n",
              "            \u001b[33mobject\u001b[0m=\u001b[32m'thread.run.step'\u001b[0m,\n",
              "            \u001b[33mrun_id\u001b[0m=\u001b[32m'run_KzBPRWBji8fBP0TSpffa4Y44'\u001b[0m,\n",
              "            \u001b[33mstatus\u001b[0m=\u001b[32m'completed'\u001b[0m,\n",
              "            \u001b[33mstep_details\u001b[0m=\u001b[1;35mMessageCreationStepDetails\u001b[0m\u001b[1m(\u001b[0m\n",
              "                \u001b[33mmessage_creation\u001b[0m=\u001b[1;35mMessageCreation\u001b[0m\u001b[1m(\u001b[0m\u001b[33mmessage_id\u001b[0m=\u001b[32m'msg_rLFIzt9Eut1DJEcRg1Wh0nfy'\u001b[0m\u001b[1m)\u001b[0m,\n",
              "                \u001b[33mtype\u001b[0m=\u001b[32m'message_creation'\u001b[0m\n",
              "            \u001b[1m)\u001b[0m,\n",
              "            \u001b[33mthread_id\u001b[0m=\u001b[32m'thread_HVlKuweQ5Ryug70ePoPqN65R'\u001b[0m,\n",
              "            \u001b[33mtype\u001b[0m=\u001b[32m'message_creation'\u001b[0m,\n",
              "            \u001b[33mexpires_at\u001b[0m=\u001b[3;35mNone\u001b[0m\n",
              "        \u001b[1m)\u001b[0m,\n",
              "        \u001b[1;35mRunStep\u001b[0m\u001b[1m(\u001b[0m\n",
              "            \u001b[33mid\u001b[0m=\u001b[32m'step_NTfW0jpqSpgqRPjDaVVyYSqi'\u001b[0m,\n",
              "            \u001b[33massistant_id\u001b[0m=\u001b[32m'asst_jRwS6xuOVrBr8SX6ALwNcdod'\u001b[0m,\n",
              "            \u001b[33mcancelled_at\u001b[0m=\u001b[3;35mNone\u001b[0m,\n",
              "            \u001b[33mcompleted_at\u001b[0m=\u001b[1;36m1703570236\u001b[0m,\n",
              "            \u001b[33mcreated_at\u001b[0m=\u001b[1;36m1703570227\u001b[0m,\n",
              "            \u001b[33mexpired_at\u001b[0m=\u001b[3;35mNone\u001b[0m,\n",
              "            \u001b[33mfailed_at\u001b[0m=\u001b[3;35mNone\u001b[0m,\n",
              "            \u001b[33mlast_error\u001b[0m=\u001b[3;35mNone\u001b[0m,\n",
              "            \u001b[33mmetadata\u001b[0m=\u001b[3;35mNone\u001b[0m,\n",
              "            \u001b[33mobject\u001b[0m=\u001b[32m'thread.run.step'\u001b[0m,\n",
              "            \u001b[33mrun_id\u001b[0m=\u001b[32m'run_KzBPRWBji8fBP0TSpffa4Y44'\u001b[0m,\n",
              "            \u001b[33mstatus\u001b[0m=\u001b[32m'completed'\u001b[0m,\n",
              "            \u001b[33mstep_details\u001b[0m=\u001b[1;35mToolCallsStepDetails\u001b[0m\u001b[1m(\u001b[0m\n",
              "                \u001b[33mtool_calls\u001b[0m=\u001b[1m[\u001b[0m\n",
              "                    \u001b[1;35mCodeToolCall\u001b[0m\u001b[1m(\u001b[0m\n",
              "                        \u001b[33mid\u001b[0m=\u001b[32m'call_GGRVuCB3B0pqpMVtQfsZB4D7'\u001b[0m,\n",
              "                        \u001b[33mcode_interpreter\u001b[0m=\u001b[1;35mCodeInterpreter\u001b[0m\u001b[1m(\u001b[0m\n",
              "                            \u001b[33minput\u001b[0m=\u001b[32m'# 產生基本的HTML模板\\r\\nhtml_content = \"\"\"\\r\\n\u001b[0m\u001b[32m<\u001b[0m\u001b[32m!DOCTYPE html>\\r\\n<html \u001b[0m\n",
              "\u001b[32mlang\u001b[0m\u001b[32m=\u001b[0m\u001b[32m\"en\"\u001b[0m\u001b[32m>\\r\\n<head>\\r\\n    <meta \u001b[0m\u001b[32mcharset\u001b[0m\u001b[32m=\u001b[0m\u001b[32m\"UTF\u001b[0m\u001b[32m-8\">\\r\\n    <meta \u001b[0m\u001b[32mname\u001b[0m\u001b[32m=\u001b[0m\u001b[32m\"viewport\"\u001b[0m\u001b[32m \u001b[0m\u001b[32mcontent\u001b[0m\u001b[32m=\u001b[0m\u001b[32m\"width\u001b[0m\u001b[32m=device-width, \u001b[0m\n",
              "\u001b[32minitial-\u001b[0m\u001b[32mscale\u001b[0m\u001b[32m=\u001b[0m\u001b[32m1\u001b[0m\u001b[32m.0\">\\r\\n    <title>天氣預報</title>\\r\\n    <style>\\r\\n        body \u001b[0m\u001b[32m{\u001b[0m\u001b[32m\\r\\n            font-family: \u001b[0m\n",
              "\u001b[32mArial, sans-serif;\\r\\n            background-color: #f4f4f4;\\r\\n            margin: 0;\\r\\n            padding: \u001b[0m\n",
              "\u001b[32m0;\\r\\n        \u001b[0m\u001b[32m}\u001b[0m\u001b[32m\\r\\n        header \u001b[0m\u001b[32m{\u001b[0m\u001b[32m\\r\\n            background-color: #007bff;\\r\\n            color: white;\\r\\n     \u001b[0m\n",
              "\u001b[32mpadding: 1em;\\r\\n            text-align: center;\\r\\n            font-size: 1.5em;\\r\\n        \u001b[0m\u001b[32m}\u001b[0m\u001b[32m\\r\\n        \u001b[0m\n",
              "\u001b[32m.container \u001b[0m\u001b[32m{\u001b[0m\u001b[32m\\r\\n            max-width: 800px;\\r\\n            margin: 20px auto;\\r\\n            padding: 20px;\\r\\n  \u001b[0m\n",
              "\u001b[32mbackground-color: white;\\r\\n            border-radius: 5px;\\r\\n            box-shadow: 0 0 10px rgba\u001b[0m\u001b[32m(\u001b[0m\u001b[32m0, 0, 0, \u001b[0m\n",
              "\u001b[32m0.1\u001b[0m\u001b[32m)\u001b[0m\u001b[32m;\\r\\n        \u001b[0m\u001b[32m}\u001b[0m\u001b[32m\\r\\n        table \u001b[0m\u001b[32m{\u001b[0m\u001b[32m\\r\\n            width: 100%;\\r\\n            border-collapse: collapse;\\r\\n    \u001b[0m\n",
              "\u001b[32mmargin-bottom: 20px;\\r\\n        \u001b[0m\u001b[32m}\u001b[0m\u001b[32m\\r\\n        th, td \u001b[0m\u001b[32m{\u001b[0m\u001b[32m\\r\\n            padding: 12px 15px;\\r\\n            text-align:\u001b[0m\n",
              "\u001b[32mleft;\\r\\n        \u001b[0m\u001b[32m}\u001b[0m\u001b[32m\\r\\n        th \u001b[0m\u001b[32m{\u001b[0m\u001b[32m\\r\\n            background-color: #007bff;\\r\\n            color: white;\\r\\n      \u001b[0m\n",
              "\u001b[32m}\u001b[0m\u001b[32m\\r\\n    </style>\\r\\n</head>\\r\\n<body>\\r\\n    <header>天氣預報</header>\\r\\n    <div \u001b[0m\u001b[32mclass\u001b[0m\u001b[32m=\u001b[0m\u001b[32m\"container\"\u001b[0m\u001b[32m>\\r\\n        \u001b[0m\n",
              "\u001b[32m<h2>地點: 台北市</h2>\\r\\n        <table>\\r\\n            <tr>\\r\\n                <th>日期</th>\\r\\n                \u001b[0m\n",
              "\u001b[32m<th>溫度</th>\\r\\n                <th>天氣狀況</th>\\r\\n            </tr>\\r\\n            <tr>\\r\\n                \u001b[0m\n",
              "\u001b[32m<td>10/01/2022</td>\\r\\n                <td>28°C</td>\\r\\n                <td>晴</td>\\r\\n            </tr>\\r\\n       \u001b[0m\n",
              "\u001b[32m<tr>\\r\\n                <td>10/02/2022</td>\\r\\n                <td>29°C</td>\\r\\n                <td>多雲</td>\\r\\n  \u001b[0m\n",
              "\u001b[32m</tr>\\r\\n        </table>\\r\\n    </div>\\r\\n</body>\\r\\n</html\u001b[0m\u001b[32m>\u001b[0m\u001b[32m\\r\\n\"\"\"\\r\\n\\r\\n# 將HTML內容存為檔案\\r\\nfile_path = \u001b[0m\n",
              "\u001b[32m\\'/mnt/data/weather_forecast.html\\'\\r\\nwith open\u001b[0m\u001b[32m(\u001b[0m\u001b[32mfile_path, \\'w\\'\u001b[0m\u001b[32m)\u001b[0m\u001b[32m as file:\\r\\n    \u001b[0m\n",
              "\u001b[32mfile.write\u001b[0m\u001b[32m(\u001b[0m\u001b[32mhtml_content\u001b[0m\u001b[32m)\u001b[0m\u001b[32m\\r\\n\\r\\nfile_path'\u001b[0m,\n",
              "                            \u001b[33moutputs\u001b[0m=\u001b[1m[\u001b[0m\n",
              "                                \u001b[1;35mCodeInterpreterOutputLogs\u001b[0m\u001b[1m(\u001b[0m\u001b[33mlogs\u001b[0m=\u001b[32m\"'/mnt/data/weather_forecast.html'\"\u001b[0m, \u001b[33mtype\u001b[0m=\u001b[32m'logs'\u001b[0m\u001b[1m)\u001b[0m\n",
              "                            \u001b[1m]\u001b[0m\n",
              "                        \u001b[1m)\u001b[0m,\n",
              "                        \u001b[33mtype\u001b[0m=\u001b[32m'code_interpreter'\u001b[0m\n",
              "                    \u001b[1m)\u001b[0m\n",
              "                \u001b[1m]\u001b[0m,\n",
              "                \u001b[33mtype\u001b[0m=\u001b[32m'tool_calls'\u001b[0m\n",
              "            \u001b[1m)\u001b[0m,\n",
              "            \u001b[33mthread_id\u001b[0m=\u001b[32m'thread_HVlKuweQ5Ryug70ePoPqN65R'\u001b[0m,\n",
              "            \u001b[33mtype\u001b[0m=\u001b[32m'tool_calls'\u001b[0m,\n",
              "            \u001b[33mexpires_at\u001b[0m=\u001b[3;35mNone\u001b[0m\n",
              "        \u001b[1m)\u001b[0m,\n",
              "        \u001b[1;35mRunStep\u001b[0m\u001b[1m(\u001b[0m\n",
              "            \u001b[33mid\u001b[0m=\u001b[32m'step_eaAdvSBEByJFdjOB7OnhNcfZ'\u001b[0m,\n",
              "            \u001b[33massistant_id\u001b[0m=\u001b[32m'asst_jRwS6xuOVrBr8SX6ALwNcdod'\u001b[0m,\n",
              "            \u001b[33mcancelled_at\u001b[0m=\u001b[3;35mNone\u001b[0m,\n",
              "            \u001b[33mcompleted_at\u001b[0m=\u001b[1;36m1703570237\u001b[0m,\n",
              "            \u001b[33mcreated_at\u001b[0m=\u001b[1;36m1703570236\u001b[0m,\n",
              "            \u001b[33mexpired_at\u001b[0m=\u001b[3;35mNone\u001b[0m,\n",
              "            \u001b[33mfailed_at\u001b[0m=\u001b[3;35mNone\u001b[0m,\n",
              "            \u001b[33mlast_error\u001b[0m=\u001b[3;35mNone\u001b[0m,\n",
              "            \u001b[33mmetadata\u001b[0m=\u001b[3;35mNone\u001b[0m,\n",
              "            \u001b[33mobject\u001b[0m=\u001b[32m'thread.run.step'\u001b[0m,\n",
              "            \u001b[33mrun_id\u001b[0m=\u001b[32m'run_KzBPRWBji8fBP0TSpffa4Y44'\u001b[0m,\n",
              "            \u001b[33mstatus\u001b[0m=\u001b[32m'completed'\u001b[0m,\n",
              "            \u001b[33mstep_details\u001b[0m=\u001b[1;35mMessageCreationStepDetails\u001b[0m\u001b[1m(\u001b[0m\n",
              "                \u001b[33mmessage_creation\u001b[0m=\u001b[1;35mMessageCreation\u001b[0m\u001b[1m(\u001b[0m\u001b[33mmessage_id\u001b[0m=\u001b[32m'msg_yMf1lNmc1G6HLozV5yF7MWqy'\u001b[0m\u001b[1m)\u001b[0m,\n",
              "                \u001b[33mtype\u001b[0m=\u001b[32m'message_creation'\u001b[0m\n",
              "            \u001b[1m)\u001b[0m,\n",
              "            \u001b[33mthread_id\u001b[0m=\u001b[32m'thread_HVlKuweQ5Ryug70ePoPqN65R'\u001b[0m,\n",
              "            \u001b[33mtype\u001b[0m=\u001b[32m'message_creation'\u001b[0m,\n",
              "            \u001b[33mexpires_at\u001b[0m=\u001b[3;35mNone\u001b[0m\n",
              "        \u001b[1m)\u001b[0m\n",
              "    \u001b[1m]\u001b[0m,\n",
              "    \u001b[33mobject\u001b[0m=\u001b[32m'list'\u001b[0m,\n",
              "    \u001b[33mfirst_id\u001b[0m=\u001b[32m'step_qE5FZ2bYtyn2lldxRsa7LKw7'\u001b[0m,\n",
              "    \u001b[33mlast_id\u001b[0m=\u001b[32m'step_eaAdvSBEByJFdjOB7OnhNcfZ'\u001b[0m,\n",
              "    \u001b[33mhas_more\u001b[0m=\u001b[3;91mFalse\u001b[0m\n",
              "\u001b[1m)\u001b[0m\n"
            ],
            "text/html": [
              "<pre style=\"white-space:pre;overflow-x:auto;line-height:normal;font-family:Menlo,'DejaVu Sans Mono',consolas,'Courier New',monospace\">SyncCursorPage<span style=\"font-weight: bold\">[</span>RunStep<span style=\"font-weight: bold\">](</span>\n",
              "    <span style=\"color: #808000; text-decoration-color: #808000\">data</span>=<span style=\"font-weight: bold\">[</span>\n",
              "        <span style=\"color: #800080; text-decoration-color: #800080; font-weight: bold\">RunStep</span><span style=\"font-weight: bold\">(</span>\n",
              "            <span style=\"color: #808000; text-decoration-color: #808000\">id</span>=<span style=\"color: #008000; text-decoration-color: #008000\">'step_qE5FZ2bYtyn2lldxRsa7LKw7'</span>,\n",
              "            <span style=\"color: #808000; text-decoration-color: #808000\">assistant_id</span>=<span style=\"color: #008000; text-decoration-color: #008000\">'asst_jRwS6xuOVrBr8SX6ALwNcdod'</span>,\n",
              "            <span style=\"color: #808000; text-decoration-color: #808000\">cancelled_at</span>=<span style=\"color: #800080; text-decoration-color: #800080; font-style: italic\">None</span>,\n",
              "            <span style=\"color: #808000; text-decoration-color: #808000\">completed_at</span>=<span style=\"color: #008080; text-decoration-color: #008080; font-weight: bold\">1703570227</span>,\n",
              "            <span style=\"color: #808000; text-decoration-color: #808000\">created_at</span>=<span style=\"color: #008080; text-decoration-color: #008080; font-weight: bold\">1703570224</span>,\n",
              "            <span style=\"color: #808000; text-decoration-color: #808000\">expired_at</span>=<span style=\"color: #800080; text-decoration-color: #800080; font-style: italic\">None</span>,\n",
              "            <span style=\"color: #808000; text-decoration-color: #808000\">failed_at</span>=<span style=\"color: #800080; text-decoration-color: #800080; font-style: italic\">None</span>,\n",
              "            <span style=\"color: #808000; text-decoration-color: #808000\">last_error</span>=<span style=\"color: #800080; text-decoration-color: #800080; font-style: italic\">None</span>,\n",
              "            <span style=\"color: #808000; text-decoration-color: #808000\">metadata</span>=<span style=\"color: #800080; text-decoration-color: #800080; font-style: italic\">None</span>,\n",
              "            <span style=\"color: #808000; text-decoration-color: #808000\">object</span>=<span style=\"color: #008000; text-decoration-color: #008000\">'thread.run.step'</span>,\n",
              "            <span style=\"color: #808000; text-decoration-color: #808000\">run_id</span>=<span style=\"color: #008000; text-decoration-color: #008000\">'run_KzBPRWBji8fBP0TSpffa4Y44'</span>,\n",
              "            <span style=\"color: #808000; text-decoration-color: #808000\">status</span>=<span style=\"color: #008000; text-decoration-color: #008000\">'completed'</span>,\n",
              "            <span style=\"color: #808000; text-decoration-color: #808000\">step_details</span>=<span style=\"color: #800080; text-decoration-color: #800080; font-weight: bold\">MessageCreationStepDetails</span><span style=\"font-weight: bold\">(</span>\n",
              "                <span style=\"color: #808000; text-decoration-color: #808000\">message_creation</span>=<span style=\"color: #800080; text-decoration-color: #800080; font-weight: bold\">MessageCreation</span><span style=\"font-weight: bold\">(</span><span style=\"color: #808000; text-decoration-color: #808000\">message_id</span>=<span style=\"color: #008000; text-decoration-color: #008000\">'msg_rLFIzt9Eut1DJEcRg1Wh0nfy'</span><span style=\"font-weight: bold\">)</span>,\n",
              "                <span style=\"color: #808000; text-decoration-color: #808000\">type</span>=<span style=\"color: #008000; text-decoration-color: #008000\">'message_creation'</span>\n",
              "            <span style=\"font-weight: bold\">)</span>,\n",
              "            <span style=\"color: #808000; text-decoration-color: #808000\">thread_id</span>=<span style=\"color: #008000; text-decoration-color: #008000\">'thread_HVlKuweQ5Ryug70ePoPqN65R'</span>,\n",
              "            <span style=\"color: #808000; text-decoration-color: #808000\">type</span>=<span style=\"color: #008000; text-decoration-color: #008000\">'message_creation'</span>,\n",
              "            <span style=\"color: #808000; text-decoration-color: #808000\">expires_at</span>=<span style=\"color: #800080; text-decoration-color: #800080; font-style: italic\">None</span>\n",
              "        <span style=\"font-weight: bold\">)</span>,\n",
              "        <span style=\"color: #800080; text-decoration-color: #800080; font-weight: bold\">RunStep</span><span style=\"font-weight: bold\">(</span>\n",
              "            <span style=\"color: #808000; text-decoration-color: #808000\">id</span>=<span style=\"color: #008000; text-decoration-color: #008000\">'step_NTfW0jpqSpgqRPjDaVVyYSqi'</span>,\n",
              "            <span style=\"color: #808000; text-decoration-color: #808000\">assistant_id</span>=<span style=\"color: #008000; text-decoration-color: #008000\">'asst_jRwS6xuOVrBr8SX6ALwNcdod'</span>,\n",
              "            <span style=\"color: #808000; text-decoration-color: #808000\">cancelled_at</span>=<span style=\"color: #800080; text-decoration-color: #800080; font-style: italic\">None</span>,\n",
              "            <span style=\"color: #808000; text-decoration-color: #808000\">completed_at</span>=<span style=\"color: #008080; text-decoration-color: #008080; font-weight: bold\">1703570236</span>,\n",
              "            <span style=\"color: #808000; text-decoration-color: #808000\">created_at</span>=<span style=\"color: #008080; text-decoration-color: #008080; font-weight: bold\">1703570227</span>,\n",
              "            <span style=\"color: #808000; text-decoration-color: #808000\">expired_at</span>=<span style=\"color: #800080; text-decoration-color: #800080; font-style: italic\">None</span>,\n",
              "            <span style=\"color: #808000; text-decoration-color: #808000\">failed_at</span>=<span style=\"color: #800080; text-decoration-color: #800080; font-style: italic\">None</span>,\n",
              "            <span style=\"color: #808000; text-decoration-color: #808000\">last_error</span>=<span style=\"color: #800080; text-decoration-color: #800080; font-style: italic\">None</span>,\n",
              "            <span style=\"color: #808000; text-decoration-color: #808000\">metadata</span>=<span style=\"color: #800080; text-decoration-color: #800080; font-style: italic\">None</span>,\n",
              "            <span style=\"color: #808000; text-decoration-color: #808000\">object</span>=<span style=\"color: #008000; text-decoration-color: #008000\">'thread.run.step'</span>,\n",
              "            <span style=\"color: #808000; text-decoration-color: #808000\">run_id</span>=<span style=\"color: #008000; text-decoration-color: #008000\">'run_KzBPRWBji8fBP0TSpffa4Y44'</span>,\n",
              "            <span style=\"color: #808000; text-decoration-color: #808000\">status</span>=<span style=\"color: #008000; text-decoration-color: #008000\">'completed'</span>,\n",
              "            <span style=\"color: #808000; text-decoration-color: #808000\">step_details</span>=<span style=\"color: #800080; text-decoration-color: #800080; font-weight: bold\">ToolCallsStepDetails</span><span style=\"font-weight: bold\">(</span>\n",
              "                <span style=\"color: #808000; text-decoration-color: #808000\">tool_calls</span>=<span style=\"font-weight: bold\">[</span>\n",
              "                    <span style=\"color: #800080; text-decoration-color: #800080; font-weight: bold\">CodeToolCall</span><span style=\"font-weight: bold\">(</span>\n",
              "                        <span style=\"color: #808000; text-decoration-color: #808000\">id</span>=<span style=\"color: #008000; text-decoration-color: #008000\">'call_GGRVuCB3B0pqpMVtQfsZB4D7'</span>,\n",
              "                        <span style=\"color: #808000; text-decoration-color: #808000\">code_interpreter</span>=<span style=\"color: #800080; text-decoration-color: #800080; font-weight: bold\">CodeInterpreter</span><span style=\"font-weight: bold\">(</span>\n",
              "                            <span style=\"color: #808000; text-decoration-color: #808000\">input</span>=<span style=\"color: #008000; text-decoration-color: #008000\">'# 產生基本的HTML模板\\r\\nhtml_content = \"\"\"\\r\\n&lt;!DOCTYPE html&gt;\\r\\n&lt;html </span>\n",
              "<span style=\"color: #008000; text-decoration-color: #008000\">lang=\"en\"&gt;\\r\\n&lt;head&gt;\\r\\n    &lt;meta charset=\"UTF-8\"&gt;\\r\\n    &lt;meta name=\"viewport\" content=\"width=device-width, </span>\n",
              "<span style=\"color: #008000; text-decoration-color: #008000\">initial-scale=1.0\"&gt;\\r\\n    &lt;title&gt;天氣預報&lt;/title&gt;\\r\\n    &lt;style&gt;\\r\\n        body {\\r\\n            font-family: </span>\n",
              "<span style=\"color: #008000; text-decoration-color: #008000\">Arial, sans-serif;\\r\\n            background-color: #f4f4f4;\\r\\n            margin: 0;\\r\\n            padding: </span>\n",
              "<span style=\"color: #008000; text-decoration-color: #008000\">0;\\r\\n        }\\r\\n        header {\\r\\n            background-color: #007bff;\\r\\n            color: white;\\r\\n     </span>\n",
              "<span style=\"color: #008000; text-decoration-color: #008000\">padding: 1em;\\r\\n            text-align: center;\\r\\n            font-size: 1.5em;\\r\\n        }\\r\\n        </span>\n",
              "<span style=\"color: #008000; text-decoration-color: #008000\">.container {\\r\\n            max-width: 800px;\\r\\n            margin: 20px auto;\\r\\n            padding: 20px;\\r\\n  </span>\n",
              "<span style=\"color: #008000; text-decoration-color: #008000\">background-color: white;\\r\\n            border-radius: 5px;\\r\\n            box-shadow: 0 0 10px rgba(0, 0, 0, </span>\n",
              "<span style=\"color: #008000; text-decoration-color: #008000\">0.1);\\r\\n        }\\r\\n        table {\\r\\n            width: 100%;\\r\\n            border-collapse: collapse;\\r\\n    </span>\n",
              "<span style=\"color: #008000; text-decoration-color: #008000\">margin-bottom: 20px;\\r\\n        }\\r\\n        th, td {\\r\\n            padding: 12px 15px;\\r\\n            text-align:</span>\n",
              "<span style=\"color: #008000; text-decoration-color: #008000\">left;\\r\\n        }\\r\\n        th {\\r\\n            background-color: #007bff;\\r\\n            color: white;\\r\\n      </span>\n",
              "<span style=\"color: #008000; text-decoration-color: #008000\">}\\r\\n    &lt;/style&gt;\\r\\n&lt;/head&gt;\\r\\n&lt;body&gt;\\r\\n    &lt;header&gt;天氣預報&lt;/header&gt;\\r\\n    &lt;div class=\"container\"&gt;\\r\\n        </span>\n",
              "<span style=\"color: #008000; text-decoration-color: #008000\">&lt;h2&gt;地點: 台北市&lt;/h2&gt;\\r\\n        &lt;table&gt;\\r\\n            &lt;tr&gt;\\r\\n                &lt;th&gt;日期&lt;/th&gt;\\r\\n                </span>\n",
              "<span style=\"color: #008000; text-decoration-color: #008000\">&lt;th&gt;溫度&lt;/th&gt;\\r\\n                &lt;th&gt;天氣狀況&lt;/th&gt;\\r\\n            &lt;/tr&gt;\\r\\n            &lt;tr&gt;\\r\\n                </span>\n",
              "<span style=\"color: #008000; text-decoration-color: #008000\">&lt;td&gt;10/01/2022&lt;/td&gt;\\r\\n                &lt;td&gt;28°C&lt;/td&gt;\\r\\n                &lt;td&gt;晴&lt;/td&gt;\\r\\n            &lt;/tr&gt;\\r\\n       </span>\n",
              "<span style=\"color: #008000; text-decoration-color: #008000\">&lt;tr&gt;\\r\\n                &lt;td&gt;10/02/2022&lt;/td&gt;\\r\\n                &lt;td&gt;29°C&lt;/td&gt;\\r\\n                &lt;td&gt;多雲&lt;/td&gt;\\r\\n  </span>\n",
              "<span style=\"color: #008000; text-decoration-color: #008000\">&lt;/tr&gt;\\r\\n        &lt;/table&gt;\\r\\n    &lt;/div&gt;\\r\\n&lt;/body&gt;\\r\\n&lt;/html&gt;\\r\\n\"\"\"\\r\\n\\r\\n# 將HTML內容存為檔案\\r\\nfile_path = </span>\n",
              "<span style=\"color: #008000; text-decoration-color: #008000\">\\'/mnt/data/weather_forecast.html\\'\\r\\nwith open(file_path, \\'w\\') as file:\\r\\n    </span>\n",
              "<span style=\"color: #008000; text-decoration-color: #008000\">file.write(html_content)\\r\\n\\r\\nfile_path'</span>,\n",
              "                            <span style=\"color: #808000; text-decoration-color: #808000\">outputs</span>=<span style=\"font-weight: bold\">[</span>\n",
              "                                <span style=\"color: #800080; text-decoration-color: #800080; font-weight: bold\">CodeInterpreterOutputLogs</span><span style=\"font-weight: bold\">(</span><span style=\"color: #808000; text-decoration-color: #808000\">logs</span>=<span style=\"color: #008000; text-decoration-color: #008000\">\"'/mnt/data/weather_forecast.html'\"</span>, <span style=\"color: #808000; text-decoration-color: #808000\">type</span>=<span style=\"color: #008000; text-decoration-color: #008000\">'logs'</span><span style=\"font-weight: bold\">)</span>\n",
              "                            <span style=\"font-weight: bold\">]</span>\n",
              "                        <span style=\"font-weight: bold\">)</span>,\n",
              "                        <span style=\"color: #808000; text-decoration-color: #808000\">type</span>=<span style=\"color: #008000; text-decoration-color: #008000\">'code_interpreter'</span>\n",
              "                    <span style=\"font-weight: bold\">)</span>\n",
              "                <span style=\"font-weight: bold\">]</span>,\n",
              "                <span style=\"color: #808000; text-decoration-color: #808000\">type</span>=<span style=\"color: #008000; text-decoration-color: #008000\">'tool_calls'</span>\n",
              "            <span style=\"font-weight: bold\">)</span>,\n",
              "            <span style=\"color: #808000; text-decoration-color: #808000\">thread_id</span>=<span style=\"color: #008000; text-decoration-color: #008000\">'thread_HVlKuweQ5Ryug70ePoPqN65R'</span>,\n",
              "            <span style=\"color: #808000; text-decoration-color: #808000\">type</span>=<span style=\"color: #008000; text-decoration-color: #008000\">'tool_calls'</span>,\n",
              "            <span style=\"color: #808000; text-decoration-color: #808000\">expires_at</span>=<span style=\"color: #800080; text-decoration-color: #800080; font-style: italic\">None</span>\n",
              "        <span style=\"font-weight: bold\">)</span>,\n",
              "        <span style=\"color: #800080; text-decoration-color: #800080; font-weight: bold\">RunStep</span><span style=\"font-weight: bold\">(</span>\n",
              "            <span style=\"color: #808000; text-decoration-color: #808000\">id</span>=<span style=\"color: #008000; text-decoration-color: #008000\">'step_eaAdvSBEByJFdjOB7OnhNcfZ'</span>,\n",
              "            <span style=\"color: #808000; text-decoration-color: #808000\">assistant_id</span>=<span style=\"color: #008000; text-decoration-color: #008000\">'asst_jRwS6xuOVrBr8SX6ALwNcdod'</span>,\n",
              "            <span style=\"color: #808000; text-decoration-color: #808000\">cancelled_at</span>=<span style=\"color: #800080; text-decoration-color: #800080; font-style: italic\">None</span>,\n",
              "            <span style=\"color: #808000; text-decoration-color: #808000\">completed_at</span>=<span style=\"color: #008080; text-decoration-color: #008080; font-weight: bold\">1703570237</span>,\n",
              "            <span style=\"color: #808000; text-decoration-color: #808000\">created_at</span>=<span style=\"color: #008080; text-decoration-color: #008080; font-weight: bold\">1703570236</span>,\n",
              "            <span style=\"color: #808000; text-decoration-color: #808000\">expired_at</span>=<span style=\"color: #800080; text-decoration-color: #800080; font-style: italic\">None</span>,\n",
              "            <span style=\"color: #808000; text-decoration-color: #808000\">failed_at</span>=<span style=\"color: #800080; text-decoration-color: #800080; font-style: italic\">None</span>,\n",
              "            <span style=\"color: #808000; text-decoration-color: #808000\">last_error</span>=<span style=\"color: #800080; text-decoration-color: #800080; font-style: italic\">None</span>,\n",
              "            <span style=\"color: #808000; text-decoration-color: #808000\">metadata</span>=<span style=\"color: #800080; text-decoration-color: #800080; font-style: italic\">None</span>,\n",
              "            <span style=\"color: #808000; text-decoration-color: #808000\">object</span>=<span style=\"color: #008000; text-decoration-color: #008000\">'thread.run.step'</span>,\n",
              "            <span style=\"color: #808000; text-decoration-color: #808000\">run_id</span>=<span style=\"color: #008000; text-decoration-color: #008000\">'run_KzBPRWBji8fBP0TSpffa4Y44'</span>,\n",
              "            <span style=\"color: #808000; text-decoration-color: #808000\">status</span>=<span style=\"color: #008000; text-decoration-color: #008000\">'completed'</span>,\n",
              "            <span style=\"color: #808000; text-decoration-color: #808000\">step_details</span>=<span style=\"color: #800080; text-decoration-color: #800080; font-weight: bold\">MessageCreationStepDetails</span><span style=\"font-weight: bold\">(</span>\n",
              "                <span style=\"color: #808000; text-decoration-color: #808000\">message_creation</span>=<span style=\"color: #800080; text-decoration-color: #800080; font-weight: bold\">MessageCreation</span><span style=\"font-weight: bold\">(</span><span style=\"color: #808000; text-decoration-color: #808000\">message_id</span>=<span style=\"color: #008000; text-decoration-color: #008000\">'msg_yMf1lNmc1G6HLozV5yF7MWqy'</span><span style=\"font-weight: bold\">)</span>,\n",
              "                <span style=\"color: #808000; text-decoration-color: #808000\">type</span>=<span style=\"color: #008000; text-decoration-color: #008000\">'message_creation'</span>\n",
              "            <span style=\"font-weight: bold\">)</span>,\n",
              "            <span style=\"color: #808000; text-decoration-color: #808000\">thread_id</span>=<span style=\"color: #008000; text-decoration-color: #008000\">'thread_HVlKuweQ5Ryug70ePoPqN65R'</span>,\n",
              "            <span style=\"color: #808000; text-decoration-color: #808000\">type</span>=<span style=\"color: #008000; text-decoration-color: #008000\">'message_creation'</span>,\n",
              "            <span style=\"color: #808000; text-decoration-color: #808000\">expires_at</span>=<span style=\"color: #800080; text-decoration-color: #800080; font-style: italic\">None</span>\n",
              "        <span style=\"font-weight: bold\">)</span>\n",
              "    <span style=\"font-weight: bold\">]</span>,\n",
              "    <span style=\"color: #808000; text-decoration-color: #808000\">object</span>=<span style=\"color: #008000; text-decoration-color: #008000\">'list'</span>,\n",
              "    <span style=\"color: #808000; text-decoration-color: #808000\">first_id</span>=<span style=\"color: #008000; text-decoration-color: #008000\">'step_qE5FZ2bYtyn2lldxRsa7LKw7'</span>,\n",
              "    <span style=\"color: #808000; text-decoration-color: #808000\">last_id</span>=<span style=\"color: #008000; text-decoration-color: #008000\">'step_eaAdvSBEByJFdjOB7OnhNcfZ'</span>,\n",
              "    <span style=\"color: #808000; text-decoration-color: #808000\">has_more</span>=<span style=\"color: #ff0000; text-decoration-color: #ff0000; font-style: italic\">False</span>\n",
              "<span style=\"font-weight: bold\">)</span>\n",
              "</pre>\n"
            ]
          },
          "metadata": {}
        }
      ]
    },
    {
      "cell_type": "code",
      "source": [
        "run_step = client.beta.threads.runs.steps.retrieve(\n",
        "    thread_id=thread_id,\n",
        "    run_id=run.id,\n",
        "    step_id=run_steps.data[1].id\n",
        ")\n",
        "pprint(run_step)"
      ],
      "metadata": {
        "colab": {
          "base_uri": "https://localhost:8080/",
          "height": 799
        },
        "id": "XhA0I2dBsROW",
        "outputId": "3cea9100-5059-4a2a-c7fd-e75aead65cd1"
      },
      "execution_count": null,
      "outputs": [
        {
          "output_type": "display_data",
          "data": {
            "text/plain": [
              "\u001b[1;35mRunStep\u001b[0m\u001b[1m(\u001b[0m\n",
              "    \u001b[33mid\u001b[0m=\u001b[32m'step_NTfW0jpqSpgqRPjDaVVyYSqi'\u001b[0m,\n",
              "    \u001b[33massistant_id\u001b[0m=\u001b[32m'asst_jRwS6xuOVrBr8SX6ALwNcdod'\u001b[0m,\n",
              "    \u001b[33mcancelled_at\u001b[0m=\u001b[3;35mNone\u001b[0m,\n",
              "    \u001b[33mcompleted_at\u001b[0m=\u001b[1;36m1703570236\u001b[0m,\n",
              "    \u001b[33mcreated_at\u001b[0m=\u001b[1;36m1703570227\u001b[0m,\n",
              "    \u001b[33mexpired_at\u001b[0m=\u001b[3;35mNone\u001b[0m,\n",
              "    \u001b[33mfailed_at\u001b[0m=\u001b[3;35mNone\u001b[0m,\n",
              "    \u001b[33mlast_error\u001b[0m=\u001b[3;35mNone\u001b[0m,\n",
              "    \u001b[33mmetadata\u001b[0m=\u001b[3;35mNone\u001b[0m,\n",
              "    \u001b[33mobject\u001b[0m=\u001b[32m'thread.run.step'\u001b[0m,\n",
              "    \u001b[33mrun_id\u001b[0m=\u001b[32m'run_KzBPRWBji8fBP0TSpffa4Y44'\u001b[0m,\n",
              "    \u001b[33mstatus\u001b[0m=\u001b[32m'completed'\u001b[0m,\n",
              "    \u001b[33mstep_details\u001b[0m=\u001b[1;35mToolCallsStepDetails\u001b[0m\u001b[1m(\u001b[0m\n",
              "        \u001b[33mtool_calls\u001b[0m=\u001b[1m[\u001b[0m\n",
              "            \u001b[1;35mCodeToolCall\u001b[0m\u001b[1m(\u001b[0m\n",
              "                \u001b[33mid\u001b[0m=\u001b[32m'call_GGRVuCB3B0pqpMVtQfsZB4D7'\u001b[0m,\n",
              "                \u001b[33mcode_interpreter\u001b[0m=\u001b[1;35mCodeInterpreter\u001b[0m\u001b[1m(\u001b[0m\n",
              "                    \u001b[33minput\u001b[0m=\u001b[32m'# 產生基本的HTML模板\\r\\nhtml_content = \"\"\"\\r\\n\u001b[0m\u001b[32m<\u001b[0m\u001b[32m!DOCTYPE html>\\r\\n<html \u001b[0m\n",
              "\u001b[32mlang\u001b[0m\u001b[32m=\u001b[0m\u001b[32m\"en\"\u001b[0m\u001b[32m>\\r\\n<head>\\r\\n    <meta \u001b[0m\u001b[32mcharset\u001b[0m\u001b[32m=\u001b[0m\u001b[32m\"UTF\u001b[0m\u001b[32m-8\">\\r\\n    <meta \u001b[0m\u001b[32mname\u001b[0m\u001b[32m=\u001b[0m\u001b[32m\"viewport\"\u001b[0m\u001b[32m \u001b[0m\u001b[32mcontent\u001b[0m\u001b[32m=\u001b[0m\u001b[32m\"width\u001b[0m\u001b[32m=device-width, \u001b[0m\n",
              "\u001b[32minitial-\u001b[0m\u001b[32mscale\u001b[0m\u001b[32m=\u001b[0m\u001b[32m1\u001b[0m\u001b[32m.0\">\\r\\n    <title>天氣預報</title>\\r\\n    <style>\\r\\n        body \u001b[0m\u001b[32m{\u001b[0m\u001b[32m\\r\\n            font-family: \u001b[0m\n",
              "\u001b[32mArial, sans-serif;\\r\\n            background-color: #f4f4f4;\\r\\n            margin: 0;\\r\\n            padding: \u001b[0m\n",
              "\u001b[32m0;\\r\\n        \u001b[0m\u001b[32m}\u001b[0m\u001b[32m\\r\\n        header \u001b[0m\u001b[32m{\u001b[0m\u001b[32m\\r\\n            background-color: #007bff;\\r\\n            color: white;\\r\\n     \u001b[0m\n",
              "\u001b[32mpadding: 1em;\\r\\n            text-align: center;\\r\\n            font-size: 1.5em;\\r\\n        \u001b[0m\u001b[32m}\u001b[0m\u001b[32m\\r\\n        \u001b[0m\n",
              "\u001b[32m.container \u001b[0m\u001b[32m{\u001b[0m\u001b[32m\\r\\n            max-width: 800px;\\r\\n            margin: 20px auto;\\r\\n            padding: 20px;\\r\\n  \u001b[0m\n",
              "\u001b[32mbackground-color: white;\\r\\n            border-radius: 5px;\\r\\n            box-shadow: 0 0 10px rgba\u001b[0m\u001b[32m(\u001b[0m\u001b[32m0, 0, 0, \u001b[0m\n",
              "\u001b[32m0.1\u001b[0m\u001b[32m)\u001b[0m\u001b[32m;\\r\\n        \u001b[0m\u001b[32m}\u001b[0m\u001b[32m\\r\\n        table \u001b[0m\u001b[32m{\u001b[0m\u001b[32m\\r\\n            width: 100%;\\r\\n            border-collapse: collapse;\\r\\n    \u001b[0m\n",
              "\u001b[32mmargin-bottom: 20px;\\r\\n        \u001b[0m\u001b[32m}\u001b[0m\u001b[32m\\r\\n        th, td \u001b[0m\u001b[32m{\u001b[0m\u001b[32m\\r\\n            padding: 12px 15px;\\r\\n            text-align:\u001b[0m\n",
              "\u001b[32mleft;\\r\\n        \u001b[0m\u001b[32m}\u001b[0m\u001b[32m\\r\\n        th \u001b[0m\u001b[32m{\u001b[0m\u001b[32m\\r\\n            background-color: #007bff;\\r\\n            color: white;\\r\\n      \u001b[0m\n",
              "\u001b[32m}\u001b[0m\u001b[32m\\r\\n    </style>\\r\\n</head>\\r\\n<body>\\r\\n    <header>天氣預報</header>\\r\\n    <div \u001b[0m\u001b[32mclass\u001b[0m\u001b[32m=\u001b[0m\u001b[32m\"container\"\u001b[0m\u001b[32m>\\r\\n        \u001b[0m\n",
              "\u001b[32m<h2>地點: 台北市</h2>\\r\\n        <table>\\r\\n            <tr>\\r\\n                <th>日期</th>\\r\\n                \u001b[0m\n",
              "\u001b[32m<th>溫度</th>\\r\\n                <th>天氣狀況</th>\\r\\n            </tr>\\r\\n            <tr>\\r\\n                \u001b[0m\n",
              "\u001b[32m<td>10/01/2022</td>\\r\\n                <td>28°C</td>\\r\\n                <td>晴</td>\\r\\n            </tr>\\r\\n       \u001b[0m\n",
              "\u001b[32m<tr>\\r\\n                <td>10/02/2022</td>\\r\\n                <td>29°C</td>\\r\\n                <td>多雲</td>\\r\\n  \u001b[0m\n",
              "\u001b[32m</tr>\\r\\n        </table>\\r\\n    </div>\\r\\n</body>\\r\\n</html\u001b[0m\u001b[32m>\u001b[0m\u001b[32m\\r\\n\"\"\"\\r\\n\\r\\n# 將HTML內容存為檔案\\r\\nfile_path = \u001b[0m\n",
              "\u001b[32m\\'/mnt/data/weather_forecast.html\\'\\r\\nwith open\u001b[0m\u001b[32m(\u001b[0m\u001b[32mfile_path, \\'w\\'\u001b[0m\u001b[32m)\u001b[0m\u001b[32m as file:\\r\\n    \u001b[0m\n",
              "\u001b[32mfile.write\u001b[0m\u001b[32m(\u001b[0m\u001b[32mhtml_content\u001b[0m\u001b[32m)\u001b[0m\u001b[32m\\r\\n\\r\\nfile_path'\u001b[0m,\n",
              "                    \u001b[33moutputs\u001b[0m=\u001b[1m[\u001b[0m\u001b[1;35mCodeInterpreterOutputLogs\u001b[0m\u001b[1m(\u001b[0m\u001b[33mlogs\u001b[0m=\u001b[32m\"'/mnt/data/weather_forecast.html'\"\u001b[0m, \u001b[33mtype\u001b[0m=\u001b[32m'logs'\u001b[0m\u001b[1m)\u001b[0m\u001b[1m]\u001b[0m\n",
              "                \u001b[1m)\u001b[0m,\n",
              "                \u001b[33mtype\u001b[0m=\u001b[32m'code_interpreter'\u001b[0m\n",
              "            \u001b[1m)\u001b[0m\n",
              "        \u001b[1m]\u001b[0m,\n",
              "        \u001b[33mtype\u001b[0m=\u001b[32m'tool_calls'\u001b[0m\n",
              "    \u001b[1m)\u001b[0m,\n",
              "    \u001b[33mthread_id\u001b[0m=\u001b[32m'thread_HVlKuweQ5Ryug70ePoPqN65R'\u001b[0m,\n",
              "    \u001b[33mtype\u001b[0m=\u001b[32m'tool_calls'\u001b[0m,\n",
              "    \u001b[33mexpires_at\u001b[0m=\u001b[3;35mNone\u001b[0m\n",
              "\u001b[1m)\u001b[0m\n"
            ],
            "text/html": [
              "<pre style=\"white-space:pre;overflow-x:auto;line-height:normal;font-family:Menlo,'DejaVu Sans Mono',consolas,'Courier New',monospace\"><span style=\"color: #800080; text-decoration-color: #800080; font-weight: bold\">RunStep</span><span style=\"font-weight: bold\">(</span>\n",
              "    <span style=\"color: #808000; text-decoration-color: #808000\">id</span>=<span style=\"color: #008000; text-decoration-color: #008000\">'step_NTfW0jpqSpgqRPjDaVVyYSqi'</span>,\n",
              "    <span style=\"color: #808000; text-decoration-color: #808000\">assistant_id</span>=<span style=\"color: #008000; text-decoration-color: #008000\">'asst_jRwS6xuOVrBr8SX6ALwNcdod'</span>,\n",
              "    <span style=\"color: #808000; text-decoration-color: #808000\">cancelled_at</span>=<span style=\"color: #800080; text-decoration-color: #800080; font-style: italic\">None</span>,\n",
              "    <span style=\"color: #808000; text-decoration-color: #808000\">completed_at</span>=<span style=\"color: #008080; text-decoration-color: #008080; font-weight: bold\">1703570236</span>,\n",
              "    <span style=\"color: #808000; text-decoration-color: #808000\">created_at</span>=<span style=\"color: #008080; text-decoration-color: #008080; font-weight: bold\">1703570227</span>,\n",
              "    <span style=\"color: #808000; text-decoration-color: #808000\">expired_at</span>=<span style=\"color: #800080; text-decoration-color: #800080; font-style: italic\">None</span>,\n",
              "    <span style=\"color: #808000; text-decoration-color: #808000\">failed_at</span>=<span style=\"color: #800080; text-decoration-color: #800080; font-style: italic\">None</span>,\n",
              "    <span style=\"color: #808000; text-decoration-color: #808000\">last_error</span>=<span style=\"color: #800080; text-decoration-color: #800080; font-style: italic\">None</span>,\n",
              "    <span style=\"color: #808000; text-decoration-color: #808000\">metadata</span>=<span style=\"color: #800080; text-decoration-color: #800080; font-style: italic\">None</span>,\n",
              "    <span style=\"color: #808000; text-decoration-color: #808000\">object</span>=<span style=\"color: #008000; text-decoration-color: #008000\">'thread.run.step'</span>,\n",
              "    <span style=\"color: #808000; text-decoration-color: #808000\">run_id</span>=<span style=\"color: #008000; text-decoration-color: #008000\">'run_KzBPRWBji8fBP0TSpffa4Y44'</span>,\n",
              "    <span style=\"color: #808000; text-decoration-color: #808000\">status</span>=<span style=\"color: #008000; text-decoration-color: #008000\">'completed'</span>,\n",
              "    <span style=\"color: #808000; text-decoration-color: #808000\">step_details</span>=<span style=\"color: #800080; text-decoration-color: #800080; font-weight: bold\">ToolCallsStepDetails</span><span style=\"font-weight: bold\">(</span>\n",
              "        <span style=\"color: #808000; text-decoration-color: #808000\">tool_calls</span>=<span style=\"font-weight: bold\">[</span>\n",
              "            <span style=\"color: #800080; text-decoration-color: #800080; font-weight: bold\">CodeToolCall</span><span style=\"font-weight: bold\">(</span>\n",
              "                <span style=\"color: #808000; text-decoration-color: #808000\">id</span>=<span style=\"color: #008000; text-decoration-color: #008000\">'call_GGRVuCB3B0pqpMVtQfsZB4D7'</span>,\n",
              "                <span style=\"color: #808000; text-decoration-color: #808000\">code_interpreter</span>=<span style=\"color: #800080; text-decoration-color: #800080; font-weight: bold\">CodeInterpreter</span><span style=\"font-weight: bold\">(</span>\n",
              "                    <span style=\"color: #808000; text-decoration-color: #808000\">input</span>=<span style=\"color: #008000; text-decoration-color: #008000\">'# 產生基本的HTML模板\\r\\nhtml_content = \"\"\"\\r\\n&lt;!DOCTYPE html&gt;\\r\\n&lt;html </span>\n",
              "<span style=\"color: #008000; text-decoration-color: #008000\">lang=\"en\"&gt;\\r\\n&lt;head&gt;\\r\\n    &lt;meta charset=\"UTF-8\"&gt;\\r\\n    &lt;meta name=\"viewport\" content=\"width=device-width, </span>\n",
              "<span style=\"color: #008000; text-decoration-color: #008000\">initial-scale=1.0\"&gt;\\r\\n    &lt;title&gt;天氣預報&lt;/title&gt;\\r\\n    &lt;style&gt;\\r\\n        body {\\r\\n            font-family: </span>\n",
              "<span style=\"color: #008000; text-decoration-color: #008000\">Arial, sans-serif;\\r\\n            background-color: #f4f4f4;\\r\\n            margin: 0;\\r\\n            padding: </span>\n",
              "<span style=\"color: #008000; text-decoration-color: #008000\">0;\\r\\n        }\\r\\n        header {\\r\\n            background-color: #007bff;\\r\\n            color: white;\\r\\n     </span>\n",
              "<span style=\"color: #008000; text-decoration-color: #008000\">padding: 1em;\\r\\n            text-align: center;\\r\\n            font-size: 1.5em;\\r\\n        }\\r\\n        </span>\n",
              "<span style=\"color: #008000; text-decoration-color: #008000\">.container {\\r\\n            max-width: 800px;\\r\\n            margin: 20px auto;\\r\\n            padding: 20px;\\r\\n  </span>\n",
              "<span style=\"color: #008000; text-decoration-color: #008000\">background-color: white;\\r\\n            border-radius: 5px;\\r\\n            box-shadow: 0 0 10px rgba(0, 0, 0, </span>\n",
              "<span style=\"color: #008000; text-decoration-color: #008000\">0.1);\\r\\n        }\\r\\n        table {\\r\\n            width: 100%;\\r\\n            border-collapse: collapse;\\r\\n    </span>\n",
              "<span style=\"color: #008000; text-decoration-color: #008000\">margin-bottom: 20px;\\r\\n        }\\r\\n        th, td {\\r\\n            padding: 12px 15px;\\r\\n            text-align:</span>\n",
              "<span style=\"color: #008000; text-decoration-color: #008000\">left;\\r\\n        }\\r\\n        th {\\r\\n            background-color: #007bff;\\r\\n            color: white;\\r\\n      </span>\n",
              "<span style=\"color: #008000; text-decoration-color: #008000\">}\\r\\n    &lt;/style&gt;\\r\\n&lt;/head&gt;\\r\\n&lt;body&gt;\\r\\n    &lt;header&gt;天氣預報&lt;/header&gt;\\r\\n    &lt;div class=\"container\"&gt;\\r\\n        </span>\n",
              "<span style=\"color: #008000; text-decoration-color: #008000\">&lt;h2&gt;地點: 台北市&lt;/h2&gt;\\r\\n        &lt;table&gt;\\r\\n            &lt;tr&gt;\\r\\n                &lt;th&gt;日期&lt;/th&gt;\\r\\n                </span>\n",
              "<span style=\"color: #008000; text-decoration-color: #008000\">&lt;th&gt;溫度&lt;/th&gt;\\r\\n                &lt;th&gt;天氣狀況&lt;/th&gt;\\r\\n            &lt;/tr&gt;\\r\\n            &lt;tr&gt;\\r\\n                </span>\n",
              "<span style=\"color: #008000; text-decoration-color: #008000\">&lt;td&gt;10/01/2022&lt;/td&gt;\\r\\n                &lt;td&gt;28°C&lt;/td&gt;\\r\\n                &lt;td&gt;晴&lt;/td&gt;\\r\\n            &lt;/tr&gt;\\r\\n       </span>\n",
              "<span style=\"color: #008000; text-decoration-color: #008000\">&lt;tr&gt;\\r\\n                &lt;td&gt;10/02/2022&lt;/td&gt;\\r\\n                &lt;td&gt;29°C&lt;/td&gt;\\r\\n                &lt;td&gt;多雲&lt;/td&gt;\\r\\n  </span>\n",
              "<span style=\"color: #008000; text-decoration-color: #008000\">&lt;/tr&gt;\\r\\n        &lt;/table&gt;\\r\\n    &lt;/div&gt;\\r\\n&lt;/body&gt;\\r\\n&lt;/html&gt;\\r\\n\"\"\"\\r\\n\\r\\n# 將HTML內容存為檔案\\r\\nfile_path = </span>\n",
              "<span style=\"color: #008000; text-decoration-color: #008000\">\\'/mnt/data/weather_forecast.html\\'\\r\\nwith open(file_path, \\'w\\') as file:\\r\\n    </span>\n",
              "<span style=\"color: #008000; text-decoration-color: #008000\">file.write(html_content)\\r\\n\\r\\nfile_path'</span>,\n",
              "                    <span style=\"color: #808000; text-decoration-color: #808000\">outputs</span>=<span style=\"font-weight: bold\">[</span><span style=\"color: #800080; text-decoration-color: #800080; font-weight: bold\">CodeInterpreterOutputLogs</span><span style=\"font-weight: bold\">(</span><span style=\"color: #808000; text-decoration-color: #808000\">logs</span>=<span style=\"color: #008000; text-decoration-color: #008000\">\"'/mnt/data/weather_forecast.html'\"</span>, <span style=\"color: #808000; text-decoration-color: #808000\">type</span>=<span style=\"color: #008000; text-decoration-color: #008000\">'logs'</span><span style=\"font-weight: bold\">)]</span>\n",
              "                <span style=\"font-weight: bold\">)</span>,\n",
              "                <span style=\"color: #808000; text-decoration-color: #808000\">type</span>=<span style=\"color: #008000; text-decoration-color: #008000\">'code_interpreter'</span>\n",
              "            <span style=\"font-weight: bold\">)</span>\n",
              "        <span style=\"font-weight: bold\">]</span>,\n",
              "        <span style=\"color: #808000; text-decoration-color: #808000\">type</span>=<span style=\"color: #008000; text-decoration-color: #008000\">'tool_calls'</span>\n",
              "    <span style=\"font-weight: bold\">)</span>,\n",
              "    <span style=\"color: #808000; text-decoration-color: #808000\">thread_id</span>=<span style=\"color: #008000; text-decoration-color: #008000\">'thread_HVlKuweQ5Ryug70ePoPqN65R'</span>,\n",
              "    <span style=\"color: #808000; text-decoration-color: #808000\">type</span>=<span style=\"color: #008000; text-decoration-color: #008000\">'tool_calls'</span>,\n",
              "    <span style=\"color: #808000; text-decoration-color: #808000\">expires_at</span>=<span style=\"color: #800080; text-decoration-color: #800080; font-style: italic\">None</span>\n",
              "<span style=\"font-weight: bold\">)</span>\n",
              "</pre>\n"
            ]
          },
          "metadata": {}
        }
      ]
    },
    {
      "cell_type": "code",
      "source": [
        "pprint(messages.data[-1])"
      ],
      "metadata": {
        "colab": {
          "base_uri": "https://localhost:8080/",
          "height": 502
        },
        "id": "5OkTiJ_i7Xzw",
        "outputId": "93bf2903-9124-4721-bc6a-31561d9dbbdd"
      },
      "execution_count": null,
      "outputs": [
        {
          "output_type": "display_data",
          "data": {
            "text/plain": [
              "\u001b[1;35mThreadMessage\u001b[0m\u001b[1m(\u001b[0m\n",
              "    \u001b[33mid\u001b[0m=\u001b[32m'msg_yMf1lNmc1G6HLozV5yF7MWqy'\u001b[0m,\n",
              "    \u001b[33massistant_id\u001b[0m=\u001b[32m'asst_jRwS6xuOVrBr8SX6ALwNcdod'\u001b[0m,\n",
              "    \u001b[33mcontent\u001b[0m=\u001b[1m[\u001b[0m\n",
              "        \u001b[1;35mMessageContentText\u001b[0m\u001b[1m(\u001b[0m\n",
              "            \u001b[33mtext\u001b[0m=\u001b[1;35mText\u001b[0m\u001b[1m(\u001b[0m\n",
              "                \u001b[33mannotations\u001b[0m=\u001b[1m[\u001b[0m\n",
              "                    \u001b[1;35mTextAnnotationFilePath\u001b[0m\u001b[1m(\u001b[0m\n",
              "                        \u001b[33mend_index\u001b[0m=\u001b[1;36m95\u001b[0m,\n",
              "                        \u001b[33mfile_path\u001b[0m=\u001b[1;35mTextAnnotationFilePathFilePath\u001b[0m\u001b[1m(\u001b[0m\u001b[33mfile_id\u001b[0m=\u001b[32m'file-qmlalTBl2yCmGG17UsqhKpRw'\u001b[0m\u001b[1m)\u001b[0m,\n",
              "                        \u001b[33mstart_index\u001b[0m=\u001b[1;36m56\u001b[0m,\n",
              "                        \u001b[33mtext\u001b[0m=\u001b[32m'sandbox:/mnt/data/weather_forecast.html'\u001b[0m,\n",
              "                        \u001b[33mtype\u001b[0m=\u001b[32m'file_path'\u001b[0m\n",
              "                    \u001b[1m)\u001b[0m\n",
              "                \u001b[1m]\u001b[0m,\n",
              "                \u001b[33mvalue\u001b[0m=\u001b[32m'網頁已經設計完成並儲存為HTML檔案。您可以從以下連結下載：\\n\\n\u001b[0m\u001b[32m[\u001b[0m\u001b[32mweather_forecast.html\u001b[0m\u001b[32m]\u001b[0m\u001b[32m(\u001b[0m\u001b[32msandbox:\u001b[0m\n",
              "\u001b[32m/mnt/data/weather_forecast.html\u001b[0m\u001b[32m)\u001b[0m\u001b[32m\\n\\n請下載檔案並在瀏覽器中開啟，檢查是否符合您的期望。接下來，如果有需要進行修改或\u001b[0m\n",
              "\u001b[32m添加其他功能，請告訴我。'\u001b[0m\n",
              "            \u001b[1m)\u001b[0m,\n",
              "            \u001b[33mtype\u001b[0m=\u001b[32m'text'\u001b[0m\n",
              "        \u001b[1m)\u001b[0m\n",
              "    \u001b[1m]\u001b[0m,\n",
              "    \u001b[33mcreated_at\u001b[0m=\u001b[1;36m1703570236\u001b[0m,\n",
              "    \u001b[33mfile_ids\u001b[0m=\u001b[1m[\u001b[0m\u001b[32m'file-qmlalTBl2yCmGG17UsqhKpRw'\u001b[0m\u001b[1m]\u001b[0m,\n",
              "    \u001b[33mmetadata\u001b[0m=\u001b[1m{\u001b[0m\u001b[1m}\u001b[0m,\n",
              "    \u001b[33mobject\u001b[0m=\u001b[32m'thread.message'\u001b[0m,\n",
              "    \u001b[33mrole\u001b[0m=\u001b[32m'assistant'\u001b[0m,\n",
              "    \u001b[33mrun_id\u001b[0m=\u001b[32m'run_KzBPRWBji8fBP0TSpffa4Y44'\u001b[0m,\n",
              "    \u001b[33mthread_id\u001b[0m=\u001b[32m'thread_HVlKuweQ5Ryug70ePoPqN65R'\u001b[0m\n",
              "\u001b[1m)\u001b[0m\n"
            ],
            "text/html": [
              "<pre style=\"white-space:pre;overflow-x:auto;line-height:normal;font-family:Menlo,'DejaVu Sans Mono',consolas,'Courier New',monospace\"><span style=\"color: #800080; text-decoration-color: #800080; font-weight: bold\">ThreadMessage</span><span style=\"font-weight: bold\">(</span>\n",
              "    <span style=\"color: #808000; text-decoration-color: #808000\">id</span>=<span style=\"color: #008000; text-decoration-color: #008000\">'msg_yMf1lNmc1G6HLozV5yF7MWqy'</span>,\n",
              "    <span style=\"color: #808000; text-decoration-color: #808000\">assistant_id</span>=<span style=\"color: #008000; text-decoration-color: #008000\">'asst_jRwS6xuOVrBr8SX6ALwNcdod'</span>,\n",
              "    <span style=\"color: #808000; text-decoration-color: #808000\">content</span>=<span style=\"font-weight: bold\">[</span>\n",
              "        <span style=\"color: #800080; text-decoration-color: #800080; font-weight: bold\">MessageContentText</span><span style=\"font-weight: bold\">(</span>\n",
              "            <span style=\"color: #808000; text-decoration-color: #808000\">text</span>=<span style=\"color: #800080; text-decoration-color: #800080; font-weight: bold\">Text</span><span style=\"font-weight: bold\">(</span>\n",
              "                <span style=\"color: #808000; text-decoration-color: #808000\">annotations</span>=<span style=\"font-weight: bold\">[</span>\n",
              "                    <span style=\"color: #800080; text-decoration-color: #800080; font-weight: bold\">TextAnnotationFilePath</span><span style=\"font-weight: bold\">(</span>\n",
              "                        <span style=\"color: #808000; text-decoration-color: #808000\">end_index</span>=<span style=\"color: #008080; text-decoration-color: #008080; font-weight: bold\">95</span>,\n",
              "                        <span style=\"color: #808000; text-decoration-color: #808000\">file_path</span>=<span style=\"color: #800080; text-decoration-color: #800080; font-weight: bold\">TextAnnotationFilePathFilePath</span><span style=\"font-weight: bold\">(</span><span style=\"color: #808000; text-decoration-color: #808000\">file_id</span>=<span style=\"color: #008000; text-decoration-color: #008000\">'file-qmlalTBl2yCmGG17UsqhKpRw'</span><span style=\"font-weight: bold\">)</span>,\n",
              "                        <span style=\"color: #808000; text-decoration-color: #808000\">start_index</span>=<span style=\"color: #008080; text-decoration-color: #008080; font-weight: bold\">56</span>,\n",
              "                        <span style=\"color: #808000; text-decoration-color: #808000\">text</span>=<span style=\"color: #008000; text-decoration-color: #008000\">'sandbox:/mnt/data/weather_forecast.html'</span>,\n",
              "                        <span style=\"color: #808000; text-decoration-color: #808000\">type</span>=<span style=\"color: #008000; text-decoration-color: #008000\">'file_path'</span>\n",
              "                    <span style=\"font-weight: bold\">)</span>\n",
              "                <span style=\"font-weight: bold\">]</span>,\n",
              "                <span style=\"color: #808000; text-decoration-color: #808000\">value</span>=<span style=\"color: #008000; text-decoration-color: #008000\">'網頁已經設計完成並儲存為HTML檔案。您可以從以下連結下載：\\n\\n[weather_forecast.html](sandbox:</span>\n",
              "<span style=\"color: #008000; text-decoration-color: #008000\">/mnt/data/weather_forecast.html)\\n\\n請下載檔案並在瀏覽器中開啟，檢查是否符合您的期望。接下來，如果有需要進行修改或</span>\n",
              "<span style=\"color: #008000; text-decoration-color: #008000\">添加其他功能，請告訴我。'</span>\n",
              "            <span style=\"font-weight: bold\">)</span>,\n",
              "            <span style=\"color: #808000; text-decoration-color: #808000\">type</span>=<span style=\"color: #008000; text-decoration-color: #008000\">'text'</span>\n",
              "        <span style=\"font-weight: bold\">)</span>\n",
              "    <span style=\"font-weight: bold\">]</span>,\n",
              "    <span style=\"color: #808000; text-decoration-color: #808000\">created_at</span>=<span style=\"color: #008080; text-decoration-color: #008080; font-weight: bold\">1703570236</span>,\n",
              "    <span style=\"color: #808000; text-decoration-color: #808000\">file_ids</span>=<span style=\"font-weight: bold\">[</span><span style=\"color: #008000; text-decoration-color: #008000\">'file-qmlalTBl2yCmGG17UsqhKpRw'</span><span style=\"font-weight: bold\">]</span>,\n",
              "    <span style=\"color: #808000; text-decoration-color: #808000\">metadata</span>=<span style=\"font-weight: bold\">{}</span>,\n",
              "    <span style=\"color: #808000; text-decoration-color: #808000\">object</span>=<span style=\"color: #008000; text-decoration-color: #008000\">'thread.message'</span>,\n",
              "    <span style=\"color: #808000; text-decoration-color: #808000\">role</span>=<span style=\"color: #008000; text-decoration-color: #008000\">'assistant'</span>,\n",
              "    <span style=\"color: #808000; text-decoration-color: #808000\">run_id</span>=<span style=\"color: #008000; text-decoration-color: #008000\">'run_KzBPRWBji8fBP0TSpffa4Y44'</span>,\n",
              "    <span style=\"color: #808000; text-decoration-color: #808000\">thread_id</span>=<span style=\"color: #008000; text-decoration-color: #008000\">'thread_HVlKuweQ5Ryug70ePoPqN65R'</span>\n",
              "<span style=\"font-weight: bold\">)</span>\n",
              "</pre>\n"
            ]
          },
          "metadata": {}
        }
      ]
    },
    {
      "cell_type": "code",
      "source": [
        "from IPython.display import HTML\n",
        "\n",
        "def show_html(messages):\n",
        "    for i in messages.data:\n",
        "        # 找出有文件內容的對話物件\n",
        "        if i.content[0].text.annotations:\n",
        "            file_index =  i.content[0].text.annotations\n",
        "            # 找到文件識別碼\n",
        "            file_ids = file_index[0].file_path.file_id\n",
        "            content = client.files.content(file_ids)\n",
        "            # 儲存 HTML\n",
        "            content.stream_to_file('test.html')\n",
        "            # 顯示 HTML\n",
        "            html_content = content.content.decode('utf-8')\n",
        "            display(HTML(html_content))\n",
        "\n",
        "show_html(messages)"
      ],
      "metadata": {
        "colab": {
          "base_uri": "https://localhost:8080/",
          "height": 340
        },
        "id": "IfriRgna7PhC",
        "outputId": "8f446fc8-adf4-4167-a440-ef6ec6410635"
      },
      "execution_count": null,
      "outputs": [
        {
          "output_type": "display_data",
          "data": {
            "text/plain": [
              "<IPython.core.display.HTML object>"
            ],
            "text/html": [
              "\n",
              "<!DOCTYPE html>\n",
              "<html lang=\"en\">\n",
              "<head>\n",
              "    <meta charset=\"UTF-8\">\n",
              "    <meta name=\"viewport\" content=\"width=device-width, initial-scale=1.0\">\n",
              "    <title>天氣預報</title>\n",
              "    <style>\n",
              "        body {\n",
              "            font-family: Arial, sans-serif;\n",
              "            background-color: #f4f4f4;\n",
              "            margin: 0;\n",
              "            padding: 0;\n",
              "        }\n",
              "        header {\n",
              "            background-color: #007bff;\n",
              "            color: white;\n",
              "            padding: 1em;\n",
              "            text-align: center;\n",
              "            font-size: 1.5em;\n",
              "        }\n",
              "        .container {\n",
              "            max-width: 800px;\n",
              "            margin: 20px auto;\n",
              "            padding: 20px;\n",
              "            background-color: white;\n",
              "            border-radius: 5px;\n",
              "            box-shadow: 0 0 10px rgba(0, 0, 0, 0.1);\n",
              "        }\n",
              "        table {\n",
              "            width: 100%;\n",
              "            border-collapse: collapse;\n",
              "            margin-bottom: 20px;\n",
              "        }\n",
              "        th, td {\n",
              "            padding: 12px 15px;\n",
              "            text-align: left;\n",
              "        }\n",
              "        th {\n",
              "            background-color: #007bff;\n",
              "            color: white;\n",
              "        }\n",
              "    </style>\n",
              "</head>\n",
              "<body>\n",
              "    <header>天氣預報</header>\n",
              "    <div class=\"container\">\n",
              "        <h2>地點: 台北市</h2>\n",
              "        <table>\n",
              "            <tr>\n",
              "                <th>日期</th>\n",
              "                <th>溫度</th>\n",
              "                <th>天氣狀況</th>\n",
              "            </tr>\n",
              "            <tr>\n",
              "                <td>10/01/2022</td>\n",
              "                <td>28°C</td>\n",
              "                <td>晴</td>\n",
              "            </tr>\n",
              "            <tr>\n",
              "                <td>10/02/2022</td>\n",
              "                <td>29°C</td>\n",
              "                <td>多雲</td>\n",
              "            </tr>\n",
              "        </table>\n",
              "    </div>\n",
              "</body>\n",
              "</html>\n"
            ]
          },
          "metadata": {}
        }
      ]
    },
    {
      "cell_type": "code",
      "source": [
        "while True:\n",
        "    question = input('請輸入要求：')\n",
        "    if not question.strip():\n",
        "        break\n",
        "    message, run = input_and_run(question, thread_id, assistant_id)\n",
        "\n",
        "    run = wait_on_run(run)\n",
        "\n",
        "    if run.status == 'completed':\n",
        "        messages = client.beta.threads.messages.list(\n",
        "            thread_id=thread_id,order=\"asc\", after=message.id)\n",
        "        for part in messages:\n",
        "            print(f'AI 回覆：{part.content[0].text.value}')\n",
        "        show_html(messages)\n",
        "    else:\n",
        "        print(run.status)"
      ],
      "metadata": {
        "id": "aehyrFdzUjPr",
        "colab": {
          "base_uri": "https://localhost:8080/",
          "height": 922
        },
        "outputId": "093f67dd-754e-448b-e00a-bdbd4ad52cb5"
      },
      "execution_count": null,
      "outputs": [
        {
          "output_type": "stream",
          "name": "stdout",
          "text": [
            "請輸入要求：請加入背景\n",
            "AI 回覆：當然，我們可以加入一個動態的背景圖片來提升網頁的吸引力。讓我們立即加入背景圖片，請稍等片刻。\n",
            "AI 回覆：背景圖片已成功加入並且網頁內容已經更新。您可以從以下連結下載新版本的HTML檔案，並在瀏覽器中開啟以檢查。 \n",
            "\n",
            "[weather_forecast_with_bg.html](sandbox:/mnt/data/weather_forecast_with_bg.html)\n"
          ]
        },
        {
          "output_type": "display_data",
          "data": {
            "text/plain": [
              "<IPython.core.display.HTML object>"
            ],
            "text/html": [
              "\n",
              "<!DOCTYPE html>\n",
              "<html lang=\"en\">\n",
              "<head>\n",
              "    <meta charset=\"UTF-8\">\n",
              "    <meta name=\"viewport\" content=\"width=device-width, initial-scale=1.0\">\n",
              "    <title>天氣預報</title>\n",
              "    <style>\n",
              "        body {\n",
              "            font-family: Arial, sans-serif;\n",
              "            margin: 0;\n",
              "            padding: 0;\n",
              "            background-image: url('https://via.placeholder.com/1500x800'); /* 替換成實際的背景圖片URL */\n",
              "            background-size: cover;\n",
              "            background-position: center;\n",
              "        }\n",
              "        header {\n",
              "            background-color: rgba(0, 123, 255, 0.75);\n",
              "            color: white;\n",
              "            padding: 1em;\n",
              "            text-align: center;\n",
              "            font-size: 1.5em;\n",
              "        }\n",
              "        .container {\n",
              "            max-width: 800px;\n",
              "            margin: 20px auto;\n",
              "            padding: 20px;\n",
              "            background-color: rgba(255, 255, 255, 0.9);\n",
              "            border-radius: 5px;\n",
              "            box-shadow: 0 0 10px rgba(0, 0, 0, 0.1);\n",
              "        }\n",
              "        table {\n",
              "            width: 100%;\n",
              "            border-collapse: collapse;\n",
              "            margin-bottom: 20px;\n",
              "        }\n",
              "        th, td {\n",
              "            padding: 12px 15px;\n",
              "            text-align: left;\n",
              "        }\n",
              "        th {\n",
              "            background-color: #007bff;\n",
              "            color: white;\n",
              "        }\n",
              "    </style>\n",
              "</head>\n",
              "<body>\n",
              "    <header>天氣預報</header>\n",
              "    <div class=\"container\">\n",
              "        <h2>地點: 台北市</h2>\n",
              "        <table>\n",
              "            <tr>\n",
              "                <th>日期</th>\n",
              "                <th>溫度</th>\n",
              "                <th>天氣狀況</th>\n",
              "            </tr>\n",
              "            <tr>\n",
              "                <td>10/01/2022</td>\n",
              "                <td>28°C</td>\n",
              "                <td>晴</td>\n",
              "            </tr>\n",
              "            <tr>\n",
              "                <td>10/02/2022</td>\n",
              "                <td>29°C</td>\n",
              "                <td>多雲</td>\n",
              "            </tr>\n",
              "        </table>\n",
              "    </div>\n",
              "</body>\n",
              "</html>\n"
            ]
          },
          "metadata": {}
        },
        {
          "output_type": "stream",
          "name": "stdout",
          "text": [
            "請輸入要求：增加下拉式表單\n",
            "AI 回覆：理解了，您想加入一個下拉式表單供使用者選擇不同的地點以查詢天氣預報。讓我立即修改網頁，請稍等。\n",
            "AI 回覆：下拉式表單已經成功加入並且網頁內容已經更新。您可以從以下連結下載新版本的HTML檔案，並在瀏覽器中開啟以檢查。\n",
            "\n",
            "[weather_forecast_with_dropdown.html](sandbox:/mnt/data/weather_forecast_with_dropdown.html)\n"
          ]
        },
        {
          "output_type": "display_data",
          "data": {
            "text/plain": [
              "<IPython.core.display.HTML object>"
            ],
            "text/html": [
              "\n",
              "<!DOCTYPE html>\n",
              "<html lang=\"en\">\n",
              "<head>\n",
              "    <meta charset=\"UTF-8\">\n",
              "    <meta name=\"viewport\" content=\"width=device-width, initial-scale=1.0\">\n",
              "    <title>天氣預報</title>\n",
              "    <style>\n",
              "        body {\n",
              "            font-family: Arial, sans-serif;\n",
              "            margin: 0;\n",
              "            padding: 0;\n",
              "            background-image: url('https://via.placeholder.com/1500x800'); /* 替換成實際的背景圖片URL */\n",
              "            background-size: cover;\n",
              "            background-position: center;\n",
              "        }\n",
              "        header {\n",
              "            background-color: rgba(0, 123, 255, 0.75);\n",
              "            color: white;\n",
              "            padding: 1em;\n",
              "            text-align: center;\n",
              "            font-size: 1.5em;\n",
              "        }\n",
              "        .container {\n",
              "            max-width: 800px;\n",
              "            margin: 20px auto;\n",
              "            padding: 20px;\n",
              "            background-color: rgba(255, 255, 255, 0.9);\n",
              "            border-radius: 5px;\n",
              "            box-shadow: 0 0 10px rgba(0, 0, 0, 0.1);\n",
              "        }\n",
              "        table {\n",
              "            width: 100%;\n",
              "            border-collapse: collapse;\n",
              "            margin-bottom: 20px;\n",
              "        }\n",
              "        th, td {\n",
              "            padding: 12px 15px;\n",
              "            text-align: left;\n",
              "        }\n",
              "        th {\n",
              "            background-color: #007bff;\n",
              "            color: white;\n",
              "        }\n",
              "        select {\n",
              "            padding: 10px;\n",
              "            font-size: 16px;\n",
              "        }\n",
              "    </style>\n",
              "</head>\n",
              "<body>\n",
              "    <header>天氣預報</header>\n",
              "    <div class=\"container\">\n",
              "        <form>\n",
              "            <label for=\"location\">選擇地點:</label>\n",
              "            <select id=\"location\" name=\"location\">\n",
              "                <option value=\"taipei\">台北市</option>\n",
              "                <option value=\"new_taipei\">新北市</option>\n",
              "                <option value=\"taichung\">台中市</option>\n",
              "                <option value=\"kaohsiung\">高雄市</option>\n",
              "            </select>\n",
              "            <input type=\"submit\" value=\"查詢\">\n",
              "        </form>\n",
              "        <h2>地點: 台北市</h2>\n",
              "        <table>\n",
              "            <tr>\n",
              "                <th>日期</th>\n",
              "                <th>溫度</th>\n",
              "                <th>天氣狀況</th>\n",
              "            </tr>\n",
              "            <tr>\n",
              "                <td>10/01/2022</td>\n",
              "                <td>28°C</td>\n",
              "                <td>晴</td>\n",
              "            </tr>\n",
              "            <tr>\n",
              "                <td>10/02/2022</td>\n",
              "                <td>29°C</td>\n",
              "                <td>多雲</td>\n",
              "            </tr>\n",
              "        </table>\n",
              "    </div>\n",
              "</body>\n",
              "</html>\n"
            ]
          },
          "metadata": {}
        },
        {
          "name": "stdout",
          "output_type": "stream",
          "text": [
            "請輸入要求：\n"
          ]
        }
      ]
    },
    {
      "cell_type": "markdown",
      "source": [
        "### Retrieval 檢索器 - RAG\n"
      ],
      "metadata": {
        "id": "qafxX3H5mgr5"
      }
    },
    {
      "cell_type": "code",
      "source": [
        "!mkdir \"旅遊\"\n",
        "!curl -L \"https://ppt.cc/fscClx\" -o \"旅遊/food.pdf\"\n",
        "!curl -L \"https://ppt.cc/f2BqBx\" -o \"旅遊/history.pdf\"\n",
        "!curl -L \"https://ppt.cc/fuarUx\" -o \"旅遊/nature.pdf\""
      ],
      "metadata": {
        "id": "rd2x5qTPbejG",
        "colab": {
          "base_uri": "https://localhost:8080/"
        },
        "outputId": "e355d2e9-5651-4d09-a1fd-6c5225b9f9fd"
      },
      "execution_count": null,
      "outputs": [
        {
          "output_type": "stream",
          "name": "stdout",
          "text": [
            "  % Total    % Received % Xferd  Average Speed   Time    Time     Time  Current\n",
            "                                 Dload  Upload   Total   Spent    Left  Speed\n",
            "  0     0    0     0    0     0      0      0 --:--:--  0:00:01 --:--:--     0\n",
            "100 3576k  100 3576k    0     0  2139k      0  0:00:01  0:00:01 --:--:-- 17.4M\n",
            "  % Total    % Received % Xferd  Average Speed   Time    Time     Time  Current\n",
            "                                 Dload  Upload   Total   Spent    Left  Speed\n",
            "  0     0    0     0    0     0      0      0 --:--:-- --:--:-- --:--:--     0\n",
            "100 3357k  100 3357k    0     0  2429k      0  0:00:01  0:00:01 --:--:-- 2429k\n",
            "  % Total    % Received % Xferd  Average Speed   Time    Time     Time  Current\n",
            "                                 Dload  Upload   Total   Spent    Left  Speed\n",
            "  0     0    0     0    0     0      0      0 --:--:-- --:--:-- --:--:--     0\n",
            "100 3803k  100 3803k    0     0  2758k      0  0:00:01  0:00:01 --:--:-- 2758k\n"
          ]
        }
      ]
    },
    {
      "cell_type": "code",
      "source": [
        "import os\n",
        "ids = []\n",
        "allfilelist = os.listdir('/content/旅遊')\n",
        "for path in allfilelist:\n",
        "    file = client.files.create(\n",
        "        file=open(f\"/content/旅遊/{path}\", \"rb\"),\n",
        "        purpose='assistants'\n",
        "    )\n",
        "    ids.append(file.id)"
      ],
      "metadata": {
        "id": "TeOyGD93nTfY"
      },
      "execution_count": null,
      "outputs": []
    },
    {
      "cell_type": "code",
      "source": [
        "assistant = client.beta.assistants.create(\n",
        "    name=\"旅遊助理\",\n",
        "    instructions=\"你是一位旅遊規劃者, 可以根據旅遊文件規劃旅遊行程\",\n",
        "    tools=[{\"type\": \"retrieval\"}],\n",
        "    model=\"gpt-4-1106-preview\",\n",
        "    file_ids=ids\n",
        ")\n",
        "assistant_id = assistant.id\n",
        "pprint(assistant)\n",
        "\n",
        "thread = client.beta.threads.create()\n",
        "thread_id = thread.id"
      ],
      "metadata": {
        "id": "Z3WC3Y7_mnDX",
        "colab": {
          "base_uri": "https://localhost:8080/",
          "height": 213
        },
        "outputId": "097cf51e-b2cb-4824-eba3-ff75a419feac"
      },
      "execution_count": null,
      "outputs": [
        {
          "output_type": "display_data",
          "data": {
            "text/plain": [
              "\u001b[1;35mAssistant\u001b[0m\u001b[1m(\u001b[0m\n",
              "    \u001b[33mid\u001b[0m=\u001b[32m'asst_TNZ60IGVpv2oBNtQdLz0ViKt'\u001b[0m,\n",
              "    \u001b[33mcreated_at\u001b[0m=\u001b[1;36m1703570337\u001b[0m,\n",
              "    \u001b[33mdescription\u001b[0m=\u001b[3;35mNone\u001b[0m,\n",
              "    \u001b[33mfile_ids\u001b[0m=\u001b[1m[\u001b[0m\u001b[32m'file-7gOt18kaBgxzZw8zlqbp33Yc'\u001b[0m, \u001b[32m'file-BhyqYnwfjovD9DkC5bfGRBuX'\u001b[0m, \u001b[32m'file-q7xrzBOA27eF0k8iAIpnKGJR'\u001b[0m\u001b[1m]\u001b[0m,\n",
              "    \u001b[33minstructions\u001b[0m=\u001b[32m'你是一位旅遊規劃者, 可以根據旅遊文件規劃旅遊行程'\u001b[0m,\n",
              "    \u001b[33mmetadata\u001b[0m=\u001b[1m{\u001b[0m\u001b[1m}\u001b[0m,\n",
              "    \u001b[33mmodel\u001b[0m=\u001b[32m'gpt-4-1106-preview'\u001b[0m,\n",
              "    \u001b[33mname\u001b[0m=\u001b[32m'旅遊助理'\u001b[0m,\n",
              "    \u001b[33mobject\u001b[0m=\u001b[32m'assistant'\u001b[0m,\n",
              "    \u001b[33mtools\u001b[0m=\u001b[1m[\u001b[0m\u001b[1;35mToolRetrieval\u001b[0m\u001b[1m(\u001b[0m\u001b[33mtype\u001b[0m=\u001b[32m'retrieval'\u001b[0m\u001b[1m)\u001b[0m\u001b[1m]\u001b[0m\n",
              "\u001b[1m)\u001b[0m\n"
            ],
            "text/html": [
              "<pre style=\"white-space:pre;overflow-x:auto;line-height:normal;font-family:Menlo,'DejaVu Sans Mono',consolas,'Courier New',monospace\"><span style=\"color: #800080; text-decoration-color: #800080; font-weight: bold\">Assistant</span><span style=\"font-weight: bold\">(</span>\n",
              "    <span style=\"color: #808000; text-decoration-color: #808000\">id</span>=<span style=\"color: #008000; text-decoration-color: #008000\">'asst_TNZ60IGVpv2oBNtQdLz0ViKt'</span>,\n",
              "    <span style=\"color: #808000; text-decoration-color: #808000\">created_at</span>=<span style=\"color: #008080; text-decoration-color: #008080; font-weight: bold\">1703570337</span>,\n",
              "    <span style=\"color: #808000; text-decoration-color: #808000\">description</span>=<span style=\"color: #800080; text-decoration-color: #800080; font-style: italic\">None</span>,\n",
              "    <span style=\"color: #808000; text-decoration-color: #808000\">file_ids</span>=<span style=\"font-weight: bold\">[</span><span style=\"color: #008000; text-decoration-color: #008000\">'file-7gOt18kaBgxzZw8zlqbp33Yc'</span>, <span style=\"color: #008000; text-decoration-color: #008000\">'file-BhyqYnwfjovD9DkC5bfGRBuX'</span>, <span style=\"color: #008000; text-decoration-color: #008000\">'file-q7xrzBOA27eF0k8iAIpnKGJR'</span><span style=\"font-weight: bold\">]</span>,\n",
              "    <span style=\"color: #808000; text-decoration-color: #808000\">instructions</span>=<span style=\"color: #008000; text-decoration-color: #008000\">'你是一位旅遊規劃者, 可以根據旅遊文件規劃旅遊行程'</span>,\n",
              "    <span style=\"color: #808000; text-decoration-color: #808000\">metadata</span>=<span style=\"font-weight: bold\">{}</span>,\n",
              "    <span style=\"color: #808000; text-decoration-color: #808000\">model</span>=<span style=\"color: #008000; text-decoration-color: #008000\">'gpt-4-1106-preview'</span>,\n",
              "    <span style=\"color: #808000; text-decoration-color: #808000\">name</span>=<span style=\"color: #008000; text-decoration-color: #008000\">'旅遊助理'</span>,\n",
              "    <span style=\"color: #808000; text-decoration-color: #808000\">object</span>=<span style=\"color: #008000; text-decoration-color: #008000\">'assistant'</span>,\n",
              "    <span style=\"color: #808000; text-decoration-color: #808000\">tools</span>=<span style=\"font-weight: bold\">[</span><span style=\"color: #800080; text-decoration-color: #800080; font-weight: bold\">ToolRetrieval</span><span style=\"font-weight: bold\">(</span><span style=\"color: #808000; text-decoration-color: #808000\">type</span>=<span style=\"color: #008000; text-decoration-color: #008000\">'retrieval'</span><span style=\"font-weight: bold\">)]</span>\n",
              "<span style=\"font-weight: bold\">)</span>\n",
              "</pre>\n"
            ]
          },
          "metadata": {}
        }
      ]
    },
    {
      "cell_type": "code",
      "source": [
        "from IPython.display import Markdown\n",
        "\n",
        "def output_text(thread_id, message):\n",
        "    messages = client.beta.threads.messages.list(\n",
        "        thread_id=thread_id, order=\"asc\", after=message.id)\n",
        "    for message in messages:\n",
        "        display(Markdown(message.content[0].text.value))"
      ],
      "metadata": {
        "id": "5rF2SGWEp5wn"
      },
      "execution_count": null,
      "outputs": []
    },
    {
      "cell_type": "code",
      "source": [
        "message, run = input_and_run(\"請規劃台中一日遊行程\",\n",
        "                             thread_id, assistant.id)\n",
        "run = wait_on_run(run)\n",
        "pprint(run.status)\n",
        "output_text(thread_id, message)"
      ],
      "metadata": {
        "id": "X2uiV32Fm57O",
        "colab": {
          "base_uri": "https://localhost:8080/",
          "height": 242
        },
        "outputId": "78964a1c-d8ee-4129-b1ec-7b00d896c76c"
      },
      "execution_count": null,
      "outputs": [
        {
          "output_type": "display_data",
          "data": {
            "text/plain": [
              "completed\n"
            ],
            "text/html": [
              "<pre style=\"white-space:pre;overflow-x:auto;line-height:normal;font-family:Menlo,'DejaVu Sans Mono',consolas,'Courier New',monospace\">completed\n",
              "</pre>\n"
            ]
          },
          "metadata": {}
        },
        {
          "output_type": "display_data",
          "data": {
            "text/plain": [
              "<IPython.core.display.Markdown object>"
            ],
            "text/markdown": "基於提供的資料，我為你規劃了一個台中一日遊行程，以下是建議的旅遊景點及順序：\n\n1. **彩虹眷村**【13†source】: 推薦先從富有色彩和歷史意義的彩虹眷村開始你的一日遊。\n\n2. **霧峰林家宮保第園區**【14†source】: 隨後參觀一下霧峰林家宮保第園區，體驗尊貴的清朝臺灣第一官宅氣勢。\n\n3. **亞洲大學現代美術館**【15†source】: 在霧峰區附近，你還可以順遊亞洲大學的現代美術館，感受國際大師安藤忠雄氛圍。\n\n4. **摘星山莊**【16†source】: 繼而前往摘星山莊，一睹被譽為「臺灣十大民宅之首」的豪宅之美。\n\n5. **筱雲山莊**【21†source】: 筱雲山莊同樣為百年官宅建築，感受保存良好的古蹟風貌。\n\n6. **東勢客家文化園區**【24†source】: 最後到東勢客家文化園區，體驗客家文化和山城的美。\n\n請注意開放時間及休息日，以免前往時遇到關閉的情況。希望這個行程能為你的台中之旅增添樂趣！有其他特別需求或想要更多建議，請告訴我。"
          },
          "metadata": {}
        }
      ]
    },
    {
      "cell_type": "code",
      "source": [
        "!curl -L \"https://ppt.cc/fAzoVx\" -o \"Travel_In_Taoyuan.json\""
      ],
      "metadata": {
        "colab": {
          "base_uri": "https://localhost:8080/"
        },
        "id": "jBLm7pwfhS16",
        "outputId": "8f9e6b1e-1cc5-4e4e-ee09-d96e456e2601"
      },
      "execution_count": null,
      "outputs": [
        {
          "output_type": "stream",
          "name": "stdout",
          "text": [
            "  % Total    % Received % Xferd  Average Speed   Time    Time     Time  Current\n",
            "                                 Dload  Upload   Total   Spent    Left  Speed\n",
            "  0     0    0     0    0     0      0      0 --:--:--  0:00:01 --:--:--     0\n",
            "100  119k  100  119k    0     0  85758      0  0:00:01  0:00:01 --:--:-- 85758\n"
          ]
        }
      ]
    },
    {
      "cell_type": "code",
      "source": [
        "file = client.files.create(\n",
        "  file=open(\"/content/Travel_In_Taoyuan.json\", \"rb\"),\n",
        "  purpose='assistants'\n",
        ")\n",
        "\n",
        "message = client.beta.threads.messages.create(\n",
        "    thread_id=thread.id,\n",
        "    role=\"user\",\n",
        "    content=\"可以規劃去桃園兩天一夜的行程嗎?\",\n",
        "    file_ids=[file.id]\n",
        ")"
      ],
      "metadata": {
        "id": "q4Y5yZlbf7LF"
      },
      "execution_count": null,
      "outputs": []
    },
    {
      "cell_type": "code",
      "source": [
        "run = client.beta.threads.runs.create(\n",
        "    thread_id=thread_id,\n",
        "    assistant_id=assistant.id,\n",
        ")\n",
        "run = wait_on_run(run)\n",
        "pprint(run.status)\n",
        "output_text(thread_id, message)"
      ],
      "metadata": {
        "id": "0M8zGPadkx4m",
        "colab": {
          "base_uri": "https://localhost:8080/",
          "height": 397
        },
        "outputId": "6bd861c1-942a-442c-ed60-22f03c841be5"
      },
      "execution_count": null,
      "outputs": [
        {
          "output_type": "display_data",
          "data": {
            "text/plain": [
              "completed\n"
            ],
            "text/html": [
              "<pre style=\"white-space:pre;overflow-x:auto;line-height:normal;font-family:Menlo,'DejaVu Sans Mono',consolas,'Courier New',monospace\">completed\n",
              "</pre>\n"
            ]
          },
          "metadata": {}
        },
        {
          "output_type": "display_data",
          "data": {
            "text/plain": [
              "<IPython.core.display.Markdown object>"
            ],
            "text/markdown": "根据提供的资料，为您规划了一个桃园两天一夜的行程如下：\n\n### 第一天:\n- 早餐后开始您的旅程\n- **新北市立黄金博物馤**：首先参观黄金博物馆，了解这里的黄金文化历史。\n- **黄金神社**：参观黄金神社，感受其特有的宁静和历史韵味。\n- **无耳茶壶山登山步道**：接着前往无耳茶壶山，进行一个轻松的登山之旅。\n- **报时山观景台**：午间在报时山观景台欣赏美景，并在此用午餐。\n- 返回**黄金神社**：下午返回黄金神社，进一步探索。\n- **基隆廟口夜市+晚餐**：傍晚，前往基隆廟口夜市品尝当地的美食。\n- **基隆旅宿**：晚餐后，前往基隆旅宿休息。\n\n### 第二天:\n- 早餐后退房准备出发\n- 参观**大漢溪山豬湖生態親水園區**：从中壢后火车站出发，去大漢溪的山豬湖生態親水园区。\n- **李鄭芳古厝**：继续探访李鄭芳古厝，领略古厝的精美雕刻和建筑美学。\n- 特色午餐：在**香满园花园餐厅**或**台湾砖窯鸡**或**大溪山水庭园餐厅**享用特色餐。\n\n以上行程需要根据实际开放时间和交通安排进行微调，同时建议早点开始一天的行程以避免错过任何景点。使用北北基桃好玩卡可以享受相关景点的优惠【30†source】。祝您在桃园的两天时光玩得开心！"
          },
          "metadata": {}
        }
      ]
    },
    {
      "cell_type": "markdown",
      "source": [
        "如果要台中與桃園各玩一天, 該如何規劃?\n",
        "\n",
        "我想要去台中進行一趟美食之旅"
      ],
      "metadata": {
        "id": "PeANi4aY80E-"
      }
    },
    {
      "cell_type": "code",
      "source": [
        "while True:\n",
        "    question = input('請輸入要求：')\n",
        "    if not question.strip():\n",
        "        break\n",
        "    message, run = input_and_run(question, thread_id, assistant_id)\n",
        "\n",
        "    run = wait_on_run(run)\n",
        "    pprint(run.status)\n",
        "    output_text(thread_id, message)"
      ],
      "metadata": {
        "colab": {
          "base_uri": "https://localhost:8080/",
          "height": 631
        },
        "id": "h4h6fizLFEU5",
        "outputId": "7b51595a-2adf-4c86-be12-32457d8fcdd9"
      },
      "execution_count": null,
      "outputs": [
        {
          "name": "stdout",
          "output_type": "stream",
          "text": [
            "請輸入要求：如果要台中與桃園各玩一天, 該如何規劃?\n"
          ]
        },
        {
          "output_type": "display_data",
          "data": {
            "text/plain": [
              "completed\n"
            ],
            "text/html": [
              "<pre style=\"white-space:pre;overflow-x:auto;line-height:normal;font-family:Menlo,'DejaVu Sans Mono',consolas,'Courier New',monospace\">completed\n",
              "</pre>\n"
            ]
          },
          "metadata": {}
        },
        {
          "output_type": "display_data",
          "data": {
            "text/plain": [
              "<IPython.core.display.Markdown object>"
            ],
            "text/markdown": "當然可以。根據您的需求，這裡是一個簡單的行程規劃，台中與桃園各玩一天：\n\n### 台中一日遊行程\n- **上午**\n  - **彩虹眷村**：開始您的台中之旅，參觀充滿藝術和歷史的彩虹眷村【11†source】。\n  - **霧峰林家宮保第園區**：接著遊覽霧峰林家宮保第園區，感受清朝臺灣第一官宅的氣勢【12†source】。\n  - **午餐**：在附近享用道地台中美食。\n- **下午**\n  - **亞洲大學現代美術館**：體驗國際大師安藤忠雄設計的亞洲大學現代美術館【13†source】。\n  - **摘星山莊**：參觀被譽為「臺灣十大民宅之首」的摘星山莊【14†source】。\n- **晚上**\n  - **台中公園（湖心亭）**：在台中公園輕鬆散步，享受美麗的湖心亭景色【18†source】。\n  - **晚餐**：品嘗台中當地特色晚餐。\n\n### 桃園一日遊行程\n- **上午**\n  - **大漢溪山豬湖生態親水園區**：前往大漢溪欣賞當地的自然景觀與生態【30†source】。\n  - **李騰芳古厝**：探訪歷史悠久的李騰芳古厝，體驗百年建築的魅力【30†source】。\n  - **午餐**：選擇在香滿園花園餐廳、台灣磚窯雞或大溪山水庭園餐廳用餐【30†source】。\n- **下午**\n  - **桃園其他景點**：可根據您的興趣，選擇參觀其他桃園的景點，例如大溪老街、角板山、藝文特區等。\n  - **晚餐**：在桃園品嚐道地的晚餐，享受桃園的夜生活。\n\n這只是一個基本的行程建議，您可以根據自己的喜好和時間進行適當調整。請記得考慮各個旅遊景點的開放時間和所需的交通時間。祝您旅途愉快！"
          },
          "metadata": {}
        },
        {
          "name": "stdout",
          "output_type": "stream",
          "text": [
            "請輸入要求：我想要去台中進行一趟美食之旅\n"
          ]
        },
        {
          "output_type": "display_data",
          "data": {
            "text/plain": [
              "completed\n"
            ],
            "text/html": [
              "<pre style=\"white-space:pre;overflow-x:auto;line-height:normal;font-family:Menlo,'DejaVu Sans Mono',consolas,'Courier New',monospace\">completed\n",
              "</pre>\n"
            ]
          },
          "metadata": {}
        },
        {
          "output_type": "display_data",
          "data": {
            "text/plain": [
              "<IPython.core.display.Markdown object>"
            ],
            "text/markdown": "很抱歉，似乎在操作文檔時發生了一些錯誤，我無法從您提供的文件中獲得台中的美食資訊。我可以重新嘗試獲取有關台中美食的資料，或者我可以根據以往的知識給您一些建議。您希望我如何協助您？"
          },
          "metadata": {}
        },
        {
          "name": "stdout",
          "output_type": "stream",
          "text": [
            "請輸入要求：\n"
          ]
        }
      ]
    },
    {
      "cell_type": "code",
      "source": [
        "new_thread = client.beta.threads.create()\n",
        "new_thread_id = new_thread.id\n",
        "\n",
        "while True:\n",
        "    question = input('請輸入要求：')\n",
        "    if not question.strip():\n",
        "        break\n",
        "    message, run = input_and_run(question, new_thread_id,\n",
        "                                 assistant_id)\n",
        "    run = wait_on_run(run)\n",
        "    pprint(run.status)\n",
        "    output_text(new_thread_id, message)"
      ],
      "metadata": {
        "id": "StsTmK64fyrl",
        "colab": {
          "base_uri": "https://localhost:8080/",
          "height": 781
        },
        "outputId": "cfdb2eac-5987-425d-8559-828eab90b065"
      },
      "execution_count": null,
      "outputs": [
        {
          "name": "stdout",
          "output_type": "stream",
          "text": [
            "請輸入要求：可以規劃去桃園兩天一夜的行程嗎?\n"
          ]
        },
        {
          "output_type": "display_data",
          "data": {
            "text/plain": [
              "completed\n"
            ],
            "text/html": [
              "<pre style=\"white-space:pre;overflow-x:auto;line-height:normal;font-family:Menlo,'DejaVu Sans Mono',consolas,'Courier New',monospace\">completed\n",
              "</pre>\n"
            ]
          },
          "metadata": {}
        },
        {
          "output_type": "display_data",
          "data": {
            "text/plain": [
              "<IPython.core.display.Markdown object>"
            ],
            "text/markdown": "根據提供的資訊，我為您規劃了兩天一夜遊覽桃園的行程。\n\n### 第一天：\n1. **臺中火車站 (舊站)** - 這是全臺唯一三代同堂的車站，您可以欣賞到由日式木造小站、巴洛克式建築舊站，到未來設計感新站，這樣跨時空的美景【14†source】。\n\n2. **文化部文化資產園區** - 這裡是遺址保存最完整的臺灣酒廠，現已打造成藝文特區，古蹟和藝術交織在一起【14†source】。\n\n3. **臺中州廳** - 來這裡可觀賞百年前總統府御用建築師的作品，建築以法式風格為主，您可以體驗到細膩的古建築風味【14†source】。\n\n4. **臺中刑務所演武場** - 這是日據時期留下的珍貴武道場，充滿日式禪風，相當適合靜下心來參觀【14†source】。\n\n### 第二天：\n5. **臺中公園（湖心亭）** - 臺灣首座百年地標公園，您可以選擇划船或是散步在園內，體驗典型的台中風情【14†source】。\n\n6. **柳川水岸步道** - 最後您可以在這條生態工法開發的景觀河岸散步，享受一份悠閒【14†source】。\n\n請根據這些景點的開放時間安排旅行的行程，希望這個安排能讓您在桃園的兩天一夜之旅中擁有美好的體驗！如果您需要住宿或餐飲建議，請告知我，我可以繼續為您規劃。"
          },
          "metadata": {}
        },
        {
          "name": "stdout",
          "output_type": "stream",
          "text": [
            "請輸入要求：我是要去桃園不是台中\n"
          ]
        },
        {
          "output_type": "display_data",
          "data": {
            "text/plain": [
              "completed\n"
            ],
            "text/html": [
              "<pre style=\"white-space:pre;overflow-x:auto;line-height:normal;font-family:Menlo,'DejaVu Sans Mono',consolas,'Courier New',monospace\">completed\n",
              "</pre>\n"
            ]
          },
          "metadata": {}
        },
        {
          "output_type": "display_data",
          "data": {
            "text/plain": [
              "<IPython.core.display.Markdown object>"
            ],
            "text/markdown": "對不起，我之前提供的資訊是有關臺中而非桃園的景點，我會重新進行搜索和規劃。\n\n經過查閱目前提供的旅遊文件，似乎沒有特定的提及桃園兩天一夜的詳細行程。為了制定一個合適的行程，我將使用已知的資訊以及一些常見的觀光推薦，來為您規劃桃園的旅遊。\n\n### 桃園兩天一夜行程建議：\n\n#### 第一天：\n- **搭車前往桃園** - 確保您選擇的交通方式能在早上抵達桃園，以便有更多的觀光時間。\n- **登入窯文化園區** - 您可以參觀這個結合了文化與藝術的園區，了解桃園當地的手工藝以及傳統窯燒技藝。\n- **中壢夜市** - 晚上可以前往中壢夜市，享受當地的特色小吃，體驗台灣夜市的熱鬧氛圍。\n- **入住飯店** - 選擇一家舒適的飯店進行休息，以備次日的活動。\n\n#### 第二天：\n- **大溪老街** - 逛逛大溪老街，品嘗當地美食，欣賞老街上的傳統建築。\n- **角板山** - 前往角板山賞花遊憩區，你可以在此處遠眺大漢溪的美景，或是體驗該地區的戶外活動。\n- **大園區海邊** - 如果時間允許，可以去大園區的海邊去欣賞海景，也許還能偶遇到一些水上活動。\n- **返回** - 下午或傍晚搭乘交通工具返回家，結束兩天一夜的旅行。\n\n如果需要更加具體的行程規劃，例如特定的景點訊息、餐廳推薦或是住宿選擇，請提供更多細節或需求，我會進一步為您做出安排。"
          },
          "metadata": {}
        },
        {
          "name": "stdout",
          "output_type": "stream",
          "text": [
            "請輸入要求：\n"
          ]
        }
      ]
    },
    {
      "cell_type": "markdown",
      "source": [
        "### Function calling"
      ],
      "metadata": {
        "id": "mcpVFaJvmwW-"
      }
    },
    {
      "cell_type": "code",
      "source": [
        "from googlesearch import search\n",
        "def google_res(user_input):\n",
        "    response = ''\n",
        "    for i in search(user_input, advanced=True, num_results=5):\n",
        "        response += f'{i.title}\\n{i.description}\\n'\n",
        "    return response"
      ],
      "metadata": {
        "id": "li_CGBUsLFhE"
      },
      "execution_count": null,
      "outputs": []
    },
    {
      "cell_type": "code",
      "source": [
        "assistant = client.beta.assistants.create(\n",
        "  name=\"搜尋助理\",\n",
        "  instructions=\"取得 Google 搜尋結果\",\n",
        "  model=\"gpt-3.5-turbo-1106\",\n",
        "  tools=[\n",
        "    {\"type\": \"function\",\n",
        "    \"function\": {\n",
        "      \"name\": \"google_res\",\n",
        "      \"description\": \"如果問題為你不知道的事情需要網路搜尋, \"\\\n",
        "      \"才會使用這個搜尋函式, 使用繁體中文作回覆\",\n",
        "      \"parameters\": {\n",
        "        \"type\": \"object\",\n",
        "        \"properties\": {\n",
        "          \"user_input\": {\"type\": \"string\"}\n",
        "        },\n",
        "        \"required\": [\"user_input\"]\n",
        "      }\n",
        "    }\n",
        "  }]\n",
        ")\n",
        "assistant_id = assistant.id\n",
        "\n",
        "thread = client.beta.threads.create()\n",
        "thread_id = thread.id"
      ],
      "metadata": {
        "id": "wa2WA4wOmrzG"
      },
      "execution_count": null,
      "outputs": []
    },
    {
      "cell_type": "code",
      "source": [
        "message, run = input_and_run(\"2023年金鐘獎男主角是?\",\n",
        "                             thread_id, assistant_id)\n",
        "run = wait_on_run(run)\n",
        "pprint(run)"
      ],
      "metadata": {
        "id": "TKLaS4Mx1Lie",
        "colab": {
          "base_uri": "https://localhost:8080/",
          "height": 973
        },
        "outputId": "9bb99a2b-98d2-4266-9b37-890a32cdd323"
      },
      "execution_count": null,
      "outputs": [
        {
          "output_type": "display_data",
          "data": {
            "text/plain": [
              "\u001b[1;35mRun\u001b[0m\u001b[1m(\u001b[0m\n",
              "    \u001b[33mid\u001b[0m=\u001b[32m'run_3WS96K5xKyhE0UJ9oxVtFwoI'\u001b[0m,\n",
              "    \u001b[33massistant_id\u001b[0m=\u001b[32m'asst_IH1ib1TQLfhsCtwRtr1KRZM9'\u001b[0m,\n",
              "    \u001b[33mcancelled_at\u001b[0m=\u001b[3;35mNone\u001b[0m,\n",
              "    \u001b[33mcompleted_at\u001b[0m=\u001b[3;35mNone\u001b[0m,\n",
              "    \u001b[33mcreated_at\u001b[0m=\u001b[1;36m1703584541\u001b[0m,\n",
              "    \u001b[33mexpires_at\u001b[0m=\u001b[1;36m1703585141\u001b[0m,\n",
              "    \u001b[33mfailed_at\u001b[0m=\u001b[3;35mNone\u001b[0m,\n",
              "    \u001b[33mfile_ids\u001b[0m=\u001b[1m[\u001b[0m\u001b[1m]\u001b[0m,\n",
              "    \u001b[33minstructions\u001b[0m=\u001b[32m'取得 Google 搜尋結果'\u001b[0m,\n",
              "    \u001b[33mlast_error\u001b[0m=\u001b[3;35mNone\u001b[0m,\n",
              "    \u001b[33mmetadata\u001b[0m=\u001b[1m{\u001b[0m\u001b[1m}\u001b[0m,\n",
              "    \u001b[33mmodel\u001b[0m=\u001b[32m'gpt-4-1106-preview'\u001b[0m,\n",
              "    \u001b[33mobject\u001b[0m=\u001b[32m'thread.run'\u001b[0m,\n",
              "    \u001b[33mrequired_action\u001b[0m=\u001b[1;35mRequiredAction\u001b[0m\u001b[1m(\u001b[0m\n",
              "        \u001b[33msubmit_tool_outputs\u001b[0m=\u001b[1;35mRequiredActionSubmitToolOutputs\u001b[0m\u001b[1m(\u001b[0m\n",
              "            \u001b[33mtool_calls\u001b[0m=\u001b[1m[\u001b[0m\n",
              "                \u001b[1;35mRequiredActionFunctionToolCall\u001b[0m\u001b[1m(\u001b[0m\n",
              "                    \u001b[33mid\u001b[0m=\u001b[32m'call_cX5hqA8MtQ8yVLueBXfycVrd'\u001b[0m,\n",
              "                    \u001b[33mfunction\u001b[0m=\u001b[1;35mFunction\u001b[0m\u001b[1m(\u001b[0m\n",
              "                        \u001b[33marguments\u001b[0m=\u001b[32m'\u001b[0m\u001b[32m{\u001b[0m\u001b[32m\"user_input\":\"2023 \\\\n \\\\n \\\\n \\\\n \\\\n \\\\n \\\\n \\\\n \\\\n \\\\n \\\\n \\\\n \\\\n \\\\n \\\\n \u001b[0m\n",
              "\u001b[32m\\\\n \\\\n \\\\n \\\\n \\\\n \\\\n \\\\n \\\\n \\\\n \\\\n \\\\n \\\\n \\\\n \\\\n \\\\n \\\\n \\\\n \\\\n \\\\n \\\\n \\\\n \\\\n \\\\n \\\\n \\\\n \\\\n \\\\n \\\\n \\\\n\u001b[0m\n",
              "\u001b[32m\\\\n \\\\n \\\\n \\\\n \\\\n \\\\n \\\\n \\\\n \\\\n \\\\n \\\\n \\\\n \\\\n \\\\n \\\\n \\\\n \\\\n \\\\n \\\\n \\\\n \\\\n \\\\n \\\\n \\\\n \\\\n \\\\n \\\\n \\\\n \\\\n\u001b[0m\n",
              "\u001b[32m\\\\n \\\\n \\\\n \\\\n \\\\n \\\\n \\\\n \\\\n \\\\n \\\\n \\\\n \\\\n \\\\n \\\\n \\\\n \\\\n \\\\n \\\\n \\\\n \\\\n \\\\n \\\\n \\\\n \\\\n \\\\n \\\\n \\\\n \\\\n \\\\n\u001b[0m\n",
              "\u001b[32m\\\\n \\\\n \\\\n \\\\n \\\\n \\\\n \\\\n \\\\n \\\\n \\\\n \\\\n \\\\n \\\\n \\\\n \\\\n \\\\n \\\\n \\\\n \\\\n \\\\n \\\\n \\\\n \\\\n \\\\n \\\\n \\\\n \\\\n \\\\n \\\\n\u001b[0m\n",
              "\u001b[32m\\\\n \\\\n \\\\n \\\\n \\\\n \\\\n \\\\n \\\\n \\\\n \\\\n \\\\n \\\\n \\\\n \\\\n \\\\n \\\\n \\\\n \\\\n \\\\n \\\\n \\\\n \\\\n \\\\n \\\\n \\\\n \\\\n \\\\n \\\\n \\\\n\u001b[0m\n",
              "\u001b[32m\\\\n \\\\n \\\\n \\\\n \\\\n \\\\n \\\\n \\\\n \\\\n \\\\n \\\\n \\\\n \\\\n \\\\n \\\\n \\\\n \\\\n \\\\n \\\\n \\\\n \\\\n \\\\n \\\\n \\\\n \\\\n \\\\n \\\\n \\\\n \\\\n\u001b[0m\n",
              "\u001b[32m\\\\n \\\\n \\\\n \\\\n \\\\n \\\\n \\\\n \\\\n \\\\n \\\\n \\\\n \\\\n \\\\n \\\\n踴 \\\\n \\\\n \\\\n \\\\n \\\\n \\\\n \\\\n \\\\n \\\\n \\\\n \\\\n \\\\n \\\\n \\\\n \u001b[0m\n",
              "\u001b[32m\\\\n \\\\n \\\\n \\\\n \\\\n \\\\n \\\\n \\\\n \\\\n \\\\n \\\\n \\\\n 譯 \\\\n \\\\n \\\\n \\\\n \\\\n \\\\n \\\\n \\\\n \\\\n \\\\n \\\\n \\\\n \\\\n \\\\n \\\\n \\\\n \u001b[0m\n",
              "\u001b[32m\\\\n \\\\n \\\\n \\\\n \\\\n \\\\n \\\\n \\\\n \\\\n \\\\n \\\\n \\\\n \\\\n \\\\n \\\\n \\\\n \\\\n \\\\n \\\\n \\\\n \\\\n \\\\n \\\\n \\\\n \\\\n \\\\n \\\\n \\\\n \\\\n\u001b[0m\n",
              "\u001b[32m\\\\n \\\\n \\\\n \\\\n \\\\n 譯 \\\\n \\\\n \\\\n \\\\n \\\\n \\\\n \\\\n \\\\n \\\\n \\\\n \\\\n \\\\n \\\\n \\\\n \\\\n \\\\n \\\\n \\\\n \\\\n \\\\n \\\\n \\\\n \\\\n \u001b[0m\n",
              "\u001b[32m\\\\n \\\\n \\\\n \\\\n \\\\n \\\\n \\\\n 寅 \\\\n \\\\n \\\\n \\\\n \\\\n \\\\n \\\\n \\\\n \\\\n \\\\n \\\\n \\\\n \\\\n \\\\n \\\\n \\\\n \\\\n \\\\n \\\\n \u001b[0m\n",
              "\u001b[32m\\\\n獎男主角\"\u001b[0m\u001b[32m}\u001b[0m\u001b[32m'\u001b[0m,\n",
              "                        \u001b[33mname\u001b[0m=\u001b[32m'google_res'\u001b[0m\n",
              "                    \u001b[1m)\u001b[0m,\n",
              "                    \u001b[33mtype\u001b[0m=\u001b[32m'function'\u001b[0m\n",
              "                \u001b[1m)\u001b[0m\n",
              "            \u001b[1m]\u001b[0m\n",
              "        \u001b[1m)\u001b[0m,\n",
              "        \u001b[33mtype\u001b[0m=\u001b[32m'submit_tool_outputs'\u001b[0m\n",
              "    \u001b[1m)\u001b[0m,\n",
              "    \u001b[33mstarted_at\u001b[0m=\u001b[1;36m1703584542\u001b[0m,\n",
              "    \u001b[33mstatus\u001b[0m=\u001b[32m'requires_action'\u001b[0m,\n",
              "    \u001b[33mthread_id\u001b[0m=\u001b[32m'thread_yWmunltK9QKaGB8gZjX2ISOw'\u001b[0m,\n",
              "    \u001b[33mtools\u001b[0m=\u001b[1m[\u001b[0m\n",
              "        \u001b[1;35mToolAssistantToolsFunction\u001b[0m\u001b[1m(\u001b[0m\n",
              "            \u001b[33mfunction\u001b[0m=\u001b[1;35mFunctionDefinition\u001b[0m\u001b[1m(\u001b[0m\n",
              "                \u001b[33mname\u001b[0m=\u001b[32m'google_res'\u001b[0m,\n",
              "                \u001b[33mdescription\u001b[0m=\u001b[32m'如果問題為你不知道的事情需要網路搜尋, 才會使用這個搜尋函式, 使用繁體中文作回覆'\u001b[0m,\n",
              "                \u001b[33mparameters\u001b[0m=\u001b[1m{\u001b[0m\n",
              "                    \u001b[32m'type'\u001b[0m: \u001b[32m'object'\u001b[0m,\n",
              "                    \u001b[32m'properties'\u001b[0m: \u001b[1m{\u001b[0m\u001b[32m'user_input'\u001b[0m: \u001b[1m{\u001b[0m\u001b[32m'type'\u001b[0m: \u001b[32m'string'\u001b[0m\u001b[1m}\u001b[0m\u001b[1m}\u001b[0m,\n",
              "                    \u001b[32m'required'\u001b[0m: \u001b[1m[\u001b[0m\u001b[32m'user_input'\u001b[0m\u001b[1m]\u001b[0m\n",
              "                \u001b[1m}\u001b[0m\n",
              "            \u001b[1m)\u001b[0m,\n",
              "            \u001b[33mtype\u001b[0m=\u001b[32m'function'\u001b[0m\n",
              "        \u001b[1m)\u001b[0m\n",
              "    \u001b[1m]\u001b[0m\n",
              "\u001b[1m)\u001b[0m\n"
            ],
            "text/html": [
              "<pre style=\"white-space:pre;overflow-x:auto;line-height:normal;font-family:Menlo,'DejaVu Sans Mono',consolas,'Courier New',monospace\"><span style=\"color: #800080; text-decoration-color: #800080; font-weight: bold\">Run</span><span style=\"font-weight: bold\">(</span>\n",
              "    <span style=\"color: #808000; text-decoration-color: #808000\">id</span>=<span style=\"color: #008000; text-decoration-color: #008000\">'run_3WS96K5xKyhE0UJ9oxVtFwoI'</span>,\n",
              "    <span style=\"color: #808000; text-decoration-color: #808000\">assistant_id</span>=<span style=\"color: #008000; text-decoration-color: #008000\">'asst_IH1ib1TQLfhsCtwRtr1KRZM9'</span>,\n",
              "    <span style=\"color: #808000; text-decoration-color: #808000\">cancelled_at</span>=<span style=\"color: #800080; text-decoration-color: #800080; font-style: italic\">None</span>,\n",
              "    <span style=\"color: #808000; text-decoration-color: #808000\">completed_at</span>=<span style=\"color: #800080; text-decoration-color: #800080; font-style: italic\">None</span>,\n",
              "    <span style=\"color: #808000; text-decoration-color: #808000\">created_at</span>=<span style=\"color: #008080; text-decoration-color: #008080; font-weight: bold\">1703584541</span>,\n",
              "    <span style=\"color: #808000; text-decoration-color: #808000\">expires_at</span>=<span style=\"color: #008080; text-decoration-color: #008080; font-weight: bold\">1703585141</span>,\n",
              "    <span style=\"color: #808000; text-decoration-color: #808000\">failed_at</span>=<span style=\"color: #800080; text-decoration-color: #800080; font-style: italic\">None</span>,\n",
              "    <span style=\"color: #808000; text-decoration-color: #808000\">file_ids</span>=<span style=\"font-weight: bold\">[]</span>,\n",
              "    <span style=\"color: #808000; text-decoration-color: #808000\">instructions</span>=<span style=\"color: #008000; text-decoration-color: #008000\">'取得 Google 搜尋結果'</span>,\n",
              "    <span style=\"color: #808000; text-decoration-color: #808000\">last_error</span>=<span style=\"color: #800080; text-decoration-color: #800080; font-style: italic\">None</span>,\n",
              "    <span style=\"color: #808000; text-decoration-color: #808000\">metadata</span>=<span style=\"font-weight: bold\">{}</span>,\n",
              "    <span style=\"color: #808000; text-decoration-color: #808000\">model</span>=<span style=\"color: #008000; text-decoration-color: #008000\">'gpt-4-1106-preview'</span>,\n",
              "    <span style=\"color: #808000; text-decoration-color: #808000\">object</span>=<span style=\"color: #008000; text-decoration-color: #008000\">'thread.run'</span>,\n",
              "    <span style=\"color: #808000; text-decoration-color: #808000\">required_action</span>=<span style=\"color: #800080; text-decoration-color: #800080; font-weight: bold\">RequiredAction</span><span style=\"font-weight: bold\">(</span>\n",
              "        <span style=\"color: #808000; text-decoration-color: #808000\">submit_tool_outputs</span>=<span style=\"color: #800080; text-decoration-color: #800080; font-weight: bold\">RequiredActionSubmitToolOutputs</span><span style=\"font-weight: bold\">(</span>\n",
              "            <span style=\"color: #808000; text-decoration-color: #808000\">tool_calls</span>=<span style=\"font-weight: bold\">[</span>\n",
              "                <span style=\"color: #800080; text-decoration-color: #800080; font-weight: bold\">RequiredActionFunctionToolCall</span><span style=\"font-weight: bold\">(</span>\n",
              "                    <span style=\"color: #808000; text-decoration-color: #808000\">id</span>=<span style=\"color: #008000; text-decoration-color: #008000\">'call_cX5hqA8MtQ8yVLueBXfycVrd'</span>,\n",
              "                    <span style=\"color: #808000; text-decoration-color: #808000\">function</span>=<span style=\"color: #800080; text-decoration-color: #800080; font-weight: bold\">Function</span><span style=\"font-weight: bold\">(</span>\n",
              "                        <span style=\"color: #808000; text-decoration-color: #808000\">arguments</span>=<span style=\"color: #008000; text-decoration-color: #008000\">'{\"user_input\":\"2023 \\\\n \\\\n \\\\n \\\\n \\\\n \\\\n \\\\n \\\\n \\\\n \\\\n \\\\n \\\\n \\\\n \\\\n \\\\n </span>\n",
              "<span style=\"color: #008000; text-decoration-color: #008000\">\\\\n \\\\n \\\\n \\\\n \\\\n \\\\n \\\\n \\\\n \\\\n \\\\n \\\\n \\\\n \\\\n \\\\n \\\\n \\\\n \\\\n \\\\n \\\\n \\\\n \\\\n \\\\n \\\\n \\\\n \\\\n \\\\n \\\\n \\\\n \\\\n</span>\n",
              "<span style=\"color: #008000; text-decoration-color: #008000\">\\\\n \\\\n \\\\n \\\\n \\\\n \\\\n \\\\n \\\\n \\\\n \\\\n \\\\n \\\\n \\\\n \\\\n \\\\n \\\\n \\\\n \\\\n \\\\n \\\\n \\\\n \\\\n \\\\n \\\\n \\\\n \\\\n \\\\n \\\\n \\\\n</span>\n",
              "<span style=\"color: #008000; text-decoration-color: #008000\">\\\\n \\\\n \\\\n \\\\n \\\\n \\\\n \\\\n \\\\n \\\\n \\\\n \\\\n \\\\n \\\\n \\\\n \\\\n \\\\n \\\\n \\\\n \\\\n \\\\n \\\\n \\\\n \\\\n \\\\n \\\\n \\\\n \\\\n \\\\n \\\\n</span>\n",
              "<span style=\"color: #008000; text-decoration-color: #008000\">\\\\n \\\\n \\\\n \\\\n \\\\n \\\\n \\\\n \\\\n \\\\n \\\\n \\\\n \\\\n \\\\n \\\\n \\\\n \\\\n \\\\n \\\\n \\\\n \\\\n \\\\n \\\\n \\\\n \\\\n \\\\n \\\\n \\\\n \\\\n \\\\n</span>\n",
              "<span style=\"color: #008000; text-decoration-color: #008000\">\\\\n \\\\n \\\\n \\\\n \\\\n \\\\n \\\\n \\\\n \\\\n \\\\n \\\\n \\\\n \\\\n \\\\n \\\\n \\\\n \\\\n \\\\n \\\\n \\\\n \\\\n \\\\n \\\\n \\\\n \\\\n \\\\n \\\\n \\\\n \\\\n</span>\n",
              "<span style=\"color: #008000; text-decoration-color: #008000\">\\\\n \\\\n \\\\n \\\\n \\\\n \\\\n \\\\n \\\\n \\\\n \\\\n \\\\n \\\\n \\\\n \\\\n \\\\n \\\\n \\\\n \\\\n \\\\n \\\\n \\\\n \\\\n \\\\n \\\\n \\\\n \\\\n \\\\n \\\\n \\\\n</span>\n",
              "<span style=\"color: #008000; text-decoration-color: #008000\">\\\\n \\\\n \\\\n \\\\n \\\\n \\\\n \\\\n \\\\n \\\\n \\\\n \\\\n \\\\n \\\\n \\\\n踴 \\\\n \\\\n \\\\n \\\\n \\\\n \\\\n \\\\n \\\\n \\\\n \\\\n \\\\n \\\\n \\\\n \\\\n </span>\n",
              "<span style=\"color: #008000; text-decoration-color: #008000\">\\\\n \\\\n \\\\n \\\\n \\\\n \\\\n \\\\n \\\\n \\\\n \\\\n \\\\n \\\\n 譯 \\\\n \\\\n \\\\n \\\\n \\\\n \\\\n \\\\n \\\\n \\\\n \\\\n \\\\n \\\\n \\\\n \\\\n \\\\n \\\\n </span>\n",
              "<span style=\"color: #008000; text-decoration-color: #008000\">\\\\n \\\\n \\\\n \\\\n \\\\n \\\\n \\\\n \\\\n \\\\n \\\\n \\\\n \\\\n \\\\n \\\\n \\\\n \\\\n \\\\n \\\\n \\\\n \\\\n \\\\n \\\\n \\\\n \\\\n \\\\n \\\\n \\\\n \\\\n \\\\n</span>\n",
              "<span style=\"color: #008000; text-decoration-color: #008000\">\\\\n \\\\n \\\\n \\\\n \\\\n 譯 \\\\n \\\\n \\\\n \\\\n \\\\n \\\\n \\\\n \\\\n \\\\n \\\\n \\\\n \\\\n \\\\n \\\\n \\\\n \\\\n \\\\n \\\\n \\\\n \\\\n \\\\n \\\\n \\\\n </span>\n",
              "<span style=\"color: #008000; text-decoration-color: #008000\">\\\\n \\\\n \\\\n \\\\n \\\\n \\\\n \\\\n 寅 \\\\n \\\\n \\\\n \\\\n \\\\n \\\\n \\\\n \\\\n \\\\n \\\\n \\\\n \\\\n \\\\n \\\\n \\\\n \\\\n \\\\n \\\\n \\\\n </span>\n",
              "<span style=\"color: #008000; text-decoration-color: #008000\">\\\\n獎男主角\"}'</span>,\n",
              "                        <span style=\"color: #808000; text-decoration-color: #808000\">name</span>=<span style=\"color: #008000; text-decoration-color: #008000\">'google_res'</span>\n",
              "                    <span style=\"font-weight: bold\">)</span>,\n",
              "                    <span style=\"color: #808000; text-decoration-color: #808000\">type</span>=<span style=\"color: #008000; text-decoration-color: #008000\">'function'</span>\n",
              "                <span style=\"font-weight: bold\">)</span>\n",
              "            <span style=\"font-weight: bold\">]</span>\n",
              "        <span style=\"font-weight: bold\">)</span>,\n",
              "        <span style=\"color: #808000; text-decoration-color: #808000\">type</span>=<span style=\"color: #008000; text-decoration-color: #008000\">'submit_tool_outputs'</span>\n",
              "    <span style=\"font-weight: bold\">)</span>,\n",
              "    <span style=\"color: #808000; text-decoration-color: #808000\">started_at</span>=<span style=\"color: #008080; text-decoration-color: #008080; font-weight: bold\">1703584542</span>,\n",
              "    <span style=\"color: #808000; text-decoration-color: #808000\">status</span>=<span style=\"color: #008000; text-decoration-color: #008000\">'requires_action'</span>,\n",
              "    <span style=\"color: #808000; text-decoration-color: #808000\">thread_id</span>=<span style=\"color: #008000; text-decoration-color: #008000\">'thread_yWmunltK9QKaGB8gZjX2ISOw'</span>,\n",
              "    <span style=\"color: #808000; text-decoration-color: #808000\">tools</span>=<span style=\"font-weight: bold\">[</span>\n",
              "        <span style=\"color: #800080; text-decoration-color: #800080; font-weight: bold\">ToolAssistantToolsFunction</span><span style=\"font-weight: bold\">(</span>\n",
              "            <span style=\"color: #808000; text-decoration-color: #808000\">function</span>=<span style=\"color: #800080; text-decoration-color: #800080; font-weight: bold\">FunctionDefinition</span><span style=\"font-weight: bold\">(</span>\n",
              "                <span style=\"color: #808000; text-decoration-color: #808000\">name</span>=<span style=\"color: #008000; text-decoration-color: #008000\">'google_res'</span>,\n",
              "                <span style=\"color: #808000; text-decoration-color: #808000\">description</span>=<span style=\"color: #008000; text-decoration-color: #008000\">'如果問題為你不知道的事情需要網路搜尋, 才會使用這個搜尋函式, 使用繁體中文作回覆'</span>,\n",
              "                <span style=\"color: #808000; text-decoration-color: #808000\">parameters</span>=<span style=\"font-weight: bold\">{</span>\n",
              "                    <span style=\"color: #008000; text-decoration-color: #008000\">'type'</span>: <span style=\"color: #008000; text-decoration-color: #008000\">'object'</span>,\n",
              "                    <span style=\"color: #008000; text-decoration-color: #008000\">'properties'</span>: <span style=\"font-weight: bold\">{</span><span style=\"color: #008000; text-decoration-color: #008000\">'user_input'</span>: <span style=\"font-weight: bold\">{</span><span style=\"color: #008000; text-decoration-color: #008000\">'type'</span>: <span style=\"color: #008000; text-decoration-color: #008000\">'string'</span><span style=\"font-weight: bold\">}}</span>,\n",
              "                    <span style=\"color: #008000; text-decoration-color: #008000\">'required'</span>: <span style=\"font-weight: bold\">[</span><span style=\"color: #008000; text-decoration-color: #008000\">'user_input'</span><span style=\"font-weight: bold\">]</span>\n",
              "                <span style=\"font-weight: bold\">}</span>\n",
              "            <span style=\"font-weight: bold\">)</span>,\n",
              "            <span style=\"color: #808000; text-decoration-color: #808000\">type</span>=<span style=\"color: #008000; text-decoration-color: #008000\">'function'</span>\n",
              "        <span style=\"font-weight: bold\">)</span>\n",
              "    <span style=\"font-weight: bold\">]</span>\n",
              "<span style=\"font-weight: bold\">)</span>\n",
              "</pre>\n"
            ]
          },
          "metadata": {}
        }
      ]
    },
    {
      "cell_type": "code",
      "source": [
        "tool_calls = run.required_action.submit_tool_outputs.tool_calls\n",
        "pprint(tool_calls)"
      ],
      "metadata": {
        "colab": {
          "base_uri": "https://localhost:8080/",
          "height": 360
        },
        "id": "48qsoyMmrpXi",
        "outputId": "62e002ad-e0d2-4b25-819e-0b9bd7f813b1"
      },
      "execution_count": null,
      "outputs": [
        {
          "output_type": "display_data",
          "data": {
            "text/plain": [
              "\u001b[1m[\u001b[0m\n",
              "    \u001b[1;35mRequiredActionFunctionToolCall\u001b[0m\u001b[1m(\u001b[0m\n",
              "        \u001b[33mid\u001b[0m=\u001b[32m'call_cX5hqA8MtQ8yVLueBXfycVrd'\u001b[0m,\n",
              "        \u001b[33mfunction\u001b[0m=\u001b[1;35mFunction\u001b[0m\u001b[1m(\u001b[0m\n",
              "            \u001b[33marguments\u001b[0m=\u001b[32m'\u001b[0m\u001b[32m{\u001b[0m\u001b[32m\"user_input\":\"2023 \\\\n \\\\n \\\\n \\\\n \\\\n \\\\n \\\\n \\\\n \\\\n \\\\n \\\\n \\\\n \\\\n \\\\n \\\\n \\\\n \\\\n \\\\n \u001b[0m\n",
              "\u001b[32m\\\\n \\\\n \\\\n \\\\n \\\\n \\\\n \\\\n \\\\n \\\\n \\\\n \\\\n \\\\n \\\\n \\\\n \\\\n \\\\n \\\\n \\\\n \\\\n \\\\n \\\\n \\\\n \\\\n \\\\n \\\\n \\\\n \\\\n \\\\n \\\\n\u001b[0m\n",
              "\u001b[32m\\\\n \\\\n \\\\n \\\\n \\\\n \\\\n \\\\n \\\\n \\\\n \\\\n \\\\n \\\\n \\\\n \\\\n \\\\n \\\\n \\\\n \\\\n \\\\n \\\\n \\\\n \\\\n \\\\n \\\\n \\\\n \\\\n \\\\n \\\\n \\\\n\u001b[0m\n",
              "\u001b[32m\\\\n \\\\n \\\\n \\\\n \\\\n \\\\n \\\\n \\\\n \\\\n \\\\n \\\\n \\\\n \\\\n \\\\n \\\\n \\\\n \\\\n \\\\n \\\\n \\\\n \\\\n \\\\n \\\\n \\\\n \\\\n \\\\n \\\\n \\\\n \\\\n\u001b[0m\n",
              "\u001b[32m\\\\n \\\\n \\\\n \\\\n \\\\n \\\\n \\\\n \\\\n \\\\n \\\\n \\\\n \\\\n \\\\n \\\\n \\\\n \\\\n \\\\n \\\\n \\\\n \\\\n \\\\n \\\\n \\\\n \\\\n \\\\n \\\\n \\\\n \\\\n \\\\n\u001b[0m\n",
              "\u001b[32m\\\\n \\\\n \\\\n \\\\n \\\\n \\\\n \\\\n \\\\n \\\\n \\\\n \\\\n \\\\n \\\\n \\\\n \\\\n \\\\n \\\\n \\\\n \\\\n \\\\n \\\\n \\\\n \\\\n \\\\n \\\\n \\\\n \\\\n \\\\n \\\\n\u001b[0m\n",
              "\u001b[32m\\\\n \\\\n \\\\n \\\\n \\\\n \\\\n \\\\n \\\\n \\\\n \\\\n \\\\n \\\\n \\\\n \\\\n \\\\n \\\\n \\\\n \\\\n \\\\n \\\\n \\\\n \\\\n \\\\n \\\\n \\\\n \\\\n \\\\n \\\\n \\\\n\u001b[0m\n",
              "\u001b[32m\\\\n \\\\n \\\\n \\\\n \\\\n \\\\n \\\\n \\\\n \\\\n \\\\n \\\\n踴 \\\\n \\\\n \\\\n \\\\n \\\\n \\\\n \\\\n \\\\n \\\\n \\\\n \\\\n \\\\n \\\\n \\\\n \\\\n \\\\n \\\\n \u001b[0m\n",
              "\u001b[32m\\\\n \\\\n \\\\n \\\\n \\\\n \\\\n \\\\n \\\\n \\\\n 譯 \\\\n \\\\n \\\\n \\\\n \\\\n \\\\n \\\\n \\\\n \\\\n \\\\n \\\\n \\\\n \\\\n \\\\n \\\\n \\\\n \\\\n \\\\n \\\\n \u001b[0m\n",
              "\u001b[32m\\\\n \\\\n \\\\n \\\\n \\\\n \\\\n \\\\n \\\\n \\\\n \\\\n \\\\n \\\\n \\\\n \\\\n \\\\n \\\\n \\\\n \\\\n \\\\n \\\\n \\\\n \\\\n \\\\n \\\\n \\\\n \\\\n \\\\n \\\\n \\\\n\u001b[0m\n",
              "\u001b[32m\\\\n \\\\n 譯 \\\\n \\\\n \\\\n \\\\n \\\\n \\\\n \\\\n \\\\n \\\\n \\\\n \\\\n \\\\n \\\\n \\\\n \\\\n \\\\n \\\\n \\\\n \\\\n \\\\n \\\\n \\\\n \\\\n \\\\n \\\\n \\\\n \u001b[0m\n",
              "\u001b[32m\\\\n \\\\n \\\\n \\\\n 寅 \\\\n \\\\n \\\\n \\\\n \\\\n \\\\n \\\\n \\\\n \\\\n \\\\n \\\\n \\\\n \\\\n \\\\n \\\\n \\\\n \\\\n \\\\n \\\\n \\\\n獎男主角\"\u001b[0m\u001b[32m}\u001b[0m\u001b[32m'\u001b[0m,\n",
              "            \u001b[33mname\u001b[0m=\u001b[32m'google_res'\u001b[0m\n",
              "        \u001b[1m)\u001b[0m,\n",
              "        \u001b[33mtype\u001b[0m=\u001b[32m'function'\u001b[0m\n",
              "    \u001b[1m)\u001b[0m\n",
              "\u001b[1m]\u001b[0m\n"
            ],
            "text/html": [
              "<pre style=\"white-space:pre;overflow-x:auto;line-height:normal;font-family:Menlo,'DejaVu Sans Mono',consolas,'Courier New',monospace\"><span style=\"font-weight: bold\">[</span>\n",
              "    <span style=\"color: #800080; text-decoration-color: #800080; font-weight: bold\">RequiredActionFunctionToolCall</span><span style=\"font-weight: bold\">(</span>\n",
              "        <span style=\"color: #808000; text-decoration-color: #808000\">id</span>=<span style=\"color: #008000; text-decoration-color: #008000\">'call_cX5hqA8MtQ8yVLueBXfycVrd'</span>,\n",
              "        <span style=\"color: #808000; text-decoration-color: #808000\">function</span>=<span style=\"color: #800080; text-decoration-color: #800080; font-weight: bold\">Function</span><span style=\"font-weight: bold\">(</span>\n",
              "            <span style=\"color: #808000; text-decoration-color: #808000\">arguments</span>=<span style=\"color: #008000; text-decoration-color: #008000\">'{\"user_input\":\"2023 \\\\n \\\\n \\\\n \\\\n \\\\n \\\\n \\\\n \\\\n \\\\n \\\\n \\\\n \\\\n \\\\n \\\\n \\\\n \\\\n \\\\n \\\\n </span>\n",
              "<span style=\"color: #008000; text-decoration-color: #008000\">\\\\n \\\\n \\\\n \\\\n \\\\n \\\\n \\\\n \\\\n \\\\n \\\\n \\\\n \\\\n \\\\n \\\\n \\\\n \\\\n \\\\n \\\\n \\\\n \\\\n \\\\n \\\\n \\\\n \\\\n \\\\n \\\\n \\\\n \\\\n \\\\n</span>\n",
              "<span style=\"color: #008000; text-decoration-color: #008000\">\\\\n \\\\n \\\\n \\\\n \\\\n \\\\n \\\\n \\\\n \\\\n \\\\n \\\\n \\\\n \\\\n \\\\n \\\\n \\\\n \\\\n \\\\n \\\\n \\\\n \\\\n \\\\n \\\\n \\\\n \\\\n \\\\n \\\\n \\\\n \\\\n</span>\n",
              "<span style=\"color: #008000; text-decoration-color: #008000\">\\\\n \\\\n \\\\n \\\\n \\\\n \\\\n \\\\n \\\\n \\\\n \\\\n \\\\n \\\\n \\\\n \\\\n \\\\n \\\\n \\\\n \\\\n \\\\n \\\\n \\\\n \\\\n \\\\n \\\\n \\\\n \\\\n \\\\n \\\\n \\\\n</span>\n",
              "<span style=\"color: #008000; text-decoration-color: #008000\">\\\\n \\\\n \\\\n \\\\n \\\\n \\\\n \\\\n \\\\n \\\\n \\\\n \\\\n \\\\n \\\\n \\\\n \\\\n \\\\n \\\\n \\\\n \\\\n \\\\n \\\\n \\\\n \\\\n \\\\n \\\\n \\\\n \\\\n \\\\n \\\\n</span>\n",
              "<span style=\"color: #008000; text-decoration-color: #008000\">\\\\n \\\\n \\\\n \\\\n \\\\n \\\\n \\\\n \\\\n \\\\n \\\\n \\\\n \\\\n \\\\n \\\\n \\\\n \\\\n \\\\n \\\\n \\\\n \\\\n \\\\n \\\\n \\\\n \\\\n \\\\n \\\\n \\\\n \\\\n \\\\n</span>\n",
              "<span style=\"color: #008000; text-decoration-color: #008000\">\\\\n \\\\n \\\\n \\\\n \\\\n \\\\n \\\\n \\\\n \\\\n \\\\n \\\\n \\\\n \\\\n \\\\n \\\\n \\\\n \\\\n \\\\n \\\\n \\\\n \\\\n \\\\n \\\\n \\\\n \\\\n \\\\n \\\\n \\\\n \\\\n</span>\n",
              "<span style=\"color: #008000; text-decoration-color: #008000\">\\\\n \\\\n \\\\n \\\\n \\\\n \\\\n \\\\n \\\\n \\\\n \\\\n \\\\n踴 \\\\n \\\\n \\\\n \\\\n \\\\n \\\\n \\\\n \\\\n \\\\n \\\\n \\\\n \\\\n \\\\n \\\\n \\\\n \\\\n \\\\n </span>\n",
              "<span style=\"color: #008000; text-decoration-color: #008000\">\\\\n \\\\n \\\\n \\\\n \\\\n \\\\n \\\\n \\\\n \\\\n 譯 \\\\n \\\\n \\\\n \\\\n \\\\n \\\\n \\\\n \\\\n \\\\n \\\\n \\\\n \\\\n \\\\n \\\\n \\\\n \\\\n \\\\n \\\\n \\\\n </span>\n",
              "<span style=\"color: #008000; text-decoration-color: #008000\">\\\\n \\\\n \\\\n \\\\n \\\\n \\\\n \\\\n \\\\n \\\\n \\\\n \\\\n \\\\n \\\\n \\\\n \\\\n \\\\n \\\\n \\\\n \\\\n \\\\n \\\\n \\\\n \\\\n \\\\n \\\\n \\\\n \\\\n \\\\n \\\\n</span>\n",
              "<span style=\"color: #008000; text-decoration-color: #008000\">\\\\n \\\\n 譯 \\\\n \\\\n \\\\n \\\\n \\\\n \\\\n \\\\n \\\\n \\\\n \\\\n \\\\n \\\\n \\\\n \\\\n \\\\n \\\\n \\\\n \\\\n \\\\n \\\\n \\\\n \\\\n \\\\n \\\\n \\\\n \\\\n </span>\n",
              "<span style=\"color: #008000; text-decoration-color: #008000\">\\\\n \\\\n \\\\n \\\\n 寅 \\\\n \\\\n \\\\n \\\\n \\\\n \\\\n \\\\n \\\\n \\\\n \\\\n \\\\n \\\\n \\\\n \\\\n \\\\n \\\\n \\\\n \\\\n \\\\n \\\\n獎男主角\"}'</span>,\n",
              "            <span style=\"color: #808000; text-decoration-color: #808000\">name</span>=<span style=\"color: #008000; text-decoration-color: #008000\">'google_res'</span>\n",
              "        <span style=\"font-weight: bold\">)</span>,\n",
              "        <span style=\"color: #808000; text-decoration-color: #808000\">type</span>=<span style=\"color: #008000; text-decoration-color: #008000\">'function'</span>\n",
              "    <span style=\"font-weight: bold\">)</span>\n",
              "<span style=\"font-weight: bold\">]</span>\n",
              "</pre>\n"
            ]
          },
          "metadata": {}
        }
      ]
    },
    {
      "cell_type": "code",
      "source": [
        "import json\n",
        "# 函式識別碼、名稱和參數\n",
        "tool_id = tool_calls[0].id\n",
        "func_name = tool_calls[0].function.name\n",
        "func_args = json.loads(tool_calls[0].function.arguments)\n",
        "\n",
        "print(f'識別碼：{tool_id}\\n函式名稱：{func_name}\\n參數：{func_args}')\n",
        "\n",
        "# 將參數代入函式中\n",
        "output = google_res(**func_args)"
      ],
      "metadata": {
        "colab": {
          "base_uri": "https://localhost:8080/"
        },
        "id": "zjTfjHodTJRa",
        "outputId": "54a9cf39-4691-49e4-d039-bbcc2e9e87bb"
      },
      "execution_count": null,
      "outputs": [
        {
          "output_type": "stream",
          "name": "stdout",
          "text": [
            "識別碼：call_cX5hqA8MtQ8yVLueBXfycVrd\n",
            "函式名稱：google_res\n",
            "參數：{'user_input': '2023 \\n \\n \\n \\n \\n \\n \\n \\n \\n \\n \\n \\n \\n \\n \\n \\n \\n \\n \\n \\n \\n \\n \\n \\n \\n \\n \\n \\n \\n \\n \\n \\n \\n \\n \\n \\n \\n \\n \\n \\n \\n \\n \\n \\n \\n \\n \\n \\n \\n \\n \\n \\n \\n \\n \\n \\n \\n \\n \\n \\n \\n \\n \\n \\n \\n \\n \\n \\n \\n \\n \\n \\n \\n \\n \\n \\n \\n \\n \\n \\n \\n \\n \\n \\n \\n \\n \\n \\n \\n \\n \\n \\n \\n \\n \\n \\n \\n \\n \\n \\n \\n \\n \\n \\n \\n \\n \\n \\n \\n \\n \\n \\n \\n \\n \\n \\n \\n \\n \\n \\n \\n \\n \\n \\n \\n \\n \\n \\n \\n \\n \\n \\n \\n \\n \\n \\n \\n \\n \\n \\n \\n \\n \\n \\n \\n \\n \\n \\n \\n \\n \\n \\n \\n \\n \\n \\n \\n \\n \\n \\n \\n \\n \\n \\n \\n \\n \\n \\n \\n \\n \\n \\n \\n \\n \\n \\n \\n \\n \\n \\n \\n \\n \\n \\n \\n \\n \\n \\n \\n \\n \\n \\n \\n \\n \\n \\n \\n \\n \\n \\n \\n \\n \\n踴 \\n \\n \\n \\n \\n \\n \\n \\n \\n \\n \\n \\n \\n \\n \\n \\n \\n \\n \\n \\n \\n \\n \\n \\n \\n \\n 譯 \\n \\n \\n \\n \\n \\n \\n \\n \\n \\n \\n \\n \\n \\n \\n \\n \\n \\n \\n \\n \\n \\n \\n \\n \\n \\n \\n \\n \\n \\n \\n \\n \\n \\n \\n \\n \\n \\n \\n \\n \\n \\n \\n \\n \\n \\n \\n \\n \\n \\n 譯 \\n \\n \\n \\n \\n \\n \\n \\n \\n \\n \\n \\n \\n \\n \\n \\n \\n \\n \\n \\n \\n \\n \\n \\n \\n \\n \\n \\n \\n \\n 寅 \\n \\n \\n \\n \\n \\n \\n \\n \\n \\n \\n \\n \\n \\n \\n \\n \\n \\n \\n \\n獎男主角'}\n"
          ]
        }
      ]
    },
    {
      "cell_type": "code",
      "source": [
        "run = client.beta.threads.runs.submit_tool_outputs(\n",
        "  thread_id=thread_id,\n",
        "  run_id=run.id,\n",
        "  tool_outputs=[\n",
        "      {\n",
        "        \"tool_call_id\": tool_id,\n",
        "        \"output\": output,\n",
        "      }\n",
        "    ]\n",
        ")\n",
        "run = wait_on_run(run)\n",
        "output_text(thread_id, message)"
      ],
      "metadata": {
        "id": "JYHrvgbMnBpR",
        "colab": {
          "base_uri": "https://localhost:8080/",
          "height": 46
        },
        "outputId": "f098f08d-6501-4c57-b0bc-6a8d383b4155"
      },
      "execution_count": null,
      "outputs": [
        {
          "output_type": "display_data",
          "data": {
            "text/plain": [
              "<IPython.core.display.Markdown object>"
            ],
            "text/markdown": "很抱歉，我無法找到具體的資料來確認誰是2023年金鐘獎的男主角。建議您可以查看官方公告或娛樂新聞以獲得最準確的信息。"
          },
          "metadata": {}
        }
      ]
    },
    {
      "cell_type": "code",
      "source": [
        "def tool_outputs(tool_calls):\n",
        "    outputs = []\n",
        "    for tool in tool_calls:\n",
        "        func_name = tool.function.name\n",
        "        func_args = json.loads(tool.function.arguments)\n",
        "        print(f'{func_name}({func_args})')\n",
        "        reponse = google_res(**func_args)\n",
        "        outputs.append({\n",
        "            'tool_call_id': tool.id,\n",
        "            'output': reponse\n",
        "        })\n",
        "    return outputs"
      ],
      "metadata": {
        "id": "x79_uUwB2Hkg"
      },
      "execution_count": null,
      "outputs": []
    },
    {
      "cell_type": "markdown",
      "source": [
        "亞洲空汙最嚴重的地區是?那台灣呢?\n",
        "\n",
        "2023年台灣金馬獎影帝和金曲獎歌王分別是?"
      ],
      "metadata": {
        "id": "Bk6CDHCE9bwt"
      }
    },
    {
      "cell_type": "code",
      "source": [
        "while True:\n",
        "    question = input('請輸入要求：')\n",
        "    if not question.strip():\n",
        "        break\n",
        "    message, run = input_and_run(question, thread_id, assistant_id)\n",
        "\n",
        "    run = wait_on_run(run)\n",
        "\n",
        "    if run.status == 'requires_action':\n",
        "        pprint('搜尋中...')\n",
        "        tool_calls = run.required_action.submit_tool_outputs.tool_calls\n",
        "        outputs = tool_outputs(tool_calls)\n",
        "        run = client.beta.threads.runs.submit_tool_outputs(\n",
        "            thread_id=thread_id,\n",
        "            run_id=run.id,\n",
        "            tool_outputs=outputs\n",
        "            )\n",
        "        run = wait_on_run(run)\n",
        "        output_text(thread_id, message)\n",
        "    else:\n",
        "        output_text(thread_id, message)"
      ],
      "metadata": {
        "id": "Ukz82hm3Aj0i",
        "colab": {
          "base_uri": "https://localhost:8080/",
          "height": 280
        },
        "outputId": "62499dff-05b0-4f9f-e57d-d3b6cfc08f20"
      },
      "execution_count": null,
      "outputs": [
        {
          "name": "stdout",
          "output_type": "stream",
          "text": [
            "請輸入要求：亞洲空汙最嚴重的地區是?那台灣呢?\n"
          ]
        },
        {
          "output_type": "display_data",
          "data": {
            "text/plain": [
              "搜尋中\u001b[33m...\u001b[0m\n"
            ],
            "text/html": [
              "<pre style=\"white-space:pre;overflow-x:auto;line-height:normal;font-family:Menlo,'DejaVu Sans Mono',consolas,'Courier New',monospace\">搜尋中<span style=\"color: #808000; text-decoration-color: #808000\">...</span>\n",
              "</pre>\n"
            ]
          },
          "metadata": {}
        },
        {
          "output_type": "stream",
          "name": "stdout",
          "text": [
            "google_res({'user_input': '亞洲空汙最嚴重的地區是'})\n",
            "google_res({'user_input': '台灣空汙情況'})\n"
          ]
        },
        {
          "output_type": "display_data",
          "data": {
            "text/plain": [
              "<IPython.core.display.Markdown object>"
            ],
            "text/markdown": "亞洲空汙最嚴重的地區包括印度、中國、巴基斯坦、伊拉克等地，其中印度包括了八個城市在亞洲空氣污染排名中佔據前十名。\n\n而台灣的空氣污染情況可以通過Air Quality Index (AQI)等數據來評估，根據最近的報告，台灣的PM2.5平均值為13.4 μg/m³，優於前一年的16.2 μg/m³，顯示了空氣品質的改善。"
          },
          "metadata": {}
        },
        {
          "name": "stdout",
          "output_type": "stream",
          "text": [
            "請輸入要求：2023年台灣金馬獎影帝和金曲獎歌王分別是?\n"
          ]
        },
        {
          "output_type": "display_data",
          "data": {
            "text/plain": [
              "搜尋中\u001b[33m...\u001b[0m\n"
            ],
            "text/html": [
              "<pre style=\"white-space:pre;overflow-x:auto;line-height:normal;font-family:Menlo,'DejaVu Sans Mono',consolas,'Courier New',monospace\">搜尋中<span style=\"color: #808000; text-decoration-color: #808000\">...</span>\n",
              "</pre>\n"
            ]
          },
          "metadata": {}
        },
        {
          "output_type": "stream",
          "name": "stdout",
          "text": [
            "google_res({'user_input': '2023年台灣金馬獎影帝是'})\n",
            "google_res({'user_input': '2023年台灣金曲獎歌王是'})\n"
          ]
        },
        {
          "output_type": "display_data",
          "data": {
            "text/plain": [
              "<IPython.core.display.Markdown object>"
            ],
            "text/markdown": "2023年台灣金馬獎影帝是吳慷仁，而金曲獎歌王則是由A-Lin榮獲。"
          },
          "metadata": {}
        },
        {
          "name": "stdout",
          "output_type": "stream",
          "text": [
            "請輸入要求：\n"
          ]
        }
      ]
    }
  ]
}