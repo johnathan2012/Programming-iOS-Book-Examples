{
  "nbformat": 4,
  "nbformat_minor": 0,
  "metadata": {
    "colab": {
      "provenance": [],
      "include_colab_link": true
    },
    "kernelspec": {
      "name": "python3",
      "display_name": "Python 3"
    },
    "language_info": {
      "name": "python"
    }
  },
  "cells": [
    {
      "cell_type": "markdown",
      "metadata": {
        "id": "view-in-github",
        "colab_type": "text"
      },
      "source": [
        "<a href=\"https://colab.research.google.com/github/johnathan2012/Programming-iOS-Book-Examples/blob/master/GPT4Dev_ch10.ipynb\" target=\"_parent\"><img src=\"https://colab.research.google.com/assets/colab-badge.svg\" alt=\"Open In Colab\"/></a>"
      ]
    },
    {
      "cell_type": "markdown",
      "source": [
        "# 10 設計 LINE AI 聊天機器人"
      ],
      "metadata": {
        "id": "8BzuhxrU4s3w"
      }
    },
    {
      "cell_type": "markdown",
      "source": [
        "## 10-3 OpenAI 變化圖像的功能"
      ],
      "metadata": {
        "id": "qYYVKyOK45e4"
      }
    },
    {
      "cell_type": "code",
      "execution_count": null,
      "metadata": {
        "id": "YueJ-b0UhVAt"
      },
      "outputs": [],
      "source": [
        "!pip install rembg\n",
        "!pip install gradio\n",
        "\n",
        "from rembg import remove        # 匯入移除背景的函式\n",
        "from PIL import Image           # 匯入 pillow 影像操作模組\n",
        "import gradio as gr\n",
        "\n",
        "def remove_bg(img, x_off, y_off, scale):\n",
        "    x = int(x_off * img.width / 100)  # 計算橫向位移像數\n",
        "    y = int(y_off * img.height / 100) # 計算縱向位移像數\n",
        "    width = img.width - x             # 計算實際寬度\n",
        "    height = img.height - y           # 計算實際高度\n",
        "    size = min(width, height)         # 取寬高較短者\n",
        "    img = img.crop((x, y, x + size, y + size)) # 切割正方形區域\n",
        "    if scale < 100:\n",
        "        size = int(size * scale / 100)# 依照指定比例縮放\n",
        "        img = img.resize((size, size))\n",
        "    img_nb = remove(img)              # 移除背景\n",
        "    img.save('img.png')               # 儲存影像檔\n",
        "    img_nb.save('img_nb.png')         # 儲存去背影像檔\n",
        "    return (img, img_nb)\n",
        "\n",
        "no_bg_if = gr.Interface(\n",
        "    fn=remove_bg,\n",
        "    inputs=[\n",
        "        gr.Image(label='輸入影像', type='pil'),\n",
        "        gr.Slider(label='橫向切割位移百分比'),\n",
        "        gr.Slider(label='縱向切割位移百分比'),\n",
        "        gr.Slider(label='縮放比例', value=100, step=5)],\n",
        "    outputs=[gr.Gallery(label='處理後影像')]\n",
        ")\n",
        "\n",
        "no_bg_if.launch()"
      ]
    },
    {
      "cell_type": "markdown",
      "source": [
        "## 10-4 可控制變化內容的 create_edit 函式"
      ],
      "metadata": {
        "id": "oa-jJHCr56jm"
      }
    },
    {
      "cell_type": "code",
      "source": [
        "!pip install openai\n",
        "from PIL import Image\n",
        "from io import BytesIO\n",
        "import requests\n",
        "from google.colab import userdata\n",
        "\n",
        "from openai import OpenAI\n",
        "client = OpenAI(api_key=userdata.get('OPENAI_API_KEY'))"
      ],
      "metadata": {
        "id": "cFbuFWZcy7qR"
      },
      "execution_count": null,
      "outputs": []
    },
    {
      "cell_type": "code",
      "source": [
        "res = client.images.edit(\n",
        "    image=open(\"image_nb.png\", \"rb\"),\n",
        "    prompt='冬日下大雪的路上',\n",
        "    n=1,\n",
        "    size=\"1024x1024\"\n",
        ")"
      ],
      "metadata": {
        "id": "UODwhItOzVex"
      },
      "execution_count": null,
      "outputs": []
    },
    {
      "cell_type": "code",
      "source": [
        "content = requests.get(res.data[0].url).content\n",
        "img = Image.open(BytesIO(content))\n",
        "from matplotlib import pyplot as plt\n",
        "plt.axis(\"off\")\n",
        "plt.imshow(img)"
      ],
      "metadata": {
        "id": "HK4Tn7eB0Stj"
      },
      "execution_count": null,
      "outputs": []
    }
  ]
}