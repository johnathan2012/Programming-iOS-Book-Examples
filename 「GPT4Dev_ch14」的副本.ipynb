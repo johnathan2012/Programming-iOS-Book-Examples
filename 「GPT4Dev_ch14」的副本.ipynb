{
  "cells": [
    {
      "cell_type": "markdown",
      "metadata": {
        "id": "view-in-github",
        "colab_type": "text"
      },
      "source": [
        "<a href=\"https://colab.research.google.com/github/johnathan2012/Programming-iOS-Book-Examples/blob/master/%E3%80%8CGPT4Dev_ch14%E3%80%8D%E7%9A%84%E5%89%AF%E6%9C%AC.ipynb\" target=\"_parent\"><img src=\"https://colab.research.google.com/assets/colab-badge.svg\" alt=\"Open In Colab\"/></a>"
      ]
    },
    {
      "cell_type": "markdown",
      "source": [
        "# 14 GPTs Action 開發"
      ],
      "metadata": {
        "id": "_iXaZWIv8-ck"
      }
    },
    {
      "cell_type": "markdown",
      "source": [
        "## 14-2 使用TDX平台查詢台鐵資訊"
      ],
      "metadata": {
        "id": "5_wzaoZd8-Do"
      }
    },
    {
      "cell_type": "markdown",
      "source": [
        "### 查詢所有車站基本資料"
      ],
      "metadata": {
        "id": "lyad3p_ieDNp"
      }
    },
    {
      "cell_type": "code",
      "execution_count": null,
      "metadata": {
        "id": "6cHx3KFGYSa7"
      },
      "outputs": [],
      "source": [
        "!pip install rich\n",
        "from rich import print as pprint\n",
        "import requests"
      ]
    },
    {
      "cell_type": "code",
      "execution_count": null,
      "metadata": {
        "id": "IEk2YBNJZb4t"
      },
      "outputs": [],
      "source": [
        "headers = {'user-agent':'Mozilla/5.0'}\n",
        "api_base_url = (\n",
        "    'https://tdx.transportdata.tw/api/basic/v3/'\n",
        "    'Rail/TRA/'\n",
        ")"
      ]
    },
    {
      "cell_type": "code",
      "execution_count": null,
      "metadata": {
        "id": "7q-sU2qpYq8e"
      },
      "outputs": [],
      "source": [
        "res = stations = requests.get(\n",
        "    f\"{api_base_url}Station\",\n",
        "    headers=headers,\n",
        ")\n",
        "print(res.status_code)"
      ]
    },
    {
      "cell_type": "code",
      "execution_count": null,
      "metadata": {
        "id": "WZ9HqzWhY5e9"
      },
      "outputs": [],
      "source": [
        "json_data = res.json()"
      ]
    },
    {
      "cell_type": "code",
      "execution_count": null,
      "metadata": {
        "id": "LkL5qno1ZCwr"
      },
      "outputs": [],
      "source": [
        "pprint(json_data)"
      ]
    },
    {
      "cell_type": "code",
      "execution_count": null,
      "metadata": {
        "id": "mZf1_mfeZ8d7"
      },
      "outputs": [],
      "source": [
        "res = requests.get(\n",
        "    f\"{api_base_url}Station\"\n",
        "    \"?$select=stationName,stationID\",\n",
        "    headers=headers,\n",
        ")\n",
        "print(res.status_code)"
      ]
    },
    {
      "cell_type": "code",
      "execution_count": null,
      "metadata": {
        "id": "OVCyGww-a77p"
      },
      "outputs": [],
      "source": [
        "json_data = res.json()\n",
        "stations = {}\n",
        "for station in json_data['Stations']:\n",
        "    station_name = station['StationName']['Zh_tw']\n",
        "    station_id = station['StationID']\n",
        "    stations[station_name] = station_id\n",
        "pprint(stations)"
      ]
    },
    {
      "cell_type": "markdown",
      "source": [
        "### 指定起迄站代號查詢時刻表"
      ],
      "metadata": {
        "id": "q-y5M5nIeKS-"
      }
    },
    {
      "cell_type": "code",
      "execution_count": null,
      "metadata": {
        "id": "JxWta5TBfJXa"
      },
      "outputs": [],
      "source": [
        "import time\n",
        "now = time.localtime()\n",
        "date = f\"{now.tm_year}-{now.tm_mon:02d}-{now.tm_mday:02d}\"\n",
        "print(date)"
      ]
    },
    {
      "cell_type": "code",
      "execution_count": null,
      "metadata": {
        "id": "rAqrrbN-dJ03"
      },
      "outputs": [],
      "source": [
        "start_station = '2240'  # 龍井站代號\n",
        "end_station = '2250'    # 大肚站代號\n",
        "res = stations = requests.get(\n",
        "    f\"{api_base_url}DailyTrainTimetable/OD/\"\n",
        "    f\"{start_station}\"\n",
        "    \"/to/\"\n",
        "    f\"{end_station}\"\n",
        "    \"/\"\n",
        "    f\"{date}\",\n",
        "    headers=headers,\n",
        ")\n",
        "print(res.status_code)"
      ]
    },
    {
      "cell_type": "code",
      "execution_count": null,
      "metadata": {
        "id": "cj-uul3cm6Eb"
      },
      "outputs": [],
      "source": [
        "json_data = res.json()\n",
        "pprint(json_data)"
      ]
    },
    {
      "cell_type": "code",
      "execution_count": null,
      "metadata": {
        "id": "sqLmfC8LkI0M"
      },
      "outputs": [],
      "source": [
        "timetables = []\n",
        "for timetable in json_data['TrainTimetables']:\n",
        "    train_no = timetable['TrainInfo']['TrainNo']\n",
        "    stop_times = timetable['StopTimes']\n",
        "    start_station = stop_times[0]['StationName']['Zh_tw']\n",
        "    departure_Time = stop_times[0]['DepartureTime']\n",
        "    end_station = stop_times[1]['StationName']['Zh_tw']\n",
        "    arrive_Time = stop_times[1]['ArrivalTime']\n",
        "    timetables.append({\n",
        "        'train_no': train_no,\n",
        "        'start_station': start_station,\n",
        "        'departure_Time': departure_Time,\n",
        "        'end_station': end_station,\n",
        "        'arrive_Time': arrive_Time\n",
        "    })\n",
        "pprint(timetables[0])"
      ]
    },
    {
      "cell_type": "markdown",
      "source": [
        "### 以驗證身分方式使用 API\n"
      ],
      "metadata": {
        "id": "JnosZbEeeZtk"
      }
    },
    {
      "cell_type": "code",
      "execution_count": null,
      "metadata": {
        "id": "6hMNNoqNn0Uc"
      },
      "outputs": [],
      "source": [
        "!git clone https://github.com/FlagTech/tdx.git"
      ]
    },
    {
      "cell_type": "code",
      "execution_count": null,
      "metadata": {
        "id": "cGMqP2Oeqe6D"
      },
      "outputs": [],
      "source": [
        "from google.colab import userdata\n",
        "from tdx import TDX\n",
        "tdx_client = TDX(\n",
        "    userdata.get('TDX_ID'),\n",
        "    userdata.get('TDX_SECRET')\n",
        ")"
      ]
    },
    {
      "cell_type": "code",
      "execution_count": null,
      "metadata": {
        "id": "4pJFMvSCtMhz"
      },
      "outputs": [],
      "source": [
        "json_data = tdx_client.get_json(\n",
        "    f\"{api_base_url}Station\"\n",
        "    \"?$select=stationName,stationID\",\n",
        ")"
      ]
    },
    {
      "cell_type": "code",
      "execution_count": null,
      "metadata": {
        "id": "HGsxSGMrvua5"
      },
      "outputs": [],
      "source": [
        "stations = {}\n",
        "for station in json_data['Stations']:\n",
        "    station_name = station['StationName']['Zh_tw']\n",
        "    station_id = station['StationID']\n",
        "    stations[station_name] = station_id\n",
        "pprint(stations)"
      ]
    },
    {
      "cell_type": "code",
      "execution_count": null,
      "metadata": {
        "id": "zcH4bFW1v9ic"
      },
      "outputs": [],
      "source": [
        "start_station = '1000'\n",
        "end_station = '2170'\n",
        "json_data = tdx_client.get_json(\n",
        "    f\"{api_base_url}DailyTrainTimetable/OD/\"\n",
        "    f\"{start_station}\"\n",
        "    \"/to/\"\n",
        "    f\"{end_station}\"\n",
        "    \"/\"\n",
        "    f\"{date}\"\n",
        ")"
      ]
    },
    {
      "cell_type": "code",
      "execution_count": null,
      "metadata": {
        "id": "mPehBG_OwZTv"
      },
      "outputs": [],
      "source": [
        "timetables = []\n",
        "for timetable in json_data['TrainTimetables']:\n",
        "    train_no = timetable['TrainInfo']['TrainNo']\n",
        "    stop_times = timetable['StopTimes']\n",
        "    start_station = stop_times[0]['StationName']['Zh_tw']\n",
        "    departure_Time = stop_times[0]['DepartureTime']\n",
        "    end_station = stop_times[1]['StationName']['Zh_tw']\n",
        "    arrive_Time = stop_times[1]['ArrivalTime']\n",
        "    timetables.append({\n",
        "        'train_no': train_no,\n",
        "        'start_station': start_station,\n",
        "        'departure_Time': departure_Time,\n",
        "        'end_station': end_station,\n",
        "        'arrive_Time': arrive_Time\n",
        "    })\n",
        "\n",
        "for train in timetables:\n",
        "    pprint(train)"
      ]
    },
    {
      "cell_type": "code",
      "execution_count": null,
      "metadata": {
        "id": "XD-Odh42mT7G"
      },
      "outputs": [],
      "source": [
        "timetables = sorted(\n",
        "    timetables,\n",
        "    key=lambda timetable:timetable['departure_Time']\n",
        ")\n",
        "\n",
        "for train in timetables:\n",
        "    pprint(train)"
      ]
    }
  ],
  "metadata": {
    "colab": {
      "provenance": [],
      "toc_visible": true,
      "include_colab_link": true
    },
    "kernelspec": {
      "display_name": "Python 3",
      "name": "python3"
    },
    "language_info": {
      "name": "python"
    }
  },
  "nbformat": 4,
  "nbformat_minor": 0
}