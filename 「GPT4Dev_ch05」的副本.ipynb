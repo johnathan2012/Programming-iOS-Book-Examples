{
  "nbformat": 4,
  "nbformat_minor": 0,
  "metadata": {
    "colab": {
      "provenance": [],
      "toc_visible": true,
      "include_colab_link": true
    },
    "kernelspec": {
      "name": "python3",
      "display_name": "Python 3"
    },
    "language_info": {
      "name": "python"
    }
  },
  "cells": [
    {
      "cell_type": "markdown",
      "metadata": {
        "id": "view-in-github",
        "colab_type": "text"
      },
      "source": [
        "<a href=\"https://colab.research.google.com/github/johnathan2012/Programming-iOS-Book-Examples/blob/master/%E3%80%8CGPT4Dev_ch05%E3%80%8D%E7%9A%84%E5%89%AF%E6%9C%AC.ipynb\" target=\"_parent\"><img src=\"https://colab.research.google.com/assets/colab-badge.svg\" alt=\"Open In Colab\"/></a>"
      ]
    },
    {
      "cell_type": "markdown",
      "source": [
        "# 5 突破時空限制–整合搜尋功能"
      ],
      "metadata": {
        "id": "eNYngg3YPEp5"
      }
    },
    {
      "cell_type": "markdown",
      "source": [
        "**準備工作**\n",
        "\n",
        "安裝必要的套件與匯入相關模組後建立用戶端物件"
      ],
      "metadata": {
        "id": "ccVUpuXM9dRz"
      }
    },
    {
      "cell_type": "code",
      "source": [
        "!pip install openai\n",
        "!pip install rich\n",
        "import openai\n",
        "from google.colab import userdata\n",
        "from rich import print as pprint\n",
        "client = openai.OpenAI(api_key=userdata.get('OPENAI_API_KEY'))"
      ],
      "metadata": {
        "id": "R1CAsaxl9_v4"
      },
      "execution_count": null,
      "outputs": []
    },
    {
      "cell_type": "markdown",
      "source": [
        "## 5-1 用搜尋網頁幫 AI 補充知識"
      ],
      "metadata": {
        "id": "3O-zz4SSzPoF"
      }
    },
    {
      "cell_type": "markdown",
      "source": [
        "### 使用 Google 搜尋"
      ],
      "metadata": {
        "id": "f814Yd_fRBA0"
      }
    },
    {
      "cell_type": "code",
      "source": [
        "!pip install googlesearch-python"
      ],
      "metadata": {
        "id": "AtHx23DvU-T5"
      },
      "execution_count": null,
      "outputs": []
    },
    {
      "cell_type": "code",
      "source": [
        "from googlesearch import search"
      ],
      "metadata": {
        "id": "Oj6I-4g6Vw7K"
      },
      "execution_count": null,
      "outputs": []
    },
    {
      "cell_type": "code",
      "source": [
        "for item in search(\"2023 金馬獎影后\"):\n",
        "    print(item)"
      ],
      "metadata": {
        "id": "I2IzKRzZWVjc"
      },
      "execution_count": null,
      "outputs": []
    },
    {
      "cell_type": "markdown",
      "source": [
        "使用進階搜尋選項"
      ],
      "metadata": {
        "id": "xtPAfyxARHBn"
      }
    },
    {
      "cell_type": "code",
      "source": [
        "for item in search(\n",
        "    \"2023 金馬獎影后\", advanced=True, num_results=3):\n",
        "    print(item.title)\n",
        "    print(item.description)\n",
        "    print(item.url)\n",
        "    print()"
      ],
      "metadata": {
        "id": "KMx3LddFXEHc"
      },
      "execution_count": null,
      "outputs": []
    },
    {
      "cell_type": "markdown",
      "source": [
        "## 5-2 整合搜尋結果讓 AI 跟上時代"
      ],
      "metadata": {
        "id": "zjc6Vdv9zmSF"
      }
    },
    {
      "cell_type": "markdown",
      "source": [
        "加入網頁搜尋的聊天程式"
      ],
      "metadata": {
        "id": "G2Ge034UfYDd"
      }
    },
    {
      "cell_type": "code",
      "source": [
        "def get_reply_s(messages):\n",
        "    try:\n",
        "        response = client.chat.completions.create(\n",
        "            model = \"gpt-4-1106-preview\",\n",
        "            messages = messages,\n",
        "            stream = True\n",
        "        )\n",
        "        for chunk in response:\n",
        "            yield chunk.choices[0].delta.content or ''\n",
        "    except openai.APIError as err:\n",
        "        reply = f\"發生錯誤\\n{err.error.message}\""
      ],
      "metadata": {
        "id": "bpHqQNiMfemv"
      },
      "execution_count": null,
      "outputs": []
    },
    {
      "cell_type": "code",
      "source": [
        "hist = []       # 歷史對話紀錄\n",
        "backtrace = 2   # 記錄幾組對話\n",
        "\n",
        "def chat_w(sys_msg, user_msg):\n",
        "    global hist\n",
        "    web_res = []\n",
        "    if user_msg[:3].lower() == '/w ': # /w 代表要搜尋網路\n",
        "        user_msg = user_msg[3:]       # 移除指令留下實際的訊息\n",
        "        content = \"以下為已發生的事實：\\n\"\n",
        "        for res in search(user_msg, advanced=True,\n",
        "                          num_results=5, lang='zh-TW'):\n",
        "            content += f\"標題：{res.title}\\n\" \\\n",
        "                       f\"摘要：{res.description}\\n\\n\"\n",
        "        content += \"請依照上述事實回答以下問題：\\n\"\n",
        "        web_res = [{\"role\": \"user\", \"content\": content}]\n",
        "    web_res.append({\"role\": \"user\", \"content\": user_msg})\n",
        "    reply_full = \"\"\n",
        "    for reply in get_reply_s(         # 使用串流版的函式\n",
        "        hist                          # 先提供歷史紀錄\n",
        "        + web_res                     # 再提供搜尋結果及目前訊息\n",
        "        + [{\"role\": \"system\", \"content\": sys_msg}]):\n",
        "        reply_full += reply           # 記錄到目前為止收到的訊息\n",
        "        yield reply                   # 傳回本次收到的片段訊息\n",
        "    hist.append({\"role\": \"user\", \"content\": user_msg})\n",
        "    hist.append({\"role\":\"assistant\", \"content\":reply_full})\n",
        "    hist = hist[-2 * backtrace:]      # 保留最新對話"
      ],
      "metadata": {
        "id": "1UIcjOjqgffE"
      },
      "execution_count": null,
      "outputs": []
    },
    {
      "cell_type": "code",
      "source": [
        "sys_msg = input(\"你希望ㄟ唉扮演：\")\n",
        "if not sys_msg.strip(): sys_msg = '使用繁體中文的小助理'\n",
        "print()\n",
        "while True:\n",
        "    msg = input(\"你說：\")\n",
        "    if not msg.strip(): break\n",
        "    print(f\"{sys_msg}：\", end = \"\")\n",
        "    for reply in chat_w(sys_msg, msg):\n",
        "        print(reply, end = \"\")\n",
        "    print('\\n')\n",
        "hist = []"
      ],
      "metadata": {
        "id": "21fxgL_qg7r-"
      },
      "execution_count": null,
      "outputs": []
    },
    {
      "cell_type": "markdown",
      "source": [
        "## 5-3 使用 Google Search JSON API"
      ],
      "metadata": {
        "id": "uyyr2BH5z1hT"
      }
    },
    {
      "cell_type": "markdown",
      "source": [
        "### 使用 HTTP API 取得搜尋結果"
      ],
      "metadata": {
        "id": "7ItbggrERmJD"
      }
    },
    {
      "cell_type": "code",
      "source": [
        "import requests"
      ],
      "metadata": {
        "id": "KdvaiFxmE80a"
      },
      "execution_count": null,
      "outputs": []
    },
    {
      "cell_type": "code",
      "source": [
        "r = requests.get(\n",
        "    'https://www.googleapis.com/customsearch/v1?' \\\n",
        "    'key={}&' \\\n",
        "    'cx={}&' \\\n",
        "    'num={}&' \\\n",
        "    'q={}'.format(\n",
        "        '你的 Google API 金鑰',\n",
        "        '你的搜尋引擎 ID',\n",
        "        2,\n",
        "        '2023 金馬獎影后是誰？'\n",
        "    )\n",
        ")"
      ],
      "metadata": {
        "id": "JsvHn7iTFAk4"
      },
      "execution_count": null,
      "outputs": []
    },
    {
      "cell_type": "code",
      "source": [
        "pprint(r.json())"
      ],
      "metadata": {
        "id": "WAn52xf6r79l"
      },
      "execution_count": null,
      "outputs": []
    },
    {
      "cell_type": "code",
      "source": [
        "for item in r.json()['items']:\n",
        "    print(item['title'])\n",
        "    print(item['snippet'])\n",
        "    print(item['link'])\n",
        "    print()"
      ],
      "metadata": {
        "id": "hJGAftvPsned"
      },
      "execution_count": null,
      "outputs": []
    },
    {
      "cell_type": "markdown",
      "source": [
        "### 使用客製模組"
      ],
      "metadata": {
        "id": "GcsCqK-ERtTb"
      }
    },
    {
      "cell_type": "code",
      "source": [
        "!git clone https://github.com/codemee/customsearchapi.git \\\n",
        "customsearchapi"
      ],
      "metadata": {
        "id": "vtOV_E5P3Wbe"
      },
      "execution_count": null,
      "outputs": []
    },
    {
      "cell_type": "code",
      "source": [
        "# 預設會在匯入時從環境變數 GOOGLE_API_KEY 與 GOOGLE_CSE_ID\n",
        "# 讀取你的 Google API 金鑰與搜尋引擎 ID,\n",
        "# 如果沒有設定, 也可以直接透過模組內的變數設定：\n",
        "import customsearchapi\n",
        "customsearchapi.GOOGLE_API_KEY = userdata.get('GOOGLE_API_KEY')\n",
        "customsearchapi.GOOGLE_CSE_ID = userdata.get('GOOGLE_CSE_ID')"
      ],
      "metadata": {
        "id": "11hDo8Q7H15A"
      },
      "execution_count": null,
      "outputs": []
    },
    {
      "cell_type": "code",
      "source": [
        "from customsearchapi import search"
      ],
      "metadata": {
        "id": "_liR9utq3dvS"
      },
      "execution_count": null,
      "outputs": []
    },
    {
      "cell_type": "code",
      "source": [
        "for item in search(\"2023 金馬獎影后是誰？\",\n",
        "                   advanced=True,\n",
        "                   num_results=3,\n",
        "                   lang='lang_zh-TW'\n",
        "                   ):\n",
        "    print(item.url)\n",
        "    print(item.title)\n",
        "    print(item.description)\n",
        "    print()"
      ],
      "metadata": {
        "id": "8Ha1xFSm4VhA"
      },
      "execution_count": null,
      "outputs": []
    }
  ]
}