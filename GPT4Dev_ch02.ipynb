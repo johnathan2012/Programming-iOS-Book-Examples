{
  "nbformat": 4,
  "nbformat_minor": 0,
  "metadata": {
    "colab": {
      "provenance": [],
      "toc_visible": true,
      "include_colab_link": true
    },
    "kernelspec": {
      "name": "python3",
      "display_name": "Python 3"
    },
    "language_info": {
      "name": "python"
    }
  },
  "cells": [
    {
      "cell_type": "markdown",
      "metadata": {
        "id": "view-in-github",
        "colab_type": "text"
      },
      "source": [
        "<a href=\"https://colab.research.google.com/github/johnathan2012/Programming-iOS-Book-Examples/blob/master/GPT4Dev_ch02.ipynb\" target=\"_parent\"><img src=\"https://colab.research.google.com/assets/colab-badge.svg\" alt=\"Open In Colab\"/></a>"
      ]
    },
    {
      "cell_type": "markdown",
      "source": [
        "# 2 使用 Python 呼叫 API\n",
        "\n",
        "OpenAI 官方提供有 openai 套件, 可以簡化直接使用 requests 模組的複雜度。"
      ],
      "metadata": {
        "id": "a42M4mg1qNQ5"
      }
    },
    {
      "cell_type": "markdown",
      "source": [
        "## 2-1 使用官方 openai 套件"
      ],
      "metadata": {
        "id": "IQrw-pWsth0b"
      }
    },
    {
      "cell_type": "markdown",
      "source": [
        "### 安裝與使用 openai **套件**"
      ],
      "metadata": {
        "id": "rwGTl75BLNwu"
      }
    },
    {
      "cell_type": "code",
      "execution_count": null,
      "metadata": {
        "id": "V9x1F86C4T9u"
      },
      "outputs": [],
      "source": [
        "!pip install openai"
      ]
    },
    {
      "cell_type": "code",
      "source": [
        "import openai\n",
        "client = openai.OpenAI(api_key='你的金鑰')"
      ],
      "metadata": {
        "id": "YUrSE6EAtPat"
      },
      "execution_count": null,
      "outputs": []
    },
    {
      "cell_type": "code",
      "source": [
        "reply = client.chat.completions.create(\n",
        "    model = \"gpt-3.5-turbo\",\n",
        "    # model = \"gpt-4\",\n",
        "    messages = [\n",
        "        {\"role\":\"user\", \"content\": \"你好\"}\n",
        "    ]\n",
        ")"
      ],
      "metadata": {
        "id": "OBkpRomPEXd1"
      },
      "execution_count": null,
      "outputs": []
    },
    {
      "cell_type": "markdown",
      "source": [
        "檢視傳回物件"
      ],
      "metadata": {
        "id": "pyelatvvLiIn"
      }
    },
    {
      "cell_type": "code",
      "source": [
        "print(reply)"
      ],
      "metadata": {
        "id": "aSjownHrGnde"
      },
      "execution_count": null,
      "outputs": []
    },
    {
      "cell_type": "code",
      "source": [
        "!pip install rich"
      ],
      "metadata": {
        "id": "k1ZiBQSrtj_N"
      },
      "execution_count": null,
      "outputs": []
    },
    {
      "cell_type": "code",
      "source": [
        "from rich import print as pprint\n",
        "pprint(reply)"
      ],
      "metadata": {
        "id": "KtgXUDs9tn1N"
      },
      "execution_count": null,
      "outputs": []
    },
    {
      "cell_type": "code",
      "source": [
        "print(reply.choices[0].message.content)"
      ],
      "metadata": {
        "id": "oDHvn0VCGPzH"
      },
      "execution_count": null,
      "outputs": []
    },
    {
      "cell_type": "markdown",
      "source": [
        "### 直接透過模組使用 API"
      ],
      "metadata": {
        "id": "Ev4TvoQ3ps-z"
      }
    },
    {
      "cell_type": "code",
      "source": [
        "openai.api_key = '你的金鑰'\n",
        "\n",
        "reply = openai.chat.completions.create(\n",
        "    model = \"gpt-3.5-turbo\",\n",
        "    # model = \"gpt-4\",\n",
        "    messages = [\n",
        "        {\"role\":\"user\", \"content\": \"你好\"}\n",
        "    ]\n",
        ")\n",
        "\n",
        "print(reply.choices[0].message.content)"
      ],
      "metadata": {
        "id": "gvomwkY3pwNx"
      },
      "execution_count": null,
      "outputs": []
    },
    {
      "cell_type": "code",
      "source": [
        "pprint(reply)"
      ],
      "metadata": {
        "id": "joNfGjzFJb5q"
      },
      "execution_count": null,
      "outputs": []
    },
    {
      "cell_type": "code",
      "source": [
        "print(reply.choices[0].message.content)"
      ],
      "metadata": {
        "id": "48eLL4VEQGza"
      },
      "execution_count": null,
      "outputs": []
    },
    {
      "cell_type": "markdown",
      "source": [
        "### 傳遞多筆訊息"
      ],
      "metadata": {
        "id": "BP5FkDxALp4e"
      }
    },
    {
      "cell_type": "code",
      "source": [
        "reply = client.chat.completions.create(\n",
        "    model = \"gpt-3.5-turbo\",\n",
        "    messages = [\n",
        "        {\"role\":\"system\",\n",
        "         \"content\":\"你是條住在深海、只會台灣中文的魚\"},\n",
        "        {\"role\":\"user\", \"content\": \"你住的地方很亮嗎？\"}\n",
        "    ]\n",
        ")"
      ],
      "metadata": {
        "id": "j1x0glPsNJe2"
      },
      "execution_count": null,
      "outputs": []
    },
    {
      "cell_type": "code",
      "source": [
        "print(reply.choices[0].message.content)"
      ],
      "metadata": {
        "id": "P_EyFHjnu3-7"
      },
      "execution_count": null,
      "outputs": []
    },
    {
      "cell_type": "markdown",
      "source": [
        "### 設定與隱藏金鑰的方法\n",
        "\n",
        "Colab 提供有 Secret, 可以依帳戶儲存機密資料, 並設定是否允許必記本存取。機密資料不會隨筆記本分享出去, 只有帳戶擁有者才能讀取。"
      ],
      "metadata": {
        "id": "7KJQF5gbmnD0"
      }
    },
    {
      "cell_type": "code",
      "source": [
        "from google.colab import userdata\n",
        "userdata.get('OPENAI_API_KEY')"
      ],
      "metadata": {
        "id": "Bl8V96ifcvDn"
      },
      "execution_count": null,
      "outputs": []
    },
    {
      "cell_type": "markdown",
      "source": [
        "程式中就可以不用出現金鑰了"
      ],
      "metadata": {
        "id": "oNlCvuaWLBgt"
      }
    },
    {
      "cell_type": "markdown",
      "source": [
        "## 2-2 認識 token"
      ],
      "metadata": {
        "id": "65D0ie-qt8_d"
      }
    },
    {
      "cell_type": "markdown",
      "source": [
        "### 使用 tiktoken 套件計算精確 token 數\n"
      ],
      "metadata": {
        "id": "2Z-Ab0R2Kg4V"
      }
    },
    {
      "cell_type": "code",
      "source": [
        "!pip install tiktoken\n",
        "import tiktoken"
      ],
      "metadata": {
        "id": "L98OeqzKjJVm"
      },
      "execution_count": null,
      "outputs": []
    },
    {
      "cell_type": "code",
      "source": [
        "encoder = tiktoken.encoding_for_model('gpt-3.5-turbo')\n",
        "print(encoder.name)\n",
        "encoder = tiktoken.encoding_for_model('gpt-4')\n",
        "print(encoder.name)"
      ],
      "metadata": {
        "id": "SZxDdv76jrvO"
      },
      "execution_count": null,
      "outputs": []
    },
    {
      "cell_type": "code",
      "source": [
        "tokens = encoder.encode(\"你好\")\n",
        "print(tokens)\n",
        "print(encoder.decode(tokens))"
      ],
      "metadata": {
        "id": "O8SFWn0HHtsp"
      },
      "execution_count": null,
      "outputs": []
    },
    {
      "cell_type": "markdown",
      "source": [
        "### ChatML 標記語言"
      ],
      "metadata": {
        "id": "0Pqpu0XGMDcD"
      }
    },
    {
      "cell_type": "code",
      "source": [
        "print(encoder.encode(\"user\"))\n",
        "print(encoder.encode(\"assistant\"))\n",
        "print(encoder.encode(\"system\"))\n",
        "print(encoder.encode(\"\\n\"))"
      ],
      "metadata": {
        "id": "tWDiULI-My-x"
      },
      "execution_count": null,
      "outputs": []
    },
    {
      "cell_type": "markdown",
      "source": [
        "計算 message 總 tokens 數"
      ],
      "metadata": {
        "id": "Pp8Dlbd8MNPL"
      }
    },
    {
      "cell_type": "code",
      "source": [
        "def tokens_in_messages(messages, model=\"gpt-3.5-turbo\",\n",
        "                       show=False):\n",
        "    totals = 0\n",
        "    for message in messages:\n",
        "        for k in message:\n",
        "            if k == \"content\":\n",
        "                totals += 4 # <|im_start|>user\\n{內容}<|im_end|>\n",
        "                totals += len(encoder.encode(message[k]))\n",
        "    totals += 3 # <|im_start|>assistant<|message|>\n",
        "    return totals"
      ],
      "metadata": {
        "id": "UTMcDBnLuz4Z"
      },
      "execution_count": null,
      "outputs": []
    },
    {
      "cell_type": "code",
      "source": [
        "print(tokens_in_messages([\n",
        "        {\"role\":\"user\", \"content\": \"你好\"}\n",
        "    ]))"
      ],
      "metadata": {
        "id": "bHO6ozY5wT4J"
      },
      "execution_count": null,
      "outputs": []
    },
    {
      "cell_type": "markdown",
      "source": [
        "## 2-3 使用 Python requests 模組呼叫 API"
      ],
      "metadata": {
        "id": "IeuwNf0Yu1Ns"
      }
    },
    {
      "cell_type": "markdown",
      "source": [
        "### 使用 Python requests 模組\n",
        "\n",
        "Python 提供有 requests 模組, 可以快速發送 HTTP 請求。<br>\n",
        "利用 requests 模組叫用 API。"
      ],
      "metadata": {
        "id": "mKw5tOFpKonw"
      }
    },
    {
      "cell_type": "code",
      "source": [
        "# 如果是要在本機上執行, 必須安裝 requests 套件\n",
        "!pip install requests"
      ],
      "metadata": {
        "id": "ss8DbRyEibHA"
      },
      "execution_count": null,
      "outputs": []
    },
    {
      "cell_type": "code",
      "source": [
        "import requests\n",
        "import os\n",
        "\n",
        "response = requests.post(\n",
        "    'https://api.openai.com/v1/chat/completions',\n",
        "    headers = {\n",
        "        'Content-Type': 'application/json',\n",
        "        'Authorization': f'Bearer {userdata.get(\"OPENAI_API_KEY\")}'\n",
        "    },\n",
        "    json = {\n",
        "        'model': 'gpt-3.5-turbo',\n",
        "        \"messages\": [{\"role\": \"user\", \"content\": \"你好\"}]}\n",
        ")"
      ],
      "metadata": {
        "id": "uAm9PP81kJ2Z"
      },
      "execution_count": null,
      "outputs": []
    },
    {
      "cell_type": "code",
      "source": [
        "reply = response.json()"
      ],
      "metadata": {
        "id": "_LWTNsg3KYfC"
      },
      "execution_count": null,
      "outputs": []
    },
    {
      "cell_type": "code",
      "source": [
        "pprint(reply)"
      ],
      "metadata": {
        "id": "c_wdjKa2xdZI"
      },
      "execution_count": null,
      "outputs": []
    },
    {
      "cell_type": "code",
      "source": [
        "print(reply[\"choices\"][0][\"message\"][\"content\"])"
      ],
      "metadata": {
        "id": "em0QqDHkxDtO"
      },
      "execution_count": null,
      "outputs": []
    },
    {
      "cell_type": "markdown",
      "source": [
        "### 利用 curl 工具快速測試 API\n"
      ],
      "metadata": {
        "id": "K8zuEzkFKNjQ"
      }
    },
    {
      "cell_type": "code",
      "source": [
        "import os\n",
        "os.environ['OPENAI_API_KEY'] = userdata.get(\"OPENAI_API_KEY\")"
      ],
      "metadata": {
        "id": "asI4Linsx6a3"
      },
      "execution_count": null,
      "outputs": []
    },
    {
      "cell_type": "code",
      "source": [
        "%%bash\n",
        "curl -s https://api.openai.com/v1/chat/completions \\\n",
        "-H 'Content-Type: application/json' \\\n",
        "-H \"Authorization: Bearer $OPENAI_API_KEY\" \\\n",
        "-d '{\n",
        "      \"model\": \"gpt-3.5-turbo\",\n",
        "      \"messages\": [\n",
        "        {\n",
        "          \"role\": \"user\", \"content\": \"你好\"\n",
        "        }\n",
        "      ]\n",
        "    }'"
      ],
      "metadata": {
        "id": "shYWnoMHXO9V"
      },
      "execution_count": null,
      "outputs": []
    },
    {
      "cell_type": "markdown",
      "source": [
        "## 2-4 加入組織成員"
      ],
      "metadata": {
        "id": "OrfD1QvfNb-E"
      }
    },
    {
      "cell_type": "code",
      "source": [
        "client = openai.OpenAI(\n",
        "    api_key=userdata.get('OPENAI_API_KEY'),\n",
        "    organization='你的組織識別碼'\n",
        ")\n",
        "\n",
        "reply = client.chat.completions.create(\n",
        "    model = \"gpt-3.5-turbo\",\n",
        "    # model = \"gpt-4\",\n",
        "    messages = [\n",
        "        {\"role\":\"user\", \"content\": \"你好\"}\n",
        "    ]\n",
        ")\n",
        "\n",
        "print(reply.choices[0].message.content)"
      ],
      "metadata": {
        "id": "hMnIMxKjNhq_"
      },
      "execution_count": null,
      "outputs": []
    },
    {
      "cell_type": "code",
      "source": [
        "import requests\n",
        "import os\n",
        "\n",
        "response = requests.post(\n",
        "    'https://api.openai.com/v1/chat/completions',\n",
        "    headers = {\n",
        "        'Content-Type': 'application/json',\n",
        "        'Authorization': f'Bearer {userdata.get(\"OPENAI_API_KEY\")}',\n",
        "        'OpenAI-Organization': '你的組織識別碼'\n",
        "    },\n",
        "    json = {\n",
        "        'model': 'gpt-3.5-turbo',\n",
        "        \"messages\": [{\"role\": \"user\", \"content\": \"你好\"}]}\n",
        ")\n",
        "\n",
        "print(response.json()['choices'][0]['message']['content'])"
      ],
      "metadata": {
        "id": "rFTHNgTgTomy"
      },
      "execution_count": null,
      "outputs": []
    },
    {
      "cell_type": "code",
      "source": [
        "%%bash\n",
        "curl -s https://api.openai.com/v1/chat/completions \\\n",
        "-H 'Content-Type: application/json' \\\n",
        "-H \"Authorization: Bearer $OPENAI_API_KEY\" \\\n",
        "-H \"OpenAI-Organization: 請換成你的組織識別碼\" \\\n",
        "-d '{\n",
        "      \"model\": \"gpt-3.5-turbo\",\n",
        "      \"messages\": [\n",
        "        {\n",
        "          \"role\": \"user\", \"content\": \"你好\"\n",
        "        }\n",
        "      ]\n",
        "    }'"
      ],
      "metadata": {
        "id": "WoN8zKuEVdql"
      },
      "execution_count": null,
      "outputs": []
    }
  ]
}